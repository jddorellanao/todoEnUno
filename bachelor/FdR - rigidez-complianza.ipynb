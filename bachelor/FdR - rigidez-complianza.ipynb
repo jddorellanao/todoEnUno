{
 "cells": [
  {
   "cell_type": "code",
   "execution_count": 1,
   "metadata": {},
   "outputs": [],
   "source": [
    "import numpy as np"
   ]
  },
  {
   "cell_type": "code",
   "execution_count": 2,
   "metadata": {},
   "outputs": [],
   "source": [
    "#definicion de variables\r\n",
    "E=95\r\n",
    "nu=0.07\r\n",
    "mu=E/(2*(1+nu))\r\n",
    "K=E/(3*(1-2*nu))"
   ]
  },
  {
   "cell_type": "code",
   "execution_count": 3,
   "metadata": {},
   "outputs": [],
   "source": [
    "#coeficientes\r\n",
    "c11=K+4/3*mu\r\n",
    "c22=c11\r\n",
    "c33=c11\r\n",
    "c12=K-2/3*mu\r\n",
    "c13=c12\r\n",
    "c21=c12\r\n",
    "c23=c21\r\n",
    "c32=c23\r\n",
    "c31=c13\r\n",
    "c44=mu\r\n",
    "c55=mu\r\n",
    "c66=mu\r\n",
    "c44=mu"
   ]
  },
  {
   "cell_type": "code",
   "execution_count": 4,
   "metadata": {},
   "outputs": [
    {
     "data": {
      "text/plain": [
       "array([[96.0117,  7.2267,  7.2267,  0.    ,  0.    ,  0.    ],\n",
       "       [ 7.2267, 96.0117,  7.2267,  0.    ,  0.    ,  0.    ],\n",
       "       [ 7.2267,  7.2267, 96.0117,  0.    ,  0.    ,  0.    ],\n",
       "       [ 0.    ,  0.    ,  0.    , 44.3925,  0.    ,  0.    ],\n",
       "       [ 0.    ,  0.    ,  0.    ,  0.    , 44.3925,  0.    ],\n",
       "       [ 0.    ,  0.    ,  0.    ,  0.    ,  0.    , 44.3925]])"
      ]
     },
     "execution_count": 4,
     "metadata": {},
     "output_type": "execute_result"
    }
   ],
   "source": [
    "#matriz de rigidez\r\n",
    "R=np.array([[c11, c12, c13, 0, 0, 0],\r\n",
    "            [c21, c22, c23, 0, 0, 0],\r\n",
    "            [c31, c32, c33, 0, 0, 0],\r\n",
    "            [0, 0, 0, c44, 0, 0],\r\n",
    "            [0, 0, 0, 0, c55, 0],\r\n",
    "            [0, 0, 0, 0, 0, c66]\r\n",
    "            ])\r\n",
    "np.round(R,4)"
   ]
  },
  {
   "cell_type": "code",
   "execution_count": 5,
   "metadata": {},
   "outputs": [
    {
     "data": {
      "text/plain": [
       "array([[ 0.0105, -0.0007, -0.0007,  0.    ,  0.    ,  0.    ],\n",
       "       [-0.0007,  0.0105, -0.0007,  0.    ,  0.    ,  0.    ],\n",
       "       [-0.0007, -0.0007,  0.0105,  0.    ,  0.    ,  0.    ],\n",
       "       [ 0.    ,  0.    ,  0.    ,  0.0225,  0.    ,  0.    ],\n",
       "       [ 0.    ,  0.    ,  0.    ,  0.    ,  0.0225,  0.    ],\n",
       "       [ 0.    ,  0.    ,  0.    ,  0.    ,  0.    ,  0.0225]])"
      ]
     },
     "execution_count": 5,
     "metadata": {},
     "output_type": "execute_result"
    }
   ],
   "source": [
    "#matriz de complianza\r\n",
    "c=np.array([[1, -nu, -nu, 0, 0, 0],\r\n",
    "            [-nu, 1, -nu, 0, 0, 0],\r\n",
    "            [-nu, -nu, 1, 0, 0, 0],\r\n",
    "            [0, 0, 0, 2*(1+nu), 0, 0],\r\n",
    "            [0, 0, 0, 0, 2*(1+nu), 0],\r\n",
    "            [0, 0, 0, 0, 0, 2*(1+nu)]\r\n",
    "            ])\r\n",
    "C=(1/E)*c\r\n",
    "np.round(C,4)"
   ]
  },
  {
   "cell_type": "code",
   "execution_count": 6,
   "metadata": {},
   "outputs": [
    {
     "data": {
      "text/plain": [
       "array([[ 1., -0., -0.,  0.,  0.,  0.],\n",
       "       [-0.,  1., -0.,  0.,  0.,  0.],\n",
       "       [-0., -0.,  1.,  0.,  0.,  0.],\n",
       "       [ 0.,  0.,  0.,  1.,  0.,  0.],\n",
       "       [ 0.,  0.,  0.,  0.,  1.,  0.],\n",
       "       [ 0.,  0.,  0.,  0.,  0.,  1.]])"
      ]
     },
     "execution_count": 6,
     "metadata": {},
     "output_type": "execute_result"
    }
   ],
   "source": [
    "np.round(C*R)"
   ]
  }
 ],
 "metadata": {
  "interpreter": {
   "hash": "edc5782cc39ff186cbb1a442b7bba24d37c66058d401cd7a5e489979c1a69a63"
  },
  "kernelspec": {
   "display_name": "Python 3.8.3 32-bit",
   "name": "python3"
  },
  "language_info": {
   "codemirror_mode": {
    "name": "ipython",
    "version": 3
   },
   "file_extension": ".py",
   "mimetype": "text/x-python",
   "name": "python",
   "nbconvert_exporter": "python",
   "pygments_lexer": "ipython3",
   "version": "3.8.3"
  },
  "orig_nbformat": 4
 },
 "nbformat": 4,
 "nbformat_minor": 2
}