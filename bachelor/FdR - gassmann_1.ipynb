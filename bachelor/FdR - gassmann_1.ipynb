{
    "cells": [
        {
            "cell_type": "markdown",
            "source": [
                "Gassmann 1"
            ],
            "metadata": {}
        },
        {
            "cell_type": "code",
            "execution_count": 1,
            "source": [
                "import matplotlib.pyplot as plt\r\n",
                "import numpy as np\r\n",
                "plt.style.use(['science', 'notebook', 'grid'])"
            ],
            "outputs": [],
            "metadata": {}
        },
        {
            "cell_type": "code",
            "execution_count": 2,
            "source": [
                "km=9.8e10\r\n",
                "kfl1=1.15e8\r\n",
                "kfl2=1.3e9\r\n",
                "rhom=2.82e3\r\n",
                "rhofl1=3.1e2\r\n",
                "rhofl2=1e3\r\n",
                "Vp1=7349\r\n",
                "Vs1=3960\r\n",
                "Phi=0.11"
            ],
            "outputs": [],
            "metadata": {}
        },
        {
            "cell_type": "code",
            "execution_count": 3,
            "source": [
                "#calculos\r\n",
                "print('rho bulk ' +str(rhom*(1-Phi)+Phi*rhofl1))\r\n",
                "M=Vp1**2*(rhom*(1-Phi)+Phi*rhofl1)\r\n",
                "print('M '+str(\"{:.3e}\".format(M)))\r\n",
                "mu1=Vs1**2*((1-Phi)*rhom+Phi*rhofl1)\r\n",
                "print('mu1 '+str(\"{:.3e}\".format(mu1)))\r\n",
                "k1=M-(4/3)*mu1\r\n",
                "print('k1 '+str(\"{:.3e}\".format(k1)))\r\n",
                "\r\n",
                "kdry=(k1*(1-Phi)+k1*km/kfl1*Phi-km)/(k1/km+km/kfl1*Phi-1-Phi)\r\n",
                "print('kdry '+str(\"{:.3e}\".format(kdry)))\r\n",
                "k2=kdry+((1-(kdry/km))**2)/(Phi/kfl2+(1-Phi)/km-kdry/(km**2))\r\n",
                "print('k2 '+str(\"{:.3e}\".format(k2)))\r\n",
                "M2=k2+(4/3)*mu1\r\n",
                "print('M2 '+str(\"{:.3e}\".format(M2)))\r\n",
                "\r\n",
                "print('rho2 '+str((1-Phi)*rhom+Phi*rhofl2))\r\n",
                "Vp2=(M2/((1-Phi)*rhom+Phi*rhofl2))**0.5\r\n",
                "print('vp2 '+str(np.round(Vp2)))\r\n",
                "Vs2=(mu1/((1-Phi)*rhom+Phi*rhofl2))**0.5\r\n",
                "print('vs2 '+str(np.round(Vs2)))"
            ],
            "outputs": [
                {
                    "output_type": "stream",
                    "name": "stdout",
                    "text": [
                        "rho bulk 2543.9\n",
                        "M 1.374e+11\n",
                        "mu1 3.989e+10\n",
                        "k1 8.420e+10\n",
                        "kdry 8.418e+10\n",
                        "k2 8.441e+10\n",
                        "M2 1.376e+11\n",
                        "rho2 2619.8\n",
                        "vp2 7247.0\n",
                        "vs2 3902.0\n"
                    ]
                }
            ],
            "metadata": {}
        }
    ],
    "metadata": {
        "orig_nbformat": 4,
        "language_info": {
            "name": "python"
        }
    },
    "nbformat": 4,
    "nbformat_minor": 2
}