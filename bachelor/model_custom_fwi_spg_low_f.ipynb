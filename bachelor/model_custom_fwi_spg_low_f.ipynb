{
 "cells": [
  {
   "attachments": {},
   "cell_type": "markdown",
   "metadata": {},
   "source": [
    "# FWI modelo personalizado"
   ]
  },
  {
   "cell_type": "code",
   "execution_count": 1,
   "metadata": {},
   "outputs": [],
   "source": [
    "using PyPlot, JLD, SegyIO, JUDI, SlimOptim, Statistics, Random, LinearAlgebra, ImageFiltering"
   ]
  },
  {
   "cell_type": "code",
   "execution_count": 2,
   "metadata": {},
   "outputs": [],
   "source": [
    "M = load(\"model_custom.jld\");"
   ]
  },
  {
   "cell_type": "code",
   "execution_count": 3,
   "metadata": {},
   "outputs": [],
   "source": [
    "#model = Model(M[\"n\"], M[\"d\"], M[\"o\"], M[\"m\"])\n",
    "model0 = Model(M[\"n\"], M[\"d\"], M[\"o\"], M[\"m0\"])\n",
    "dm = vec(M[\"dm\"]);"
   ]
  },
  {
   "cell_type": "code",
   "execution_count": 4,
   "metadata": {},
   "outputs": [],
   "source": [
    "vmin = ones(Float32,model0.n) .* 1.5f0\n",
    "vmax = ones(Float32,model0.n) .* 3.0f0;\n",
    "mmin = vec((1f0 ./ vmax).^2)\n",
    "mmax = vec((1f0 ./ vmin).^2);"
   ]
  },
  {
   "cell_type": "code",
   "execution_count": 5,
   "metadata": {},
   "outputs": [
    {
     "name": "stderr",
     "output_type": "stream",
     "text": [
      "┌ Warning: Fixed length trace flag set in stream: IOBuffer(data=UInt8[...], readable=true, writable=false, seekable=true, append=false, size=4763124, maxsize=Inf, ptr=3601, mark=-1)\n",
      "└ @ SegyIO /home/geouser/.julia/packages/SegyIO/aQwou/src/read/read_file.jl:36\n"
     ]
    }
   ],
   "source": [
    "block = segy_read(\"model_custom_low_f.segy\")\n",
    "d_obs = judiVector(block);"
   ]
  },
  {
   "cell_type": "code",
   "execution_count": 6,
   "metadata": {},
   "outputs": [
    {
     "name": "stdout",
     "output_type": "stream",
     "text": [
      "judiVector{Float32, Matrix{Float32}} with 21 sources\n"
     ]
    }
   ],
   "source": [
    "# Set up wavelet\n",
    "srcGeometry = Geometry(block; key=\"source\")\t# read source position geometry\n",
    "wavelet = ricker_wavelet(srcGeometry.t[1], srcGeometry.dt[1], 0.004f0)\t# 4 Hz wavelet\n",
    "q = judiVector(srcGeometry, wavelet)"
   ]
  },
  {
   "cell_type": "code",
   "execution_count": 7,
   "metadata": {},
   "outputs": [
    {
     "name": "stdout",
     "output_type": "stream",
     "text": [
      "JUDI forward{Float32} propagator (src * rec * time) -> (src * rec * time)\n"
     ]
    }
   ],
   "source": [
    "F0 = judiModeling(deepcopy(model0), srcGeometry, d_obs.geometry)"
   ]
  },
  {
   "cell_type": "code",
   "execution_count": 13,
   "metadata": {},
   "outputs": [],
   "source": [
    "# Optimization parameters\n",
    "niterations = parse(Int, get(ENV, \"NITER\", \"30\"))\n",
    "batchsize = 16\n",
    "fhistory_SGD = zeros(Float32, niterations);\n",
    "m0_values = zeros(length(model0.m), niterations);"
   ]
  },
  {
   "cell_type": "code",
   "execution_count": 14,
   "metadata": {},
   "outputs": [],
   "source": [
    "# Projection operator for bound constraints\n",
    "proj(x) = reshape(median([vec(mmin) vec(x) vec(mmax)]; dims=2),model0.n)\n",
    "ls = BackTracking(order=3, iterations=10, );"
   ]
  },
  {
   "cell_type": "code",
   "execution_count": 15,
   "metadata": {},
   "outputs": [
    {
     "name": "stdout",
     "output_type": "stream",
     "text": [
      "FWI iteration no: 1; function value: 61043.07\n",
      "(α, misfit) = "
     ]
    },
    {
     "name": "stderr",
     "output_type": "stream",
     "text": [
      "Building forward operator\n",
      "/home/geouser/.local/lib/python3.9/site-packages/numpy/core/getlimits.py:518: UserWarning: The value of the smallest subnormal for <class 'numpy.float32'> type is zero.\n",
      "  setattr(self, word, getattr(machar, word).flat[0])\n",
      "/home/geouser/.local/lib/python3.9/site-packages/numpy/core/getlimits.py:89: UserWarning: The value of the smallest subnormal for <class 'numpy.float32'> type is zero.\n",
      "  return self._float_to_str(self.smallest_subnormal)\n",
      "Operator `forward` ran in 0.02 s\n",
      "Building adjoint born operator\n",
      "Operator `gradient` ran in 0.02 s\n",
      "Operator `forward` ran in 0.02 s\n",
      "Operator `gradient` ran in 0.02 s\n",
      "Operator `forward` ran in 0.02 s\n",
      "Operator `gradient` ran in 0.02 s\n",
      "Operator `forward` ran in 0.02 s\n",
      "Operator `gradient` ran in 0.02 s\n",
      "Operator `forward` ran in 0.02 s\n",
      "Operator `gradient` ran in 0.02 s\n",
      "Operator `forward` ran in 0.02 s\n",
      "Operator `gradient` ran in 0.02 s\n",
      "Operator `forward` ran in 0.02 s\n",
      "Operator `gradient` ran in 0.02 s\n",
      "Operator `forward` ran in 0.02 s\n",
      "Operator `gradient` ran in 0.02 s\n",
      "Operator `forward` ran in 0.02 s\n",
      "Operator `gradient` ran in 0.02 s\n",
      "Operator `forward` ran in 0.02 s\n",
      "Operator `gradient` ran in 0.02 s\n",
      "Operator `forward` ran in 0.02 s\n",
      "Operator `gradient` ran in 0.02 s\n",
      "Operator `forward` ran in 0.02 s\n",
      "Operator `gradient` ran in 0.02 s\n",
      "Operator `forward` ran in 0.02 s\n",
      "Operator `gradient` ran in 0.02 s\n",
      "Operator `forward` ran in 0.02 s\n",
      "Operator `gradient` ran in 0.02 s\n",
      "Operator `forward` ran in 0.02 s\n",
      "Operator `gradient` ran in 0.02 s\n",
      "Operator `forward` ran in 0.02 s\n",
      "Operator `gradient` ran in 0.02 s\n"
     ]
    },
    {
     "name": "stdout",
     "output_type": "stream",
     "text": [
      "(0.1f0, 100971.328125)\n"
     ]
    },
    {
     "name": "stderr",
     "output_type": "stream",
     "text": [
      "Building forward operator\n",
      "Operator `forward` ran in 0.01 s\n",
      "Operator `forward` ran in 0.01 s\n",
      "Operator `forward` ran in 0.01 s\n",
      "Operator `forward` ran in 0.03 s\n",
      "Operator `forward` ran in 0.01 s\n",
      "Operator `forward` ran in 0.01 s\n",
      "Operator `forward` ran in 0.02 s\n",
      "Operator `forward` ran in 0.01 s\n",
      "Operator `forward` ran in 0.01 s\n",
      "Operator `forward` ran in 0.01 s\n",
      "Operator `forward` ran in 0.01 s\n",
      "Operator `forward` ran in 0.01 s\n",
      "Operator `forward` ran in 0.01 s\n",
      "Operator `forward` ran in 0.02 s\n",
      "Operator `forward` ran in 0.01 s\n",
      "Operator `forward` ran in 0.01 s\n"
     ]
    },
    {
     "name": "stdout",
     "output_type": "stream",
     "text": [
      "(α, misfit) = (0.041390269922676075, 23790.8828125)\n",
      "FWI iteration no: "
     ]
    },
    {
     "name": "stderr",
     "output_type": "stream",
     "text": [
      "Operator `forward` ran in 0.01 s\n",
      "Operator `forward` ran in 0.02 s\n",
      "Operator `forward` ran in 0.02 s\n",
      "Operator `forward` ran in 0.01 s\n",
      "Operator `forward` ran in 0.01 s\n",
      "Operator `forward` ran in 0.03 s\n",
      "Operator `forward` ran in 0.01 s\n",
      "Operator `forward` ran in 0.01 s\n",
      "Operator `forward` ran in 0.02 s\n",
      "Operator `forward` ran in 0.01 s\n",
      "Operator `forward` ran in 0.02 s\n",
      "Operator `forward` ran in 0.01 s\n",
      "Operator `forward` ran in 0.01 s\n",
      "Operator `forward` ran in 0.01 s\n",
      "Operator `forward` ran in 0.01 s\n",
      "Operator `forward` ran in 0.01 s\n"
     ]
    },
    {
     "name": "stdout",
     "output_type": "stream",
     "text": [
      "2; function value: 23885.797\n"
     ]
    },
    {
     "name": "stderr",
     "output_type": "stream",
     "text": [
      "Operator `forward` ran in 0.02 s\n",
      "Operator `gradient` ran in 0.02 s\n",
      "Operator `forward` ran in 0.02 s\n",
      "Operator `gradient` ran in 0.02 s\n",
      "Operator `forward` ran in 0.02 s\n",
      "Operator `gradient` ran in 0.02 s\n",
      "Operator `forward` ran in 0.02 s\n",
      "Operator `gradient` ran in 0.02 s\n",
      "Operator `forward` ran in 0.02 s\n",
      "Operator `gradient` ran in 0.02 s\n",
      "Operator `forward` ran in 0.02 s\n",
      "Operator `gradient` ran in 0.02 s\n",
      "Operator `forward` ran in 0.02 s\n",
      "Operator `gradient` ran in 0.02 s\n",
      "Operator `forward` ran in 0.02 s\n",
      "Operator `gradient` ran in 0.02 s\n",
      "Operator `forward` ran in 0.02 s\n",
      "Operator `gradient` ran in 0.02 s\n",
      "Operator `forward` ran in 0.02 s\n",
      "Operator `gradient` ran in 0.02 s\n",
      "Operator `forward` ran in 0.02 s\n",
      "Operator `gradient` ran in 0.02 s\n",
      "Operator `forward` ran in 0.02 s\n",
      "Operator `gradient` ran in 0.02 s\n",
      "Operator `forward` ran in 0.02 s\n",
      "Operator `gradient` ran in 0.02 s\n",
      "Operator `forward` ran in 0.02 s\n",
      "Operator `gradient` ran in 0.02 s\n",
      "Operator `forward` ran in 0.02 s\n",
      "Operator `gradient` ran in 0.02 s\n",
      "Operator `forward` ran in 0.02 s\n",
      "Operator `gradient` ran in 0.02 s\n"
     ]
    },
    {
     "name": "stdout",
     "output_type": "stream",
     "text": [
      "(α, misfit) = (0.1f0, 7381.31494140625)\n",
      "FWI iteration no: "
     ]
    },
    {
     "name": "stderr",
     "output_type": "stream",
     "text": [
      "Operator `forward` ran in 0.01 s\n",
      "Operator `forward` ran in 0.02 s\n",
      "Operator `forward` ran in 0.01 s\n",
      "Operator `forward` ran in 0.01 s\n",
      "Operator `forward` ran in 0.01 s\n",
      "Operator `forward` ran in 0.01 s\n",
      "Operator `forward` ran in 0.01 s\n",
      "Operator `forward` ran in 0.02 s\n",
      "Operator `forward` ran in 0.02 s\n",
      "Operator `forward` ran in 0.01 s\n",
      "Operator `forward` ran in 0.01 s\n",
      "Operator `forward` ran in 0.01 s\n",
      "Operator `forward` ran in 0.01 s\n",
      "Operator `forward` ran in 0.01 s\n",
      "Operator `forward` ran in 0.01 s\n",
      "Operator `forward` ran in 0.02 s\n"
     ]
    },
    {
     "name": "stdout",
     "output_type": "stream",
     "text": [
      "3; function value: 8068.2866\n"
     ]
    },
    {
     "name": "stderr",
     "output_type": "stream",
     "text": [
      "Operator `forward` ran in 0.02 s\n",
      "Operator `gradient` ran in 0.02 s\n",
      "Operator `forward` ran in 0.02 s\n",
      "Operator `gradient` ran in 0.02 s\n",
      "Operator `forward` ran in 0.02 s\n",
      "Operator `gradient` ran in 0.02 s\n",
      "Operator `forward` ran in 0.02 s\n",
      "Operator `gradient` ran in 0.02 s\n",
      "Operator `forward` ran in 0.02 s\n",
      "Operator `gradient` ran in 0.02 s\n",
      "Operator `forward` ran in 0.02 s\n",
      "Operator `gradient` ran in 0.02 s\n",
      "Operator `forward` ran in 0.02 s\n",
      "Operator `gradient` ran in 0.02 s\n",
      "Operator `forward` ran in 0.02 s\n",
      "Operator `gradient` ran in 0.02 s\n",
      "Operator `forward` ran in 0.02 s\n",
      "Operator `gradient` ran in 0.02 s\n",
      "Operator `forward` ran in 0.02 s\n",
      "Operator `gradient` ran in 0.02 s\n",
      "Operator `forward` ran in 0.02 s\n",
      "Operator `gradient` ran in 0.02 s\n",
      "Operator `forward` ran in 0.02 s\n",
      "Operator `gradient` ran in 0.02 s\n",
      "Operator `forward` ran in 0.02 s\n",
      "Operator `gradient` ran in 0.02 s\n",
      "Operator `forward` ran in 0.02 s\n",
      "Operator `gradient` ran in 0.02 s\n",
      "Operator `forward` ran in 0.02 s\n",
      "Operator `gradient` ran in 0.02 s\n",
      "Operator `forward` ran in 0.02 s\n",
      "Operator `gradient` ran in 0.02 s\n"
     ]
    },
    {
     "name": "stdout",
     "output_type": "stream",
     "text": [
      "(α, misfit) = (0.1f0, 957815.1875)\n",
      "(α, misfit) = "
     ]
    },
    {
     "name": "stderr",
     "output_type": "stream",
     "text": [
      "Operator `forward` ran in 0.01 s\n",
      "Operator `forward` ran in 0.02 s\n",
      "Operator `forward` ran in 0.02 s\n",
      "Operator `forward` ran in 0.02 s\n",
      "Operator `forward` ran in 0.02 s\n",
      "Operator `forward` ran in 0.02 s\n",
      "Operator `forward` ran in 0.02 s\n",
      "Operator `forward` ran in 0.02 s\n",
      "Operator `forward` ran in 0.01 s\n",
      "Operator `forward` ran in 0.01 s\n",
      "Operator `forward` ran in 0.01 s\n",
      "Operator `forward` ran in 0.01 s\n",
      "Operator `forward` ran in 0.01 s\n",
      "Operator `forward` ran in 0.01 s\n",
      "Operator `forward` ran in 0.02 s\n",
      "Operator `forward` ran in 0.02 s\n"
     ]
    },
    {
     "name": "stdout",
     "output_type": "stream",
     "text": [
      "(0.010000000149011612, 10073.328125)\n"
     ]
    },
    {
     "name": "stderr",
     "output_type": "stream",
     "text": [
      "Operator `forward` ran in 0.02 s\n",
      "Operator `forward` ran in 0.02 s\n",
      "Operator `forward` ran in 0.01 s\n",
      "Operator `forward` ran in 0.01 s\n",
      "Operator `forward` ran in 0.01 s\n",
      "Operator `forward` ran in 0.01 s\n",
      "Operator `forward` ran in 0.01 s\n",
      "Operator `forward` ran in 0.02 s\n",
      "Operator `forward` ran in 0.01 s\n",
      "Operator `forward` ran in 0.02 s\n",
      "Operator `forward` ran in 0.01 s\n",
      "Operator `forward` ran in 0.02 s\n",
      "Operator `forward` ran in 0.02 s\n",
      "Operator `forward` ran in 0.01 s\n",
      "Operator `forward` ran in 0.01 s\n",
      "Operator `forward` ran in 0.01 s\n"
     ]
    },
    {
     "name": "stdout",
     "output_type": "stream",
     "text": [
      "(α, misfit) = (0.004091339317163616, 5694.87890625)\n",
      "FWI iteration no: "
     ]
    },
    {
     "name": "stderr",
     "output_type": "stream",
     "text": [
      "Operator `forward` ran in 0.01 s\n",
      "Operator `forward` ran in 0.01 s\n",
      "Operator `forward` ran in 0.01 s\n",
      "Operator `forward` ran in 0.01 s\n",
      "Operator `forward` ran in 0.02 s\n",
      "Operator `forward` ran in 0.02 s\n",
      "Operator `forward` ran in 0.02 s\n",
      "Operator `forward` ran in 0.01 s\n",
      "Operator `forward` ran in 0.02 s\n",
      "Operator `forward` ran in 0.01 s\n",
      "Operator `forward` ran in 0.02 s\n",
      "Operator `forward` ran in 0.02 s\n",
      "Operator `forward` ran in 0.01 s\n",
      "Operator `forward` ran in 0.02 s\n",
      "Operator `forward` ran in 0.02 s\n",
      "Operator `forward` ran in 0.02 s\n"
     ]
    },
    {
     "name": "stdout",
     "output_type": "stream",
     "text": [
      "4; function value: 5406.114\n"
     ]
    },
    {
     "name": "stderr",
     "output_type": "stream",
     "text": [
      "Operator `forward` ran in 0.02 s\n",
      "Operator `gradient` ran in 0.02 s\n",
      "Operator `forward` ran in 0.04 s\n",
      "Operator `gradient` ran in 0.02 s\n",
      "Operator `forward` ran in 0.05 s\n",
      "Operator `gradient` ran in 0.02 s\n",
      "Operator `forward` ran in 0.05 s\n",
      "Operator `gradient` ran in 0.02 s\n",
      "Operator `forward` ran in 0.04 s\n",
      "Operator `gradient` ran in 0.02 s\n",
      "Operator `forward` ran in 0.04 s\n",
      "Operator `gradient` ran in 0.02 s\n",
      "Operator `forward` ran in 0.04 s\n",
      "Operator `gradient` ran in 0.02 s\n",
      "Operator `forward` ran in 0.02 s\n",
      "Operator `gradient` ran in 0.02 s\n",
      "Operator `forward` ran in 0.04 s\n",
      "Operator `gradient` ran in 0.02 s\n",
      "Operator `forward` ran in 0.05 s\n",
      "Operator `gradient` ran in 0.02 s\n",
      "Operator `forward` ran in 0.05 s\n",
      "Operator `gradient` ran in 0.02 s\n",
      "Operator `forward` ran in 0.02 s\n",
      "Operator `gradient` ran in 0.02 s\n",
      "Operator `forward` ran in 0.02 s\n",
      "Operator `gradient` ran in 0.02 s\n",
      "Operator `forward` ran in 0.02 s\n",
      "Operator `gradient` ran in 0.02 s\n",
      "Operator `forward` ran in 0.02 s\n",
      "Operator `gradient` ran in 0.02 s\n",
      "Operator `forward` ran in 0.02 s\n",
      "Operator `gradient` ran in 0.02 s\n"
     ]
    },
    {
     "name": "stdout",
     "output_type": "stream",
     "text": [
      "(α, misfit) = (0.1f0, 31029.37890625)\n",
      "(α, misfit) = "
     ]
    },
    {
     "name": "stderr",
     "output_type": "stream",
     "text": [
      "Operator `forward` ran in 0.01 s\n",
      "Operator `forward` ran in 0.02 s\n",
      "Operator `forward` ran in 0.03 s\n",
      "Operator `forward` ran in 0.02 s\n",
      "Operator `forward` ran in 0.01 s\n",
      "Operator `forward` ran in 0.01 s\n",
      "Operator `forward` ran in 0.02 s\n",
      "Operator `forward` ran in 0.01 s\n",
      "Operator `forward` ran in 0.02 s\n",
      "Operator `forward` ran in 0.02 s\n",
      "Operator `forward` ran in 0.02 s\n",
      "Operator `forward` ran in 0.02 s\n",
      "Operator `forward` ran in 0.02 s\n",
      "Operator `forward` ran in 0.01 s\n",
      "Operator `forward` ran in 0.01 s\n",
      "Operator `forward` ran in 0.02 s\n"
     ]
    },
    {
     "name": "stdout",
     "output_type": "stream",
     "text": [
      "(0.03459464172402602, 3378.726318359375)\n"
     ]
    },
    {
     "name": "stderr",
     "output_type": "stream",
     "text": [
      "Operator `forward` ran in 0.03 s\n",
      "Operator `forward` ran in 0.01 s\n",
      "Operator `forward` ran in 0.01 s\n",
      "Operator `forward` ran in 0.02 s\n",
      "Operator `forward` ran in 0.01 s\n",
      "Operator `forward` ran in 0.02 s\n",
      "Operator `forward` ran in 0.02 s\n",
      "Operator `forward` ran in 0.02 s\n",
      "Operator `forward` ran in 0.02 s\n",
      "Operator `forward` ran in 0.02 s\n",
      "Operator `forward` ran in 0.02 s\n",
      "Operator `forward` ran in 0.01 s\n",
      "Operator `forward` ran in 0.02 s\n",
      "Operator `forward` ran in 0.02 s\n",
      "Operator `forward` ran in 0.02 s\n",
      "Operator `forward` ran in 0.02 s\n"
     ]
    },
    {
     "name": "stdout",
     "output_type": "stream",
     "text": [
      "FWI iteration no: 5; function value: 3641.873\n",
      "(α, misfit) = "
     ]
    },
    {
     "name": "stderr",
     "output_type": "stream",
     "text": [
      "Operator `forward` ran in 0.04 s\n",
      "Operator `gradient` ran in 0.02 s\n",
      "Operator `forward` ran in 0.03 s\n",
      "Operator `gradient` ran in 0.02 s\n",
      "Operator `forward` ran in 0.02 s\n",
      "Operator `gradient` ran in 0.02 s\n",
      "Operator `forward` ran in 0.02 s\n",
      "Operator `gradient` ran in 0.02 s\n",
      "Operator `forward` ran in 0.02 s\n",
      "Operator `gradient` ran in 0.03 s\n",
      "Operator `forward` ran in 0.04 s\n",
      "Operator `gradient` ran in 0.02 s\n",
      "Operator `forward` ran in 0.04 s\n",
      "Operator `gradient` ran in 0.02 s\n",
      "Operator `forward` ran in 0.04 s\n",
      "Operator `gradient` ran in 0.02 s\n",
      "Operator `forward` ran in 0.02 s\n",
      "Operator `gradient` ran in 0.03 s\n",
      "Operator `forward` ran in 0.04 s\n",
      "Operator `gradient` ran in 0.02 s\n",
      "Operator `forward` ran in 0.05 s\n",
      "Operator `gradient` ran in 0.02 s\n",
      "Operator `forward` ran in 0.02 s\n",
      "Operator `gradient` ran in 0.02 s\n",
      "Operator `forward` ran in 0.02 s\n",
      "Operator `gradient` ran in 0.02 s\n",
      "Operator `forward` ran in 0.02 s\n",
      "Operator `gradient` ran in 0.02 s\n",
      "Operator `forward` ran in 0.02 s\n",
      "Operator `gradient` ran in 0.02 s\n",
      "Operator `forward` ran in 0.02 s\n",
      "Operator `gradient` ran in 0.02 s\n"
     ]
    },
    {
     "name": "stdout",
     "output_type": "stream",
     "text": [
      "(0.1f0, 70641.8828125)\n"
     ]
    },
    {
     "name": "stderr",
     "output_type": "stream",
     "text": [
      "Operator `forward` ran in 0.01 s\n",
      "Operator `forward` ran in 0.01 s\n",
      "Operator `forward` ran in 0.02 s\n",
      "Operator `forward` ran in 0.02 s\n",
      "Operator `forward` ran in 0.01 s\n",
      "Operator `forward` ran in 0.01 s\n",
      "Operator `forward` ran in 0.01 s\n",
      "Operator `forward` ran in 0.02 s\n",
      "Operator `forward` ran in 0.02 s\n",
      "Operator `forward` ran in 0.01 s\n",
      "Operator `forward` ran in 0.01 s\n",
      "Operator `forward` ran in 0.01 s\n",
      "Operator `forward` ran in 0.01 s\n",
      "Operator `forward` ran in 0.01 s\n",
      "Operator `forward` ran in 0.01 s\n",
      "Operator `forward` ran in 0.01 s\n"
     ]
    },
    {
     "name": "stdout",
     "output_type": "stream",
     "text": [
      "(α, misfit) = (0.018032515663869916, 1826.1734619140625)\n",
      "FWI iteration no: "
     ]
    },
    {
     "name": "stderr",
     "output_type": "stream",
     "text": [
      "Operator `forward` ran in 0.02 s\n",
      "Operator `forward` ran in 0.02 s\n",
      "Operator `forward` ran in 0.01 s\n",
      "Operator `forward` ran in 0.01 s\n",
      "Operator `forward` ran in 0.02 s\n",
      "Operator `forward` ran in 0.02 s\n",
      "Operator `forward` ran in 0.02 s\n",
      "Operator `forward` ran in 0.02 s\n",
      "Operator `forward` ran in 0.02 s\n",
      "Operator `forward` ran in 0.02 s\n",
      "Operator `forward` ran in 0.01 s\n",
      "Operator `forward` ran in 0.01 s\n",
      "Operator `forward` ran in 0.02 s\n",
      "Operator `forward` ran in 0.01 s\n",
      "Operator `forward` ran in 0.03 s\n",
      "Operator `forward` ran in 0.01 s\n"
     ]
    },
    {
     "name": "stdout",
     "output_type": "stream",
     "text": [
      "6; function value: 1826.9579\n"
     ]
    },
    {
     "name": "stderr",
     "output_type": "stream",
     "text": [
      "Operator `forward` ran in 0.04 s\n",
      "Operator `gradient` ran in 0.02 s\n",
      "Operator `forward` ran in 0.04 s\n",
      "Operator `gradient` ran in 0.02 s\n",
      "Operator `forward` ran in 0.05 s\n",
      "Operator `gradient` ran in 0.02 s\n",
      "Operator `forward` ran in 0.04 s\n",
      "Operator `gradient` ran in 0.02 s\n",
      "Operator `forward` ran in 0.05 s\n",
      "Operator `gradient` ran in 0.02 s\n",
      "Operator `forward` ran in 0.04 s\n",
      "Operator `gradient` ran in 0.02 s\n",
      "Operator `forward` ran in 0.02 s\n",
      "Operator `gradient` ran in 0.02 s\n",
      "Operator `forward` ran in 0.02 s\n",
      "Operator `gradient` ran in 0.02 s\n",
      "Operator `forward` ran in 0.04 s\n",
      "Operator `gradient` ran in 0.02 s\n",
      "Operator `forward` ran in 0.02 s\n",
      "Operator `gradient` ran in 0.02 s\n",
      "Operator `forward` ran in 0.03 s\n",
      "Operator `gradient` ran in 0.02 s\n",
      "Operator `forward` ran in 0.03 s\n",
      "Operator `gradient` ran in 0.02 s\n",
      "Operator `forward` ran in 0.03 s\n",
      "Operator `gradient` ran in 0.02 s\n",
      "Operator `forward` ran in 0.02 s\n",
      "Operator `gradient` ran in 0.02 s\n",
      "Operator `forward` ran in 0.03 s\n",
      "Operator `gradient` ran in 0.02 s\n",
      "Operator `forward` ran in 0.03 s\n",
      "Operator `gradient` ran in 0.02 s\n"
     ]
    },
    {
     "name": "stdout",
     "output_type": "stream",
     "text": [
      "(α, misfit) = (0.1f0, 179243.328125)\n",
      "(α, misfit) = "
     ]
    },
    {
     "name": "stderr",
     "output_type": "stream",
     "text": [
      "Operator `forward` ran in 0.01 s\n",
      "Operator `forward` ran in 0.02 s\n",
      "Operator `forward` ran in 0.02 s\n",
      "Operator `forward` ran in 0.02 s\n",
      "Operator `forward` ran in 0.01 s\n",
      "Operator `forward` ran in 0.01 s\n",
      "Operator `forward` ran in 0.01 s\n",
      "Operator `forward` ran in 0.01 s\n",
      "Operator `forward` ran in 0.01 s\n",
      "Operator `forward` ran in 0.01 s\n",
      "Operator `forward` ran in 0.01 s\n",
      "Operator `forward` ran in 0.02 s\n",
      "Operator `forward` ran in 0.02 s\n",
      "Operator `forward` ran in 0.01 s\n",
      "Operator `forward` ran in 0.02 s\n",
      "Operator `forward` ran in 0.01 s\n"
     ]
    },
    {
     "name": "stdout",
     "output_type": "stream",
     "text": [
      "(0.010000000149011612, 1384.58154296875)\n"
     ]
    },
    {
     "name": "stderr",
     "output_type": "stream",
     "text": [
      "Operator `forward` ran in 0.02 s\n",
      "Operator `forward` ran in 0.02 s\n",
      "Operator `forward` ran in 0.01 s\n",
      "Operator `forward` ran in 0.02 s\n",
      "Operator `forward` ran in 0.01 s\n",
      "Operator `forward` ran in 0.02 s\n",
      "Operator `forward` ran in 0.02 s\n",
      "Operator `forward` ran in 0.01 s\n",
      "Operator `forward` ran in 0.01 s\n",
      "Operator `forward` ran in 0.01 s\n",
      "Operator `forward` ran in 0.01 s\n",
      "Operator `forward` ran in 0.02 s\n",
      "Operator `forward` ran in 0.02 s\n",
      "Operator `forward` ran in 0.02 s\n",
      "Operator `forward` ran in 0.01 s\n",
      "Operator `forward` ran in 0.02 s\n"
     ]
    },
    {
     "name": "stdout",
     "output_type": "stream",
     "text": [
      "FWI iteration no: 7; function value: 1544.7917\n",
      "(α, misfit) = "
     ]
    },
    {
     "name": "stderr",
     "output_type": "stream",
     "text": [
      "Operator `forward` ran in 0.02 s\n",
      "Operator `gradient` ran in 0.02 s\n",
      "Operator `forward` ran in 0.02 s\n",
      "Operator `gradient` ran in 0.02 s\n",
      "Operator `forward` ran in 0.02 s\n",
      "Operator `gradient` ran in 0.02 s\n",
      "Operator `forward` ran in 0.05 s\n",
      "Operator `gradient` ran in 0.02 s\n",
      "Operator `forward` ran in 0.05 s\n",
      "Operator `gradient` ran in 0.02 s\n",
      "Operator `forward` ran in 0.05 s\n",
      "Operator `gradient` ran in 0.02 s\n",
      "Operator `forward` ran in 0.05 s\n",
      "Operator `gradient` ran in 0.02 s\n",
      "Operator `forward` ran in 0.05 s\n",
      "Operator `gradient` ran in 0.02 s\n",
      "Operator `forward` ran in 0.04 s\n",
      "Operator `gradient` ran in 0.02 s\n",
      "Operator `forward` ran in 0.02 s\n",
      "Operator `gradient` ran in 0.02 s\n",
      "Operator `forward` ran in 0.03 s\n",
      "Operator `gradient` ran in 0.03 s\n",
      "Operator `forward` ran in 0.02 s\n",
      "Operator `gradient` ran in 0.02 s\n",
      "Operator `forward` ran in 0.02 s\n",
      "Operator `gradient` ran in 0.02 s\n",
      "Operator `forward` ran in 0.02 s\n",
      "Operator `gradient` ran in 0.02 s\n",
      "Operator `forward` ran in 0.02 s\n",
      "Operator `gradient` ran in 0.02 s\n",
      "Operator `forward` ran in 0.02 s\n",
      "Operator `gradient` ran in 0.02 s\n"
     ]
    },
    {
     "name": "stdout",
     "output_type": "stream",
     "text": [
      "(0.1f0, 32489.55859375)\n"
     ]
    },
    {
     "name": "stderr",
     "output_type": "stream",
     "text": [
      "Operator `forward` ran in 0.01 s\n",
      "Operator `forward` ran in 0.02 s\n",
      "Operator `forward` ran in 0.02 s\n",
      "Operator `forward` ran in 0.03 s\n",
      "Operator `forward` ran in 0.02 s\n",
      "Operator `forward` ran in 0.02 s\n",
      "Operator `forward` ran in 0.02 s\n",
      "Operator `forward` ran in 0.02 s\n",
      "Operator `forward` ran in 0.02 s\n",
      "Operator `forward` ran in 0.01 s\n",
      "Operator `forward` ran in 0.02 s\n",
      "Operator `forward` ran in 0.02 s\n",
      "Operator `forward` ran in 0.02 s\n",
      "Operator `forward` ran in 0.02 s\n",
      "Operator `forward` ran in 0.02 s\n",
      "Operator `forward` ran in 0.02 s\n"
     ]
    },
    {
     "name": "stdout",
     "output_type": "stream",
     "text": [
      "(α, misfit) = (0.024677410058431864, 2142.411376953125)\n",
      "(α, misfit) = "
     ]
    },
    {
     "name": "stderr",
     "output_type": "stream",
     "text": [
      "Operator `forward` ran in 0.03 s\n",
      "Operator `forward` ran in 0.02 s\n",
      "Operator `forward` ran in 0.02 s\n",
      "Operator `forward` ran in 0.01 s\n",
      "Operator `forward` ran in 0.02 s\n",
      "Operator `forward` ran in 0.02 s\n",
      "Operator `forward` ran in 0.02 s\n",
      "Operator `forward` ran in 0.02 s\n",
      "Operator `forward` ran in 0.02 s\n",
      "Operator `forward` ran in 0.02 s\n",
      "Operator `forward` ran in 0.02 s\n",
      "Operator `forward` ran in 0.01 s\n",
      "Operator `forward` ran in 0.02 s\n",
      "Operator `forward` ran in 0.01 s\n",
      "Operator `forward` ran in 0.01 s\n",
      "Operator `forward` ran in 0.01 s\n"
     ]
    },
    {
     "name": "stdout",
     "output_type": "stream",
     "text": [
      "(0.010766735853472773, 918.6958618164062)\n"
     ]
    },
    {
     "name": "stderr",
     "output_type": "stream",
     "text": [
      "Operator `forward` ran in 0.02 s\n",
      "Operator `forward` ran in 0.02 s\n",
      "Operator `forward` ran in 0.02 s\n",
      "Operator `forward` ran in 0.02 s\n",
      "Operator `forward` ran in 0.01 s\n",
      "Operator `forward` ran in 0.01 s\n",
      "Operator `forward` ran in 0.01 s\n",
      "Operator `forward` ran in 0.01 s\n",
      "Operator `forward` ran in 0.01 s\n",
      "Operator `forward` ran in 0.01 s\n",
      "Operator `forward` ran in 0.01 s\n",
      "Operator `forward` ran in 0.01 s\n",
      "Operator `forward` ran in 0.01 s\n",
      "Operator `forward` ran in 0.01 s\n",
      "Operator `forward` ran in 0.01 s\n",
      "Operator `forward` ran in 0.01 s\n"
     ]
    },
    {
     "name": "stdout",
     "output_type": "stream",
     "text": [
      "FWI iteration no: 8; function value: 1059.175\n",
      "(α, misfit) = "
     ]
    },
    {
     "name": "stderr",
     "output_type": "stream",
     "text": [
      "Operator `forward` ran in 0.02 s\n",
      "Operator `gradient` ran in 0.02 s\n",
      "Operator `forward` ran in 0.04 s\n",
      "Operator `gradient` ran in 0.02 s\n",
      "Operator `forward` ran in 0.04 s\n",
      "Operator `gradient` ran in 0.02 s\n",
      "Operator `forward` ran in 0.05 s\n",
      "Operator `gradient` ran in 0.02 s\n",
      "Operator `forward` ran in 0.04 s\n",
      "Operator `gradient` ran in 0.02 s\n",
      "Operator `forward` ran in 0.05 s\n",
      "Operator `gradient` ran in 0.02 s\n",
      "Operator `forward` ran in 0.02 s\n",
      "Operator `gradient` ran in 0.02 s\n",
      "Operator `forward` ran in 0.02 s\n",
      "Operator `gradient` ran in 0.02 s\n",
      "Operator `forward` ran in 0.02 s\n",
      "Operator `gradient` ran in 0.02 s\n",
      "Operator `forward` ran in 0.02 s\n",
      "Operator `gradient` ran in 0.02 s\n",
      "Operator `forward` ran in 0.02 s\n",
      "Operator `gradient` ran in 0.02 s\n",
      "Operator `forward` ran in 0.02 s\n",
      "Operator `gradient` ran in 0.02 s\n",
      "Operator `forward` ran in 0.02 s\n",
      "Operator `gradient` ran in 0.02 s\n",
      "Operator `forward` ran in 0.02 s\n",
      "Operator `gradient` ran in 0.02 s\n",
      "Operator `forward` ran in 0.02 s\n",
      "Operator `gradient` ran in 0.02 s\n",
      "Operator `forward` ran in 0.02 s\n",
      "Operator `gradient` ran in 0.02 s\n"
     ]
    },
    {
     "name": "stdout",
     "output_type": "stream",
     "text": [
      "(0.1f0, 1.0074386875e6)\n"
     ]
    },
    {
     "name": "stderr",
     "output_type": "stream",
     "text": [
      "Operator `forward` ran in 0.01 s\n",
      "Operator `forward` ran in 0.01 s\n",
      "Operator `forward` ran in 0.01 s\n",
      "Operator `forward` ran in 0.01 s\n",
      "Operator `forward` ran in 0.01 s\n",
      "Operator `forward` ran in 0.01 s\n",
      "Operator `forward` ran in 0.02 s\n",
      "Operator `forward` ran in 0.01 s\n",
      "Operator `forward` ran in 0.01 s\n",
      "Operator `forward` ran in 0.01 s\n",
      "Operator `forward` ran in 0.02 s\n",
      "Operator `forward` ran in 0.01 s\n",
      "Operator `forward` ran in 0.01 s\n",
      "Operator `forward` ran in 0.01 s\n",
      "Operator `forward` ran in 0.01 s\n",
      "Operator `forward` ran in 0.01 s\n"
     ]
    },
    {
     "name": "stdout",
     "output_type": "stream",
     "text": [
      "(α, misfit) = (0.010000000149011612, 9598.7216796875)\n",
      "(α, misfit) = "
     ]
    },
    {
     "name": "stderr",
     "output_type": "stream",
     "text": [
      "Operator `forward` ran in 0.02 s\n",
      "Operator `forward` ran in 0.01 s\n",
      "Operator `forward` ran in 0.01 s\n",
      "Operator `forward` ran in 0.01 s\n",
      "Operator `forward` ran in 0.01 s\n",
      "Operator `forward` ran in 0.01 s\n",
      "Operator `forward` ran in 0.01 s\n",
      "Operator `forward` ran in 0.01 s\n",
      "Operator `forward` ran in 0.01 s\n",
      "Operator `forward` ran in 0.01 s\n",
      "Operator `forward` ran in 0.02 s\n",
      "Operator `forward` ran in 0.01 s\n",
      "Operator `forward` ran in 0.01 s\n",
      "Operator `forward` ran in 0.01 s\n",
      "Operator `forward` ran in 0.03 s\n",
      "Operator `forward` ran in 0.02 s\n"
     ]
    },
    {
     "name": "stdout",
     "output_type": "stream",
     "text": [
      "(0.0010000000149011613, 842.0501708984375)\n"
     ]
    },
    {
     "name": "stderr",
     "output_type": "stream",
     "text": [
      "Operator `forward` ran in 0.02 s\n",
      "Operator `forward` ran in 0.01 s\n",
      "Operator `forward` ran in 0.01 s\n",
      "Operator `forward` ran in 0.02 s\n",
      "Operator `forward` ran in 0.01 s\n",
      "Operator `forward` ran in 0.01 s\n",
      "Operator `forward` ran in 0.01 s\n",
      "Operator `forward` ran in 0.01 s\n",
      "Operator `forward` ran in 0.02 s\n",
      "Operator `forward` ran in 0.01 s\n",
      "Operator `forward` ran in 0.01 s\n",
      "Operator `forward` ran in 0.01 s\n",
      "Operator `forward` ran in 0.01 s\n",
      "Operator `forward` ran in 0.02 s\n",
      "Operator `forward` ran in 0.02 s\n",
      "Operator `forward` ran in 0.01 s\n"
     ]
    },
    {
     "name": "stdout",
     "output_type": "stream",
     "text": [
      "FWI iteration no: 9; function value: 1062.5032\n",
      "(α, misfit) = "
     ]
    },
    {
     "name": "stderr",
     "output_type": "stream",
     "text": [
      "Operator `forward` ran in 0.02 s\n",
      "Operator `gradient` ran in 0.02 s\n",
      "Operator `forward` ran in 0.04 s\n",
      "Operator `gradient` ran in 0.02 s\n",
      "Operator `forward` ran in 0.05 s\n",
      "Operator `gradient` ran in 0.02 s\n",
      "Operator `forward` ran in 0.04 s\n",
      "Operator `gradient` ran in 0.02 s\n",
      "Operator `forward` ran in 0.03 s\n",
      "Operator `gradient` ran in 0.02 s\n",
      "Operator `forward` ran in 0.04 s\n",
      "Operator `gradient` ran in 0.02 s\n",
      "Operator `forward` ran in 0.05 s\n",
      "Operator `gradient` ran in 0.02 s\n",
      "Operator `forward` ran in 0.02 s\n",
      "Operator `gradient` ran in 0.02 s\n",
      "Operator `forward` ran in 0.02 s\n",
      "Operator `gradient` ran in 0.02 s\n",
      "Operator `forward` ran in 0.02 s\n",
      "Operator `gradient` ran in 0.02 s\n",
      "Operator `forward` ran in 0.02 s\n",
      "Operator `gradient` ran in 0.02 s\n",
      "Operator `forward` ran in 0.02 s\n",
      "Operator `gradient` ran in 0.03 s\n",
      "Operator `forward` ran in 0.02 s\n",
      "Operator `gradient` ran in 0.02 s\n",
      "Operator `forward` ran in 0.02 s\n",
      "Operator `gradient` ran in 0.02 s\n",
      "Operator `forward` ran in 0.03 s\n",
      "Operator `gradient` ran in 0.02 s\n",
      "Operator `forward` ran in 0.02 s\n",
      "Operator `gradient` ran in 0.02 s\n"
     ]
    },
    {
     "name": "stdout",
     "output_type": "stream",
     "text": [
      "(0.1f0, 61931.41015625)\n"
     ]
    },
    {
     "name": "stderr",
     "output_type": "stream",
     "text": [
      "Operator `forward` ran in 0.01 s\n",
      "Operator `forward` ran in 0.02 s\n",
      "Operator `forward` ran in 0.01 s\n",
      "Operator `forward` ran in 0.01 s\n",
      "Operator `forward` ran in 0.01 s\n",
      "Operator `forward` ran in 0.01 s\n",
      "Operator `forward` ran in 0.02 s\n",
      "Operator `forward` ran in 0.01 s\n",
      "Operator `forward` ran in 0.01 s\n",
      "Operator `forward` ran in 0.01 s\n",
      "Operator `forward` ran in 0.01 s\n",
      "Operator `forward` ran in 0.02 s\n",
      "Operator `forward` ran in 0.01 s\n",
      "Operator `forward` ran in 0.02 s\n",
      "Operator `forward` ran in 0.02 s\n",
      "Operator `forward` ran in 0.01 s\n"
     ]
    },
    {
     "name": "stdout",
     "output_type": "stream",
     "text": [
      "(α, misfit) = (0.010000000149011612, 1122.665283203125)\n",
      "(α, misfit) = "
     ]
    },
    {
     "name": "stderr",
     "output_type": "stream",
     "text": [
      "Operator `forward` ran in 0.02 s\n",
      "Operator `forward` ran in 0.02 s\n",
      "Operator `forward` ran in 0.01 s\n",
      "Operator `forward` ran in 0.01 s\n",
      "Operator `forward` ran in 0.01 s\n",
      "Operator `forward` ran in 0.01 s\n",
      "Operator `forward` ran in 0.01 s\n",
      "Operator `forward` ran in 0.02 s\n",
      "Operator `forward` ran in 0.02 s\n",
      "Operator `forward` ran in 0.01 s\n",
      "Operator `forward` ran in 0.02 s\n",
      "Operator `forward` ran in 0.01 s\n",
      "Operator `forward` ran in 0.01 s\n",
      "Operator `forward` ran in 0.02 s\n",
      "Operator `forward` ran in 0.02 s\n",
      "Operator `forward` ran in 0.01 s\n"
     ]
    },
    {
     "name": "stdout",
     "output_type": "stream",
     "text": [
      "(0.0046324776698929955, 829.33837890625)\n"
     ]
    },
    {
     "name": "stderr",
     "output_type": "stream",
     "text": [
      "Operator `forward` ran in 0.02 s\n",
      "Operator `forward` ran in 0.01 s\n",
      "Operator `forward` ran in 0.02 s\n",
      "Operator `forward` ran in 0.01 s\n",
      "Operator `forward` ran in 0.02 s\n",
      "Operator `forward` ran in 0.02 s\n",
      "Operator `forward` ran in 0.01 s\n",
      "Operator `forward` ran in 0.01 s\n",
      "Operator `forward` ran in 0.01 s\n",
      "Operator `forward` ran in 0.02 s\n",
      "Operator `forward` ran in 0.02 s\n",
      "Operator `forward` ran in 0.02 s\n",
      "Operator `forward` ran in 0.01 s\n",
      "Operator `forward` ran in 0.01 s\n",
      "Operator `forward` ran in 0.02 s\n",
      "Operator `forward` ran in 0.01 s\n"
     ]
    },
    {
     "name": "stdout",
     "output_type": "stream",
     "text": [
      "FWI iteration no: 10; function value: 899.04205\n",
      "(α, misfit) = "
     ]
    },
    {
     "name": "stderr",
     "output_type": "stream",
     "text": [
      "Operator `forward` ran in 0.02 s\n",
      "Operator `gradient` ran in 0.03 s\n",
      "Operator `forward` ran in 0.04 s\n",
      "Operator `gradient` ran in 0.02 s\n",
      "Operator `forward` ran in 0.04 s\n",
      "Operator `gradient` ran in 0.02 s\n",
      "Operator `forward` ran in 0.04 s\n",
      "Operator `gradient` ran in 0.02 s\n",
      "Operator `forward` ran in 0.04 s\n",
      "Operator `gradient` ran in 0.02 s\n",
      "Operator `forward` ran in 0.02 s\n",
      "Operator `gradient` ran in 0.02 s\n",
      "Operator `forward` ran in 0.02 s\n",
      "Operator `gradient` ran in 0.02 s\n",
      "Operator `forward` ran in 0.02 s\n",
      "Operator `gradient` ran in 0.02 s\n",
      "Operator `forward` ran in 0.02 s\n",
      "Operator `gradient` ran in 0.02 s\n",
      "Operator `forward` ran in 0.02 s\n",
      "Operator `gradient` ran in 0.02 s\n",
      "Operator `forward` ran in 0.02 s\n",
      "Operator `gradient` ran in 0.02 s\n",
      "Operator `forward` ran in 0.02 s\n",
      "Operator `gradient` ran in 0.02 s\n",
      "Operator `forward` ran in 0.02 s\n",
      "Operator `gradient` ran in 0.02 s\n",
      "Operator `forward` ran in 0.02 s\n",
      "Operator `gradient` ran in 0.02 s\n",
      "Operator `forward` ran in 0.02 s\n",
      "Operator `gradient` ran in 0.03 s\n",
      "Operator `forward` ran in 0.02 s\n",
      "Operator `gradient` ran in 0.02 s\n"
     ]
    },
    {
     "name": "stdout",
     "output_type": "stream",
     "text": [
      "(0.1f0, 13938.4306640625)\n"
     ]
    },
    {
     "name": "stderr",
     "output_type": "stream",
     "text": [
      "Operator `forward` ran in 0.01 s\n",
      "Operator `forward` ran in 0.01 s\n",
      "Operator `forward` ran in 0.02 s\n",
      "Operator `forward` ran in 0.01 s\n",
      "Operator `forward` ran in 0.01 s\n",
      "Operator `forward` ran in 0.02 s\n",
      "Operator `forward` ran in 0.02 s\n",
      "Operator `forward` ran in 0.01 s\n",
      "Operator `forward` ran in 0.01 s\n",
      "Operator `forward` ran in 0.02 s\n",
      "Operator `forward` ran in 0.01 s\n",
      "Operator `forward` ran in 0.02 s\n",
      "Operator `forward` ran in 0.01 s\n",
      "Operator `forward` ran in 0.01 s\n",
      "Operator `forward` ran in 0.01 s\n",
      "Operator `forward` ran in 0.02 s\n"
     ]
    },
    {
     "name": "stdout",
     "output_type": "stream",
     "text": [
      "(α, misfit) = (0.0244476886328764, 1310.127197265625)\n",
      "(α, misfit) = "
     ]
    },
    {
     "name": "stderr",
     "output_type": "stream",
     "text": [
      "Operator `forward` ran in 0.02 s\n",
      "Operator `forward` ran in 0.01 s\n",
      "Operator `forward` ran in 0.02 s\n",
      "Operator `forward` ran in 0.01 s\n",
      "Operator `forward` ran in 0.01 s\n",
      "Operator `forward` ran in 0.02 s\n",
      "Operator `forward` ran in 0.01 s\n",
      "Operator `forward` ran in 0.01 s\n",
      "Operator `forward` ran in 0.01 s\n",
      "Operator `forward` ran in 0.01 s\n",
      "Operator `forward` ran in 0.01 s\n",
      "Operator `forward` ran in 0.01 s\n",
      "Operator `forward` ran in 0.04 s\n",
      "Operator `forward` ran in 0.02 s\n",
      "Operator `forward` ran in 0.02 s\n",
      "Operator `forward` ran in 0.01 s\n"
     ]
    },
    {
     "name": "stdout",
     "output_type": "stream",
     "text": [
      "(0.010075654794612015, 781.0872192382812)\n"
     ]
    },
    {
     "name": "stderr",
     "output_type": "stream",
     "text": [
      "Operator `forward` ran in 0.02 s\n",
      "Operator `forward` ran in 0.01 s\n",
      "Operator `forward` ran in 0.02 s\n",
      "Operator `forward` ran in 0.01 s\n",
      "Operator `forward` ran in 0.02 s\n",
      "Operator `forward` ran in 0.01 s\n",
      "Operator `forward` ran in 0.01 s\n",
      "Operator `forward` ran in 0.02 s\n",
      "Operator `forward` ran in 0.01 s\n",
      "Operator `forward` ran in 0.01 s\n",
      "Operator `forward` ran in 0.02 s\n",
      "Operator `forward` ran in 0.01 s\n",
      "Operator `forward` ran in 0.02 s\n",
      "Operator `forward` ran in 0.02 s\n",
      "Operator `forward` ran in 0.02 s\n",
      "Operator `forward` ran in 0.01 s\n"
     ]
    },
    {
     "name": "stdout",
     "output_type": "stream",
     "text": [
      "FWI iteration no: 11; function value: 842.4202\n",
      "(α, misfit) = "
     ]
    },
    {
     "name": "stderr",
     "output_type": "stream",
     "text": [
      "Operator `forward` ran in 0.04 s\n",
      "Operator `gradient` ran in 0.02 s\n",
      "Operator `forward` ran in 0.04 s\n",
      "Operator `gradient` ran in 0.02 s\n",
      "Operator `forward` ran in 0.04 s\n",
      "Operator `gradient` ran in 0.02 s\n",
      "Operator `forward` ran in 0.02 s\n",
      "Operator `gradient` ran in 0.02 s\n",
      "Operator `forward` ran in 0.04 s\n",
      "Operator `gradient` ran in 0.02 s\n",
      "Operator `forward` ran in 0.02 s\n",
      "Operator `gradient` ran in 0.02 s\n",
      "Operator `forward` ran in 0.02 s\n",
      "Operator `gradient` ran in 0.02 s\n",
      "Operator `forward` ran in 0.02 s\n",
      "Operator `gradient` ran in 0.02 s\n",
      "Operator `forward` ran in 0.02 s\n",
      "Operator `gradient` ran in 0.02 s\n",
      "Operator `forward` ran in 0.02 s\n",
      "Operator `gradient` ran in 0.02 s\n",
      "Operator `forward` ran in 0.02 s\n",
      "Operator `gradient` ran in 0.02 s\n",
      "Operator `forward` ran in 0.02 s\n",
      "Operator `gradient` ran in 0.02 s\n",
      "Operator `forward` ran in 0.02 s\n",
      "Operator `gradient` ran in 0.02 s\n",
      "Operator `forward` ran in 0.02 s\n",
      "Operator `gradient` ran in 0.02 s\n",
      "Operator `forward` ran in 0.02 s\n",
      "Operator `gradient` ran in 0.02 s\n",
      "Operator `forward` ran in 0.02 s\n",
      "Operator `gradient` ran in 0.02 s\n"
     ]
    },
    {
     "name": "stdout",
     "output_type": "stream",
     "text": [
      "(0.1f0, 1.13626475e6)\n"
     ]
    },
    {
     "name": "stderr",
     "output_type": "stream",
     "text": [
      "Operator `forward` ran in 0.01 s\n",
      "Operator `forward` ran in 0.01 s\n",
      "Operator `forward` ran in 0.01 s\n",
      "Operator `forward` ran in 0.01 s\n",
      "Operator `forward` ran in 0.02 s\n",
      "Operator `forward` ran in 0.02 s\n",
      "Operator `forward` ran in 0.02 s\n",
      "Operator `forward` ran in 0.02 s\n",
      "Operator `forward` ran in 0.02 s\n",
      "Operator `forward` ran in 0.02 s\n",
      "Operator `forward` ran in 0.01 s\n",
      "Operator `forward` ran in 0.01 s\n",
      "Operator `forward` ran in 0.01 s\n",
      "Operator `forward` ran in 0.01 s\n",
      "Operator `forward` ran in 0.02 s\n",
      "Operator `forward` ran in 0.02 s\n"
     ]
    },
    {
     "name": "stdout",
     "output_type": "stream",
     "text": [
      "(α, misfit) = (0.010000000149011612, 10432.7998046875)\n",
      "(α, misfit) = "
     ]
    },
    {
     "name": "stderr",
     "output_type": "stream",
     "text": [
      "Operator `forward` ran in 0.02 s\n",
      "Operator `forward` ran in 0.02 s\n",
      "Operator `forward` ran in 0.01 s\n",
      "Operator `forward` ran in 0.02 s\n",
      "Operator `forward` ran in 0.02 s\n",
      "Operator `forward` ran in 0.01 s\n",
      "Operator `forward` ran in 0.01 s\n",
      "Operator `forward` ran in 0.02 s\n",
      "Operator `forward` ran in 0.03 s\n",
      "Operator `forward` ran in 0.01 s\n",
      "Operator `forward` ran in 0.02 s\n",
      "Operator `forward` ran in 0.01 s\n",
      "Operator `forward` ran in 0.01 s\n",
      "Operator `forward` ran in 0.02 s\n",
      "Operator `forward` ran in 0.01 s\n",
      "Operator `forward` ran in 0.01 s\n"
     ]
    },
    {
     "name": "stdout",
     "output_type": "stream",
     "text": [
      "(0.0010000000149011613, 616.6719360351562)\n"
     ]
    },
    {
     "name": "stderr",
     "output_type": "stream",
     "text": [
      "Operator `forward` ran in 0.03 s\n",
      "Operator `forward` ran in 0.02 s\n",
      "Operator `forward` ran in 0.02 s\n",
      "Operator `forward` ran in 0.02 s\n",
      "Operator `forward` ran in 0.02 s\n",
      "Operator `forward` ran in 0.01 s\n",
      "Operator `forward` ran in 0.02 s\n",
      "Operator `forward` ran in 0.02 s\n",
      "Operator `forward` ran in 0.02 s\n",
      "Operator `forward` ran in 0.01 s\n",
      "Operator `forward` ran in 0.05 s\n",
      "Operator `forward` ran in 0.05 s\n",
      "Operator `forward` ran in 0.05 s\n",
      "Operator `forward` ran in 0.02 s\n",
      "Operator `forward` ran in 0.02 s\n",
      "Operator `forward` ran in 0.02 s\n"
     ]
    },
    {
     "name": "stdout",
     "output_type": "stream",
     "text": [
      "FWI iteration no: 12; function value: 769.01135\n",
      "(α, misfit) = "
     ]
    },
    {
     "name": "stderr",
     "output_type": "stream",
     "text": [
      "Operator `forward` ran in 0.02 s\n",
      "Operator `gradient` ran in 0.02 s\n",
      "Operator `forward` ran in 0.02 s\n",
      "Operator `gradient` ran in 0.02 s\n",
      "Operator `forward` ran in 0.02 s\n",
      "Operator `gradient` ran in 0.02 s\n",
      "Operator `forward` ran in 0.02 s\n",
      "Operator `gradient` ran in 0.02 s\n",
      "Operator `forward` ran in 0.02 s\n",
      "Operator `gradient` ran in 0.02 s\n",
      "Operator `forward` ran in 0.02 s\n",
      "Operator `gradient` ran in 0.02 s\n",
      "Operator `forward` ran in 0.03 s\n",
      "Operator `gradient` ran in 0.02 s\n",
      "Operator `forward` ran in 0.03 s\n",
      "Operator `gradient` ran in 0.02 s\n",
      "Operator `forward` ran in 0.04 s\n",
      "Operator `gradient` ran in 0.02 s\n",
      "Operator `forward` ran in 0.02 s\n",
      "Operator `gradient` ran in 0.02 s\n",
      "Operator `forward` ran in 0.02 s\n",
      "Operator `gradient` ran in 0.02 s\n",
      "Operator `forward` ran in 0.02 s\n",
      "Operator `gradient` ran in 0.02 s\n",
      "Operator `forward` ran in 0.02 s\n",
      "Operator `gradient` ran in 0.02 s\n",
      "Operator `forward` ran in 0.02 s\n",
      "Operator `gradient` ran in 0.02 s\n",
      "Operator `forward` ran in 0.02 s\n",
      "Operator `gradient` ran in 0.02 s\n",
      "Operator `forward` ran in 0.02 s\n",
      "Operator `gradient` ran in 0.02 s\n"
     ]
    },
    {
     "name": "stdout",
     "output_type": "stream",
     "text": [
      "(0.1f0, 116114.4453125)\n"
     ]
    },
    {
     "name": "stderr",
     "output_type": "stream",
     "text": [
      "Operator `forward` ran in 0.03 s\n",
      "Operator `forward` ran in 0.01 s\n",
      "Operator `forward` ran in 0.01 s\n",
      "Operator `forward` ran in 0.02 s\n",
      "Operator `forward` ran in 0.01 s\n",
      "Operator `forward` ran in 0.01 s\n",
      "Operator `forward` ran in 0.02 s\n",
      "Operator `forward` ran in 0.02 s\n",
      "Operator `forward` ran in 0.02 s\n",
      "Operator `forward` ran in 0.01 s\n",
      "Operator `forward` ran in 0.01 s\n",
      "Operator `forward` ran in 0.01 s\n",
      "Operator `forward` ran in 0.01 s\n",
      "Operator `forward` ran in 0.02 s\n",
      "Operator `forward` ran in 0.01 s\n",
      "Operator `forward` ran in 0.02 s\n"
     ]
    },
    {
     "name": "stdout",
     "output_type": "stream",
     "text": [
      "(α, misfit) = (0.010000000149011612, 1516.9986572265625)\n",
      "(α, misfit) = "
     ]
    },
    {
     "name": "stderr",
     "output_type": "stream",
     "text": [
      "Operator `forward` ran in 0.02 s\n",
      "Operator `forward` ran in 0.01 s\n",
      "Operator `forward` ran in 0.01 s\n",
      "Operator `forward` ran in 0.01 s\n",
      "Operator `forward` ran in 0.01 s\n",
      "Operator `forward` ran in 0.01 s\n",
      "Operator `forward` ran in 0.01 s\n",
      "Operator `forward` ran in 0.01 s\n",
      "Operator `forward` ran in 0.02 s\n",
      "Operator `forward` ran in 0.02 s\n",
      "Operator `forward` ran in 0.02 s\n",
      "Operator `forward` ran in 0.01 s\n",
      "Operator `forward` ran in 0.01 s\n",
      "Operator `forward` ran in 0.01 s\n",
      "Operator `forward` ran in 0.02 s\n",
      "Operator `forward` ran in 0.02 s\n"
     ]
    },
    {
     "name": "stdout",
     "output_type": "stream",
     "text": [
      "(0.002738957177324461, 590.1259155273438)\n"
     ]
    },
    {
     "name": "stderr",
     "output_type": "stream",
     "text": [
      "Operator `forward` ran in 0.02 s\n",
      "Operator `forward` ran in 0.02 s\n",
      "Operator `forward` ran in 0.01 s\n",
      "Operator `forward` ran in 0.02 s\n",
      "Operator `forward` ran in 0.02 s\n",
      "Operator `forward` ran in 0.02 s\n",
      "Operator `forward` ran in 0.02 s\n",
      "Operator `forward` ran in 0.01 s\n",
      "Operator `forward` ran in 0.02 s\n",
      "Operator `forward` ran in 0.02 s\n",
      "Operator `forward` ran in 0.01 s\n",
      "Operator `forward` ran in 0.02 s\n",
      "Operator `forward` ran in 0.02 s\n",
      "Operator `forward` ran in 0.02 s\n",
      "Operator `forward` ran in 0.02 s\n",
      "Operator `forward` ran in 0.02 s\n"
     ]
    },
    {
     "name": "stdout",
     "output_type": "stream",
     "text": [
      "FWI iteration no: 13; function value: 674.7529\n",
      "(α, misfit) = "
     ]
    },
    {
     "name": "stderr",
     "output_type": "stream",
     "text": [
      "Operator `forward` ran in 0.02 s\n",
      "Operator `gradient` ran in 0.02 s\n",
      "Operator `forward` ran in 0.02 s\n",
      "Operator `gradient` ran in 0.02 s\n",
      "Operator `forward` ran in 0.02 s\n",
      "Operator `gradient` ran in 0.02 s\n",
      "Operator `forward` ran in 0.02 s\n",
      "Operator `gradient` ran in 0.02 s\n",
      "Operator `forward` ran in 0.02 s\n",
      "Operator `gradient` ran in 0.02 s\n",
      "Operator `forward` ran in 0.02 s\n",
      "Operator `gradient` ran in 0.02 s\n",
      "Operator `forward` ran in 0.02 s\n",
      "Operator `gradient` ran in 0.02 s\n",
      "Operator `forward` ran in 0.02 s\n",
      "Operator `gradient` ran in 0.02 s\n",
      "Operator `forward` ran in 0.02 s\n",
      "Operator `gradient` ran in 0.02 s\n",
      "Operator `forward` ran in 0.02 s\n",
      "Operator `gradient` ran in 0.02 s\n",
      "Operator `forward` ran in 0.02 s\n",
      "Operator `gradient` ran in 0.02 s\n",
      "Operator `forward` ran in 0.02 s\n",
      "Operator `gradient` ran in 0.02 s\n",
      "Operator `forward` ran in 0.02 s\n",
      "Operator `gradient` ran in 0.02 s\n",
      "Operator `forward` ran in 0.02 s\n",
      "Operator `gradient` ran in 0.02 s\n",
      "Operator `forward` ran in 0.02 s\n",
      "Operator `gradient` ran in 0.02 s\n",
      "Operator `forward` ran in 0.02 s\n",
      "Operator `gradient` ran in 0.02 s\n"
     ]
    },
    {
     "name": "stdout",
     "output_type": "stream",
     "text": [
      "(0.1f0, 44132.06640625)\n"
     ]
    },
    {
     "name": "stderr",
     "output_type": "stream",
     "text": [
      "Operator `forward` ran in 0.01 s\n",
      "Operator `forward` ran in 0.02 s\n",
      "Operator `forward` ran in 0.02 s\n",
      "Operator `forward` ran in 0.01 s\n",
      "Operator `forward` ran in 0.02 s\n",
      "Operator `forward` ran in 0.01 s\n",
      "Operator `forward` ran in 0.01 s\n",
      "Operator `forward` ran in 0.01 s\n",
      "Operator `forward` ran in 0.01 s\n",
      "Operator `forward` ran in 0.02 s\n",
      "Operator `forward` ran in 0.01 s\n",
      "Operator `forward` ran in 0.01 s\n",
      "Operator `forward` ran in 0.01 s\n",
      "Operator `forward` ran in 0.02 s\n",
      "Operator `forward` ran in 0.02 s\n",
      "Operator `forward` ran in 0.02 s\n"
     ]
    },
    {
     "name": "stdout",
     "output_type": "stream",
     "text": [
      "(α, misfit) = (0.010000000149011612, 838.69189453125)\n",
      "(α, misfit) = "
     ]
    },
    {
     "name": "stderr",
     "output_type": "stream",
     "text": [
      "Operator `forward` ran in 0.03 s\n",
      "Operator `forward` ran in 0.01 s\n",
      "Operator `forward` ran in 0.01 s\n",
      "Operator `forward` ran in 0.02 s\n",
      "Operator `forward` ran in 0.02 s\n",
      "Operator `forward` ran in 0.02 s\n",
      "Operator `forward` ran in 0.02 s\n",
      "Operator `forward` ran in 0.01 s\n",
      "Operator `forward` ran in 0.01 s\n",
      "Operator `forward` ran in 0.02 s\n",
      "Operator `forward` ran in 0.01 s\n",
      "Operator `forward` ran in 0.01 s\n",
      "Operator `forward` ran in 0.02 s\n",
      "Operator `forward` ran in 0.02 s\n",
      "Operator `forward` ran in 0.01 s\n",
      "Operator `forward` ran in 0.01 s\n"
     ]
    },
    {
     "name": "stdout",
     "output_type": "stream",
     "text": [
      "(0.004104830717277694, 561.84814453125)\n"
     ]
    },
    {
     "name": "stderr",
     "output_type": "stream",
     "text": [
      "Operator `forward` ran in 0.02 s\n",
      "Operator `forward` ran in 0.02 s\n",
      "Operator `forward` ran in 0.02 s\n",
      "Operator `forward` ran in 0.01 s\n",
      "Operator `forward` ran in 0.01 s\n",
      "Operator `forward` ran in 0.01 s\n",
      "Operator `forward` ran in 0.03 s\n",
      "Operator `forward` ran in 0.04 s\n",
      "Operator `forward` ran in 0.03 s\n",
      "Operator `forward` ran in 0.05 s\n",
      "Operator `forward` ran in 0.04 s\n",
      "Operator `forward` ran in 0.04 s\n",
      "Operator `forward` ran in 0.03 s\n",
      "Operator `forward` ran in 0.03 s\n",
      "Operator `forward` ran in 0.04 s\n",
      "Operator `forward` ran in 0.01 s\n"
     ]
    },
    {
     "name": "stdout",
     "output_type": "stream",
     "text": [
      "FWI iteration no: 14; function value: 643.5443\n",
      "(α, misfit) = "
     ]
    },
    {
     "name": "stderr",
     "output_type": "stream",
     "text": [
      "Operator `forward` ran in 0.04 s\n",
      "Operator `gradient` ran in 0.02 s\n",
      "Operator `forward` ran in 0.04 s\n",
      "Operator `gradient` ran in 0.02 s\n",
      "Operator `forward` ran in 0.04 s\n",
      "Operator `gradient` ran in 0.02 s\n",
      "Operator `forward` ran in 0.02 s\n",
      "Operator `gradient` ran in 0.02 s\n",
      "Operator `forward` ran in 0.02 s\n",
      "Operator `gradient` ran in 0.02 s\n",
      "Operator `forward` ran in 0.02 s\n",
      "Operator `gradient` ran in 0.02 s\n",
      "Operator `forward` ran in 0.02 s\n",
      "Operator `gradient` ran in 0.02 s\n",
      "Operator `forward` ran in 0.02 s\n",
      "Operator `gradient` ran in 0.02 s\n",
      "Operator `forward` ran in 0.02 s\n",
      "Operator `gradient` ran in 0.02 s\n",
      "Operator `forward` ran in 0.02 s\n",
      "Operator `gradient` ran in 0.02 s\n",
      "Operator `forward` ran in 0.02 s\n",
      "Operator `gradient` ran in 0.02 s\n",
      "Operator `forward` ran in 0.02 s\n",
      "Operator `gradient` ran in 0.02 s\n",
      "Operator `forward` ran in 0.02 s\n",
      "Operator `gradient` ran in 0.02 s\n",
      "Operator `forward` ran in 0.02 s\n",
      "Operator `gradient` ran in 0.02 s\n",
      "Operator `forward` ran in 0.02 s\n",
      "Operator `gradient` ran in 0.02 s\n",
      "Operator `forward` ran in 0.02 s\n",
      "Operator `gradient` ran in 0.02 s\n"
     ]
    },
    {
     "name": "stdout",
     "output_type": "stream",
     "text": [
      "(0.1f0, 1.0377411875e6)\n"
     ]
    },
    {
     "name": "stderr",
     "output_type": "stream",
     "text": [
      "Operator `forward` ran in 0.01 s\n",
      "Operator `forward` ran in 0.01 s\n",
      "Operator `forward` ran in 0.01 s\n",
      "Operator `forward` ran in 0.02 s\n",
      "Operator `forward` ran in 0.02 s\n",
      "Operator `forward` ran in 0.01 s\n",
      "Operator `forward` ran in 0.01 s\n",
      "Operator `forward` ran in 0.01 s\n",
      "Operator `forward` ran in 0.01 s\n",
      "Operator `forward` ran in 0.02 s\n",
      "Operator `forward` ran in 0.02 s\n",
      "Operator `forward` ran in 0.01 s\n",
      "Operator `forward` ran in 0.02 s\n",
      "Operator `forward` ran in 0.01 s\n",
      "Operator `forward` ran in 0.01 s\n",
      "Operator `forward` ran in 0.01 s\n"
     ]
    },
    {
     "name": "stdout",
     "output_type": "stream",
     "text": [
      "(α, misfit) = (0.010000000149011612, 9672.5107421875)\n",
      "(α, misfit) = "
     ]
    },
    {
     "name": "stderr",
     "output_type": "stream",
     "text": [
      "Operator `forward` ran in 0.02 s\n",
      "Operator `forward` ran in 0.02 s\n",
      "Operator `forward` ran in 0.01 s\n",
      "Operator `forward` ran in 0.01 s\n",
      "Operator `forward` ran in 0.02 s\n",
      "Operator `forward` ran in 0.02 s\n",
      "Operator `forward` ran in 0.01 s\n",
      "Operator `forward` ran in 0.01 s\n",
      "Operator `forward` ran in 0.02 s\n",
      "Operator `forward` ran in 0.01 s\n",
      "Operator `forward` ran in 0.01 s\n",
      "Operator `forward` ran in 0.01 s\n",
      "Operator `forward` ran in 0.01 s\n",
      "Operator `forward` ran in 0.02 s\n",
      "Operator `forward` ran in 0.02 s\n",
      "Operator `forward` ran in 0.01 s\n"
     ]
    },
    {
     "name": "stdout",
     "output_type": "stream",
     "text": [
      "(0.0010000000149011613, 493.1485900878906)\n"
     ]
    },
    {
     "name": "stderr",
     "output_type": "stream",
     "text": [
      "Operator `forward` ran in 0.02 s\n",
      "Operator `forward` ran in 0.02 s\n",
      "Operator `forward` ran in 0.01 s\n",
      "Operator `forward` ran in 0.01 s\n",
      "Operator `forward` ran in 0.01 s\n",
      "Operator `forward` ran in 0.02 s\n",
      "Operator `forward` ran in 0.01 s\n",
      "Operator `forward` ran in 0.01 s\n",
      "Operator `forward` ran in 0.02 s\n",
      "Operator `forward` ran in 0.02 s\n",
      "Operator `forward` ran in 0.02 s\n",
      "Operator `forward` ran in 0.02 s\n",
      "Operator `forward` ran in 0.01 s\n",
      "Operator `forward` ran in 0.01 s\n",
      "Operator `forward` ran in 0.01 s\n",
      "Operator `forward` ran in 0.02 s\n"
     ]
    },
    {
     "name": "stdout",
     "output_type": "stream",
     "text": [
      "FWI iteration no: 15; function value: 666.63794\n",
      "(α, misfit) = "
     ]
    },
    {
     "name": "stderr",
     "output_type": "stream",
     "text": [
      "Operator `forward` ran in 0.02 s\n",
      "Operator `gradient` ran in 0.02 s\n",
      "Operator `forward` ran in 0.02 s\n",
      "Operator `gradient` ran in 0.02 s\n",
      "Operator `forward` ran in 0.02 s\n",
      "Operator `gradient` ran in 0.02 s\n",
      "Operator `forward` ran in 0.02 s\n",
      "Operator `gradient` ran in 0.02 s\n",
      "Operator `forward` ran in 0.02 s\n",
      "Operator `gradient` ran in 0.02 s\n",
      "Operator `forward` ran in 0.02 s\n",
      "Operator `gradient` ran in 0.02 s\n",
      "Operator `forward` ran in 0.02 s\n",
      "Operator `gradient` ran in 0.02 s\n",
      "Operator `forward` ran in 0.02 s\n",
      "Operator `gradient` ran in 0.02 s\n",
      "Operator `forward` ran in 0.02 s\n",
      "Operator `gradient` ran in 0.02 s\n",
      "Operator `forward` ran in 0.02 s\n",
      "Operator `gradient` ran in 0.02 s\n",
      "Operator `forward` ran in 0.02 s\n",
      "Operator `gradient` ran in 0.02 s\n",
      "Operator `forward` ran in 0.02 s\n",
      "Operator `gradient` ran in 0.02 s\n",
      "Operator `forward` ran in 0.02 s\n",
      "Operator `gradient` ran in 0.03 s\n",
      "Operator `forward` ran in 0.02 s\n",
      "Operator `gradient` ran in 0.02 s\n",
      "Operator `forward` ran in 0.02 s\n",
      "Operator `gradient` ran in 0.02 s\n",
      "Operator `forward` ran in 0.02 s\n",
      "Operator `gradient` ran in 0.02 s\n"
     ]
    },
    {
     "name": "stdout",
     "output_type": "stream",
     "text": [
      "(0.1f0, 29614.421875)\n"
     ]
    },
    {
     "name": "stderr",
     "output_type": "stream",
     "text": [
      "Operator `forward` ran in 0.01 s\n",
      "Operator `forward` ran in 0.01 s\n",
      "Operator `forward` ran in 0.01 s\n",
      "Operator `forward` ran in 0.01 s\n",
      "Operator `forward` ran in 0.02 s\n",
      "Operator `forward` ran in 0.02 s\n",
      "Operator `forward` ran in 0.01 s\n",
      "Operator `forward` ran in 0.02 s\n",
      "Operator `forward` ran in 0.01 s\n",
      "Operator `forward` ran in 0.01 s\n",
      "Operator `forward` ran in 0.01 s\n",
      "Operator `forward` ran in 0.02 s\n",
      "Operator `forward` ran in 0.01 s\n",
      "Operator `forward` ran in 0.01 s\n",
      "Operator `forward` ran in 0.01 s\n",
      "Operator `forward` ran in 0.01 s\n"
     ]
    },
    {
     "name": "stdout",
     "output_type": "stream",
     "text": [
      "(α, misfit) = (0.0110190593756411, 783.0293579101562)\n",
      "(α, misfit) = "
     ]
    },
    {
     "name": "stderr",
     "output_type": "stream",
     "text": [
      "Operator `forward` ran in 0.02 s\n",
      "Operator `forward` ran in 0.01 s\n",
      "Operator `forward` ran in 0.02 s\n",
      "Operator `forward` ran in 0.02 s\n",
      "Operator `forward` ran in 0.02 s\n",
      "Operator `forward` ran in 0.01 s\n",
      "Operator `forward` ran in 0.01 s\n",
      "Operator `forward` ran in 0.01 s\n",
      "Operator `forward` ran in 0.02 s\n",
      "Operator `forward` ran in 0.01 s\n",
      "Operator `forward` ran in 0.01 s\n",
      "Operator `forward` ran in 0.01 s\n",
      "Operator `forward` ran in 0.02 s\n",
      "Operator `forward` ran in 0.02 s\n",
      "Operator `forward` ran in 0.04 s\n",
      "Operator `forward` ran in 0.04 s\n"
     ]
    },
    {
     "name": "stdout",
     "output_type": "stream",
     "text": [
      "(0.004764118299690554, 580.3794555664062)\n"
     ]
    },
    {
     "name": "stderr",
     "output_type": "stream",
     "text": [
      "Operator `forward` ran in 0.04 s\n",
      "Operator `forward` ran in 0.01 s\n",
      "Operator `forward` ran in 0.04 s\n",
      "Operator `forward` ran in 0.04 s\n",
      "Operator `forward` ran in 0.04 s\n",
      "Operator `forward` ran in 0.05 s\n",
      "Operator `forward` ran in 0.03 s\n",
      "Operator `forward` ran in 0.02 s\n",
      "Operator `forward` ran in 0.03 s\n",
      "Operator `forward` ran in 0.05 s\n",
      "Operator `forward` ran in 0.03 s\n",
      "Operator `forward` ran in 0.01 s\n",
      "Operator `forward` ran in 0.04 s\n",
      "Operator `forward` ran in 0.05 s\n",
      "Operator `forward` ran in 0.03 s\n",
      "Operator `forward` ran in 0.02 s\n"
     ]
    },
    {
     "name": "stdout",
     "output_type": "stream",
     "text": [
      "FWI iteration no: 16; function value: 584.7747\n",
      "(α, misfit) = "
     ]
    },
    {
     "name": "stderr",
     "output_type": "stream",
     "text": [
      "Operator `forward` ran in 0.02 s\n",
      "Operator `gradient` ran in 0.02 s\n",
      "Operator `forward` ran in 0.02 s\n",
      "Operator `gradient` ran in 0.02 s\n",
      "Operator `forward` ran in 0.02 s\n",
      "Operator `gradient` ran in 0.02 s\n",
      "Operator `forward` ran in 0.02 s\n",
      "Operator `gradient` ran in 0.02 s\n",
      "Operator `forward` ran in 0.02 s\n",
      "Operator `gradient` ran in 0.02 s\n",
      "Operator `forward` ran in 0.02 s\n",
      "Operator `gradient` ran in 0.02 s\n",
      "Operator `forward` ran in 0.02 s\n",
      "Operator `gradient` ran in 0.02 s\n",
      "Operator `forward` ran in 0.02 s\n",
      "Operator `gradient` ran in 0.02 s\n",
      "Operator `forward` ran in 0.02 s\n",
      "Operator `gradient` ran in 0.02 s\n",
      "Operator `forward` ran in 0.02 s\n",
      "Operator `gradient` ran in 0.02 s\n",
      "Operator `forward` ran in 0.02 s\n",
      "Operator `gradient` ran in 0.02 s\n",
      "Operator `forward` ran in 0.02 s\n",
      "Operator `gradient` ran in 0.02 s\n",
      "Operator `forward` ran in 0.03 s\n",
      "Operator `gradient` ran in 0.03 s\n",
      "Operator `forward` ran in 0.02 s\n",
      "Operator `gradient` ran in 0.02 s\n",
      "Operator `forward` ran in 0.02 s\n",
      "Operator `gradient` ran in 0.02 s\n",
      "Operator `forward` ran in 0.02 s\n",
      "Operator `gradient` ran in 0.02 s\n"
     ]
    },
    {
     "name": "stdout",
     "output_type": "stream",
     "text": [
      "(0.1f0, 1.1079355e6)\n"
     ]
    },
    {
     "name": "stderr",
     "output_type": "stream",
     "text": [
      "Operator `forward` ran in 0.01 s\n",
      "Operator `forward` ran in 0.01 s\n",
      "Operator `forward` ran in 0.02 s\n",
      "Operator `forward` ran in 0.02 s\n",
      "Operator `forward` ran in 0.01 s\n",
      "Operator `forward` ran in 0.02 s\n",
      "Operator `forward` ran in 0.01 s\n",
      "Operator `forward` ran in 0.01 s\n",
      "Operator `forward` ran in 0.01 s\n",
      "Operator `forward` ran in 0.01 s\n",
      "Operator `forward` ran in 0.01 s\n",
      "Operator `forward` ran in 0.01 s\n",
      "Operator `forward` ran in 0.02 s\n",
      "Operator `forward` ran in 0.01 s\n",
      "Operator `forward` ran in 0.01 s\n",
      "Operator `forward` ran in 0.02 s\n"
     ]
    },
    {
     "name": "stdout",
     "output_type": "stream",
     "text": [
      "(α, misfit) = (0.010000000149011612, 10904.65625)\n",
      "(α, misfit) = "
     ]
    },
    {
     "name": "stderr",
     "output_type": "stream",
     "text": [
      "Operator `forward` ran in 0.03 s\n",
      "Operator `forward` ran in 0.01 s\n",
      "Operator `forward` ran in 0.01 s\n",
      "Operator `forward` ran in 0.02 s\n",
      "Operator `forward` ran in 0.02 s\n",
      "Operator `forward` ran in 0.01 s\n",
      "Operator `forward` ran in 0.02 s\n",
      "Operator `forward` ran in 0.02 s\n",
      "Operator `forward` ran in 0.01 s\n",
      "Operator `forward` ran in 0.02 s\n",
      "Operator `forward` ran in 0.02 s\n",
      "Operator `forward` ran in 0.01 s\n",
      "Operator `forward` ran in 0.02 s\n",
      "Operator `forward` ran in 0.02 s\n",
      "Operator `forward` ran in 0.02 s\n",
      "Operator `forward` ran in 0.01 s\n"
     ]
    },
    {
     "name": "stdout",
     "output_type": "stream",
     "text": [
      "(0.0010000000149011613, 425.1346740722656)\n"
     ]
    },
    {
     "name": "stderr",
     "output_type": "stream",
     "text": [
      "Operator `forward` ran in 0.02 s\n",
      "Operator `forward` ran in 0.02 s\n",
      "Operator `forward` ran in 0.01 s\n",
      "Operator `forward` ran in 0.02 s\n",
      "Operator `forward` ran in 0.02 s\n",
      "Operator `forward` ran in 0.02 s\n",
      "Operator `forward` ran in 0.01 s\n",
      "Operator `forward` ran in 0.02 s\n",
      "Operator `forward` ran in 0.01 s\n",
      "Operator `forward` ran in 0.02 s\n",
      "Operator `forward` ran in 0.05 s\n",
      "Operator `forward` ran in 0.05 s\n",
      "Operator `forward` ran in 0.05 s\n",
      "Operator `forward` ran in 0.05 s\n",
      "Operator `forward` ran in 0.04 s\n",
      "Operator `forward` ran in 0.04 s\n"
     ]
    },
    {
     "name": "stdout",
     "output_type": "stream",
     "text": [
      "FWI iteration no: 17; function value: 491.22858\n",
      "(α, misfit) = "
     ]
    },
    {
     "name": "stderr",
     "output_type": "stream",
     "text": [
      "Operator `forward` ran in 0.04 s\n",
      "Operator `gradient` ran in 0.02 s\n",
      "Operator `forward` ran in 0.04 s\n",
      "Operator `gradient` ran in 0.02 s\n",
      "Operator `forward` ran in 0.02 s\n",
      "Operator `gradient` ran in 0.02 s\n",
      "Operator `forward` ran in 0.02 s\n",
      "Operator `gradient` ran in 0.02 s\n",
      "Operator `forward` ran in 0.02 s\n",
      "Operator `gradient` ran in 0.02 s\n",
      "Operator `forward` ran in 0.02 s\n",
      "Operator `gradient` ran in 0.02 s\n",
      "Operator `forward` ran in 0.02 s\n",
      "Operator `gradient` ran in 0.02 s\n",
      "Operator `forward` ran in 0.02 s\n",
      "Operator `gradient` ran in 0.02 s\n",
      "Operator `forward` ran in 0.02 s\n",
      "Operator `gradient` ran in 0.02 s\n",
      "Operator `forward` ran in 0.02 s\n",
      "Operator `gradient` ran in 0.02 s\n",
      "Operator `forward` ran in 0.02 s\n",
      "Operator `gradient` ran in 0.02 s\n",
      "Operator `forward` ran in 0.02 s\n",
      "Operator `gradient` ran in 0.02 s\n",
      "Operator `forward` ran in 0.02 s\n",
      "Operator `gradient` ran in 0.02 s\n",
      "Operator `forward` ran in 0.02 s\n",
      "Operator `gradient` ran in 0.02 s\n",
      "Operator `forward` ran in 0.02 s\n",
      "Operator `gradient` ran in 0.02 s\n",
      "Operator `forward` ran in 0.02 s\n",
      "Operator `gradient` ran in 0.02 s\n"
     ]
    },
    {
     "name": "stdout",
     "output_type": "stream",
     "text": [
      "(0.1f0, 8237.865234375)\n"
     ]
    },
    {
     "name": "stderr",
     "output_type": "stream",
     "text": [
      "Operator `forward` ran in 0.01 s\n",
      "Operator `forward` ran in 0.02 s\n",
      "Operator `forward` ran in 0.01 s\n",
      "Operator `forward` ran in 0.01 s\n",
      "Operator `forward` ran in 0.02 s\n",
      "Operator `forward` ran in 0.02 s\n",
      "Operator `forward` ran in 0.01 s\n",
      "Operator `forward` ran in 0.01 s\n",
      "Operator `forward` ran in 0.02 s\n",
      "Operator `forward` ran in 0.01 s\n",
      "Operator `forward` ran in 0.01 s\n",
      "Operator `forward` ran in 0.01 s\n",
      "Operator `forward` ran in 0.02 s\n",
      "Operator `forward` ran in 0.01 s\n",
      "Operator `forward` ran in 0.01 s\n",
      "Operator `forward` ran in 0.02 s\n"
     ]
    },
    {
     "name": "stdout",
     "output_type": "stream",
     "text": [
      "(α, misfit) = (0.026513818329931566, 894.1636962890625)\n",
      "(α, misfit) = "
     ]
    },
    {
     "name": "stderr",
     "output_type": "stream",
     "text": [
      "Operator `forward` ran in 0.02 s\n",
      "Operator `forward` ran in 0.01 s\n",
      "Operator `forward` ran in 0.02 s\n",
      "Operator `forward` ran in 0.01 s\n",
      "Operator `forward` ran in 0.02 s\n",
      "Operator `forward` ran in 0.01 s\n",
      "Operator `forward` ran in 0.01 s\n",
      "Operator `forward` ran in 0.02 s\n",
      "Operator `forward` ran in 0.02 s\n",
      "Operator `forward` ran in 0.01 s\n",
      "Operator `forward` ran in 0.02 s\n",
      "Operator `forward` ran in 0.02 s\n",
      "Operator `forward` ran in 0.01 s\n",
      "Operator `forward` ran in 0.01 s\n",
      "Operator `forward` ran in 0.02 s\n",
      "Operator `forward` ran in 0.03 s\n"
     ]
    },
    {
     "name": "stdout",
     "output_type": "stream",
     "text": [
      "(0.010407917693481445, 459.0422668457031)\n"
     ]
    },
    {
     "name": "stderr",
     "output_type": "stream",
     "text": [
      "Operator `forward` ran in 0.04 s\n",
      "Operator `forward` ran in 0.05 s\n",
      "Operator `forward` ran in 0.04 s\n",
      "Operator `forward` ran in 0.05 s\n",
      "Operator `forward` ran in 0.05 s\n",
      "Operator `forward` ran in 0.05 s\n",
      "Operator `forward` ran in 0.03 s\n",
      "Operator `forward` ran in 0.01 s\n",
      "Operator `forward` ran in 0.02 s\n",
      "Operator `forward` ran in 0.01 s\n",
      "Operator `forward` ran in 0.01 s\n",
      "Operator `forward` ran in 0.02 s\n",
      "Operator `forward` ran in 0.01 s\n",
      "Operator `forward` ran in 0.01 s\n",
      "Operator `forward` ran in 0.02 s\n",
      "Operator `forward` ran in 0.01 s\n"
     ]
    },
    {
     "name": "stdout",
     "output_type": "stream",
     "text": [
      "FWI iteration no: 18; function value: 648.9617\n",
      "(α, misfit) = "
     ]
    },
    {
     "name": "stderr",
     "output_type": "stream",
     "text": [
      "Operator `forward` ran in 0.02 s\n",
      "Operator `gradient` ran in 0.02 s\n",
      "Operator `forward` ran in 0.02 s\n",
      "Operator `gradient` ran in 0.02 s\n",
      "Operator `forward` ran in 0.02 s\n",
      "Operator `gradient` ran in 0.02 s\n",
      "Operator `forward` ran in 0.02 s\n",
      "Operator `gradient` ran in 0.02 s\n",
      "Operator `forward` ran in 0.02 s\n",
      "Operator `gradient` ran in 0.02 s\n",
      "Operator `forward` ran in 0.02 s\n",
      "Operator `gradient` ran in 0.02 s\n",
      "Operator `forward` ran in 0.02 s\n",
      "Operator `gradient` ran in 0.02 s\n",
      "Operator `forward` ran in 0.02 s\n",
      "Operator `gradient` ran in 0.02 s\n",
      "Operator `forward` ran in 0.02 s\n",
      "Operator `gradient` ran in 0.02 s\n",
      "Operator `forward` ran in 0.02 s\n",
      "Operator `gradient` ran in 0.03 s\n",
      "Operator `forward` ran in 0.02 s\n",
      "Operator `gradient` ran in 0.02 s\n",
      "Operator `forward` ran in 0.02 s\n",
      "Operator `gradient` ran in 0.02 s\n",
      "Operator `forward` ran in 0.02 s\n",
      "Operator `gradient` ran in 0.02 s\n",
      "Operator `forward` ran in 0.02 s\n",
      "Operator `gradient` ran in 0.02 s\n",
      "Operator `forward` ran in 0.02 s\n",
      "Operator `gradient` ran in 0.02 s\n",
      "Operator `forward` ran in 0.02 s\n",
      "Operator `gradient` ran in 0.02 s\n"
     ]
    },
    {
     "name": "stdout",
     "output_type": "stream",
     "text": [
      "(0.1f0, 1.11900925e6)\n"
     ]
    },
    {
     "name": "stderr",
     "output_type": "stream",
     "text": [
      "Operator `forward` ran in 0.01 s\n",
      "Operator `forward` ran in 0.01 s\n",
      "Operator `forward` ran in 0.01 s\n",
      "Operator `forward` ran in 0.01 s\n",
      "Operator `forward` ran in 0.02 s\n",
      "Operator `forward` ran in 0.02 s\n",
      "Operator `forward` ran in 0.02 s\n",
      "Operator `forward` ran in 0.01 s\n",
      "Operator `forward` ran in 0.01 s\n",
      "Operator `forward` ran in 0.01 s\n",
      "Operator `forward` ran in 0.02 s\n",
      "Operator `forward` ran in 0.01 s\n",
      "Operator `forward` ran in 0.01 s\n",
      "Operator `forward` ran in 0.02 s\n",
      "Operator `forward` ran in 0.02 s\n",
      "Operator `forward` ran in 0.02 s\n"
     ]
    },
    {
     "name": "stdout",
     "output_type": "stream",
     "text": [
      "(α, misfit) = (0.010000000149011612, 11060.60546875)\n",
      "(α, misfit) = "
     ]
    },
    {
     "name": "stderr",
     "output_type": "stream",
     "text": [
      "Operator `forward` ran in 0.03 s\n",
      "Operator `forward` ran in 0.01 s\n",
      "Operator `forward` ran in 0.01 s\n",
      "Operator `forward` ran in 0.01 s\n",
      "Operator `forward` ran in 0.02 s\n",
      "Operator `forward` ran in 0.02 s\n",
      "Operator `forward` ran in 0.02 s\n",
      "Operator `forward` ran in 0.01 s\n",
      "Operator `forward` ran in 0.02 s\n",
      "Operator `forward` ran in 0.02 s\n",
      "Operator `forward` ran in 0.01 s\n",
      "Operator `forward` ran in 0.01 s\n",
      "Operator `forward` ran in 0.02 s\n",
      "Operator `forward` ran in 0.02 s\n",
      "Operator `forward` ran in 0.01 s\n",
      "Operator `forward` ran in 0.02 s\n"
     ]
    },
    {
     "name": "stdout",
     "output_type": "stream",
     "text": [
      "(0.0010000000149011613, 445.0066223144531)\n"
     ]
    },
    {
     "name": "stderr",
     "output_type": "stream",
     "text": [
      "Operator `forward` ran in 0.02 s\n",
      "Operator `forward` ran in 0.01 s\n",
      "Operator `forward` ran in 0.01 s\n",
      "Operator `forward` ran in 0.01 s\n",
      "Operator `forward` ran in 0.01 s\n",
      "Operator `forward` ran in 0.01 s\n",
      "Operator `forward` ran in 0.02 s\n",
      "Operator `forward` ran in 0.01 s\n",
      "Operator `forward` ran in 0.02 s\n",
      "Operator `forward` ran in 0.02 s\n",
      "Operator `forward` ran in 0.02 s\n",
      "Operator `forward` ran in 0.01 s\n",
      "Operator `forward` ran in 0.01 s\n",
      "Operator `forward` ran in 0.02 s\n",
      "Operator `forward` ran in 0.02 s\n",
      "Operator `forward` ran in 0.01 s\n"
     ]
    },
    {
     "name": "stdout",
     "output_type": "stream",
     "text": [
      "FWI iteration no: 19; function value: 527.3247\n",
      "(α, misfit) = "
     ]
    },
    {
     "name": "stderr",
     "output_type": "stream",
     "text": [
      "Operator `forward` ran in 0.04 s\n",
      "Operator `gradient` ran in 0.02 s\n",
      "Operator `forward` ran in 0.05 s\n",
      "Operator `gradient` ran in 0.02 s\n",
      "Operator `forward` ran in 0.04 s\n",
      "Operator `gradient` ran in 0.02 s\n",
      "Operator `forward` ran in 0.04 s\n",
      "Operator `gradient` ran in 0.02 s\n",
      "Operator `forward` ran in 0.05 s\n",
      "Operator `gradient` ran in 0.02 s\n",
      "Operator `forward` ran in 0.04 s\n",
      "Operator `gradient` ran in 0.02 s\n",
      "Operator `forward` ran in 0.02 s\n",
      "Operator `gradient` ran in 0.02 s\n",
      "Operator `forward` ran in 0.02 s\n",
      "Operator `gradient` ran in 0.02 s\n",
      "Operator `forward` ran in 0.03 s\n",
      "Operator `gradient` ran in 0.02 s\n",
      "Operator `forward` ran in 0.02 s\n",
      "Operator `gradient` ran in 0.02 s\n",
      "Operator `forward` ran in 0.02 s\n",
      "Operator `gradient` ran in 0.02 s\n",
      "Operator `forward` ran in 0.02 s\n",
      "Operator `gradient` ran in 0.02 s\n",
      "Operator `forward` ran in 0.02 s\n",
      "Operator `gradient` ran in 0.02 s\n",
      "Operator `forward` ran in 0.02 s\n",
      "Operator `gradient` ran in 0.02 s\n",
      "Operator `forward` ran in 0.02 s\n",
      "Operator `gradient` ran in 0.02 s\n",
      "Operator `forward` ran in 0.02 s\n",
      "Operator `gradient` ran in 0.02 s\n"
     ]
    },
    {
     "name": "stdout",
     "output_type": "stream",
     "text": [
      "(0.1f0, 101982.5546875)\n"
     ]
    },
    {
     "name": "stderr",
     "output_type": "stream",
     "text": [
      "Operator `forward` ran in 0.01 s\n",
      "Operator `forward` ran in 0.02 s\n",
      "Operator `forward` ran in 0.01 s\n",
      "Operator `forward` ran in 0.02 s\n",
      "Operator `forward` ran in 0.02 s\n",
      "Operator `forward` ran in 0.01 s\n",
      "Operator `forward` ran in 0.01 s\n",
      "Operator `forward` ran in 0.01 s\n",
      "Operator `forward` ran in 0.02 s\n",
      "Operator `forward` ran in 0.01 s\n",
      "Operator `forward` ran in 0.01 s\n",
      "Operator `forward` ran in 0.02 s\n",
      "Operator `forward` ran in 0.02 s\n",
      "Operator `forward` ran in 0.02 s\n",
      "Operator `forward` ran in 0.02 s\n",
      "Operator `forward` ran in 0.01 s\n"
     ]
    },
    {
     "name": "stdout",
     "output_type": "stream",
     "text": [
      "(α, misfit) = (0.010000000149011612, 1229.6605224609375)\n",
      "(α, misfit) = "
     ]
    },
    {
     "name": "stderr",
     "output_type": "stream",
     "text": [
      "Operator `forward` ran in 0.02 s\n",
      "Operator `forward` ran in 0.01 s\n",
      "Operator `forward` ran in 0.02 s\n",
      "Operator `forward` ran in 0.02 s\n",
      "Operator `forward` ran in 0.01 s\n",
      "Operator `forward` ran in 0.02 s\n",
      "Operator `forward` ran in 0.02 s\n",
      "Operator `forward` ran in 0.01 s\n",
      "Operator `forward` ran in 0.02 s\n",
      "Operator `forward` ran in 0.01 s\n",
      "Operator `forward` ran in 0.02 s\n",
      "Operator `forward` ran in 0.01 s\n",
      "Operator `forward` ran in 0.01 s\n",
      "Operator `forward` ran in 0.01 s\n",
      "Operator `forward` ran in 0.01 s\n",
      "Operator `forward` ran in 0.02 s\n"
     ]
    },
    {
     "name": "stdout",
     "output_type": "stream",
     "text": [
      "(0.0027422106078686423, 435.1463317871094)\n"
     ]
    },
    {
     "name": "stderr",
     "output_type": "stream",
     "text": [
      "Operator `forward` ran in 0.02 s\n",
      "Operator `forward` ran in 0.01 s\n",
      "Operator `forward` ran in 0.02 s\n",
      "Operator `forward` ran in 0.01 s\n",
      "Operator `forward` ran in 0.02 s\n",
      "Operator `forward` ran in 0.02 s\n",
      "Operator `forward` ran in 0.02 s\n",
      "Operator `forward` ran in 0.05 s\n",
      "Operator `forward` ran in 0.04 s\n",
      "Operator `forward` ran in 0.05 s\n",
      "Operator `forward` ran in 0.05 s\n",
      "Operator `forward` ran in 0.05 s\n",
      "Operator `forward` ran in 0.05 s\n",
      "Operator `forward` ran in 0.01 s\n",
      "Operator `forward` ran in 0.02 s\n",
      "Operator `forward` ran in 0.02 s\n"
     ]
    },
    {
     "name": "stdout",
     "output_type": "stream",
     "text": [
      "FWI iteration no: 20; function value: 605.57416\n",
      "(α, misfit) = "
     ]
    },
    {
     "name": "stderr",
     "output_type": "stream",
     "text": [
      "Operator `forward` ran in 0.02 s\n",
      "Operator `gradient` ran in 0.02 s\n",
      "Operator `forward` ran in 0.02 s\n",
      "Operator `gradient` ran in 0.02 s\n",
      "Operator `forward` ran in 0.02 s\n",
      "Operator `gradient` ran in 0.02 s\n",
      "Operator `forward` ran in 0.02 s\n",
      "Operator `gradient` ran in 0.02 s\n",
      "Operator `forward` ran in 0.02 s\n",
      "Operator `gradient` ran in 0.02 s\n",
      "Operator `forward` ran in 0.02 s\n",
      "Operator `gradient` ran in 0.02 s\n",
      "Operator `forward` ran in 0.02 s\n",
      "Operator `gradient` ran in 0.02 s\n",
      "Operator `forward` ran in 0.02 s\n",
      "Operator `gradient` ran in 0.02 s\n",
      "Operator `forward` ran in 0.02 s\n",
      "Operator `gradient` ran in 0.02 s\n",
      "Operator `forward` ran in 0.02 s\n",
      "Operator `gradient` ran in 0.02 s\n",
      "Operator `forward` ran in 0.02 s\n",
      "Operator `gradient` ran in 0.02 s\n",
      "Operator `forward` ran in 0.02 s\n",
      "Operator `gradient` ran in 0.02 s\n",
      "Operator `forward` ran in 0.02 s\n",
      "Operator `gradient` ran in 0.02 s\n",
      "Operator `forward` ran in 0.02 s\n",
      "Operator `gradient` ran in 0.02 s\n",
      "Operator `forward` ran in 0.02 s\n",
      "Operator `gradient` ran in 0.02 s\n",
      "Operator `forward` ran in 0.02 s\n",
      "Operator `gradient` ran in 0.02 s\n"
     ]
    },
    {
     "name": "stdout",
     "output_type": "stream",
     "text": [
      "(0.1f0, 1.145866625e6)\n"
     ]
    },
    {
     "name": "stderr",
     "output_type": "stream",
     "text": [
      "Operator `forward` ran in 0.03 s\n",
      "Operator `forward` ran in 0.01 s\n",
      "Operator `forward` ran in 0.02 s\n",
      "Operator `forward` ran in 0.01 s\n",
      "Operator `forward` ran in 0.02 s\n",
      "Operator `forward` ran in 0.01 s\n",
      "Operator `forward` ran in 0.02 s\n",
      "Operator `forward` ran in 0.01 s\n",
      "Operator `forward` ran in 0.02 s\n",
      "Operator `forward` ran in 0.01 s\n",
      "Operator `forward` ran in 0.02 s\n",
      "Operator `forward` ran in 0.02 s\n",
      "Operator `forward` ran in 0.01 s\n",
      "Operator `forward` ran in 0.01 s\n",
      "Operator `forward` ran in 0.01 s\n",
      "Operator `forward` ran in 0.01 s\n"
     ]
    },
    {
     "name": "stdout",
     "output_type": "stream",
     "text": [
      "(α, misfit) = (0.010000000149011612, 12019.3359375)\n",
      "(α, misfit) = "
     ]
    },
    {
     "name": "stderr",
     "output_type": "stream",
     "text": [
      "Operator `forward` ran in 0.02 s\n",
      "Operator `forward` ran in 0.01 s\n",
      "Operator `forward` ran in 0.02 s\n",
      "Operator `forward` ran in 0.02 s\n",
      "Operator `forward` ran in 0.02 s\n",
      "Operator `forward` ran in 0.02 s\n",
      "Operator `forward` ran in 0.02 s\n",
      "Operator `forward` ran in 0.01 s\n",
      "Operator `forward` ran in 0.02 s\n",
      "Operator `forward` ran in 0.01 s\n",
      "Operator `forward` ran in 0.01 s\n",
      "Operator `forward` ran in 0.02 s\n",
      "Operator `forward` ran in 0.01 s\n",
      "Operator `forward` ran in 0.01 s\n",
      "Operator `forward` ran in 0.01 s\n",
      "Operator `forward` ran in 0.02 s\n"
     ]
    },
    {
     "name": "stdout",
     "output_type": "stream",
     "text": [
      "(0.0010000000149011613, 402.3753967285156)\n"
     ]
    },
    {
     "name": "stderr",
     "output_type": "stream",
     "text": [
      "Operator `forward` ran in 0.02 s\n",
      "Operator `forward` ran in 0.01 s\n",
      "Operator `forward` ran in 0.02 s\n",
      "Operator `forward` ran in 0.02 s\n",
      "Operator `forward` ran in 0.02 s\n",
      "Operator `forward` ran in 0.01 s\n",
      "Operator `forward` ran in 0.02 s\n",
      "Operator `forward` ran in 0.01 s\n",
      "Operator `forward` ran in 0.02 s\n",
      "Operator `forward` ran in 0.01 s\n",
      "Operator `forward` ran in 0.02 s\n",
      "Operator `forward` ran in 0.01 s\n",
      "Operator `forward` ran in 0.01 s\n",
      "Operator `forward` ran in 0.02 s\n",
      "Operator `forward` ran in 0.01 s\n",
      "Operator `forward` ran in 0.01 s\n"
     ]
    },
    {
     "name": "stdout",
     "output_type": "stream",
     "text": [
      "FWI iteration no: 21; function value: 427.28418\n",
      "(α, misfit) = "
     ]
    },
    {
     "name": "stderr",
     "output_type": "stream",
     "text": [
      "Operator `forward` ran in 0.02 s\n",
      "Operator `gradient` ran in 0.02 s\n",
      "Operator `forward` ran in 0.02 s\n",
      "Operator `gradient` ran in 0.02 s\n",
      "Operator `forward` ran in 0.04 s\n",
      "Operator `gradient` ran in 0.02 s\n",
      "Operator `forward` ran in 0.02 s\n",
      "Operator `gradient` ran in 0.02 s\n",
      "Operator `forward` ran in 0.05 s\n",
      "Operator `gradient` ran in 0.02 s\n",
      "Operator `forward` ran in 0.04 s\n",
      "Operator `gradient` ran in 0.02 s\n",
      "Operator `forward` ran in 0.02 s\n",
      "Operator `gradient` ran in 0.02 s\n",
      "Operator `forward` ran in 0.02 s\n",
      "Operator `gradient` ran in 0.02 s\n",
      "Operator `forward` ran in 0.02 s\n",
      "Operator `gradient` ran in 0.02 s\n",
      "Operator `forward` ran in 0.03 s\n",
      "Operator `gradient` ran in 0.02 s\n",
      "Operator `forward` ran in 0.02 s\n",
      "Operator `gradient` ran in 0.02 s\n",
      "Operator `forward` ran in 0.02 s\n",
      "Operator `gradient` ran in 0.02 s\n",
      "Operator `forward` ran in 0.02 s\n",
      "Operator `gradient` ran in 0.02 s\n",
      "Operator `forward` ran in 0.02 s\n",
      "Operator `gradient` ran in 0.03 s\n",
      "Operator `forward` ran in 0.05 s\n",
      "Operator `gradient` ran in 0.02 s\n",
      "Operator `forward` ran in 0.03 s\n",
      "Operator `gradient` ran in 0.02 s\n"
     ]
    },
    {
     "name": "stdout",
     "output_type": "stream",
     "text": [
      "(0.1f0, 2420.55078125)\n"
     ]
    },
    {
     "name": "stderr",
     "output_type": "stream",
     "text": [
      "Operator `forward` ran in 0.01 s\n",
      "Operator `forward` ran in 0.01 s\n",
      "Operator `forward` ran in 0.02 s\n",
      "Operator `forward` ran in 0.02 s\n",
      "Operator `forward` ran in 0.02 s\n",
      "Operator `forward` ran in 0.02 s\n",
      "Operator `forward` ran in 0.02 s\n",
      "Operator `forward` ran in 0.02 s\n",
      "Operator `forward` ran in 0.02 s\n",
      "Operator `forward` ran in 0.05 s\n",
      "Operator `forward` ran in 0.02 s\n",
      "Operator `forward` ran in 0.02 s\n",
      "Operator `forward` ran in 0.02 s\n",
      "Operator `forward` ran in 0.02 s\n",
      "Operator `forward` ran in 0.02 s\n",
      "Operator `forward` ran in 0.02 s\n"
     ]
    },
    {
     "name": "stdout",
     "output_type": "stream",
     "text": [
      "(α, misfit) = (0.04064129693887498, 646.3101806640625)\n",
      "(α, misfit) = "
     ]
    },
    {
     "name": "stderr",
     "output_type": "stream",
     "text": [
      "Operator `forward` ran in 0.03 s\n",
      "Operator `forward` ran in 0.02 s\n",
      "Operator `forward` ran in 0.02 s\n",
      "Operator `forward` ran in 0.02 s\n",
      "Operator `forward` ran in 0.01 s\n",
      "Operator `forward` ran in 0.01 s\n",
      "Operator `forward` ran in 0.02 s\n",
      "Operator `forward` ran in 0.01 s\n",
      "Operator `forward` ran in 0.01 s\n",
      "Operator `forward` ran in 0.02 s\n",
      "Operator `forward` ran in 0.02 s\n",
      "Operator `forward` ran in 0.02 s\n",
      "Operator `forward` ran in 0.01 s\n",
      "Operator `forward` ran in 0.01 s\n",
      "Operator `forward` ran in 0.02 s\n",
      "Operator `forward` ran in 0.01 s\n"
     ]
    },
    {
     "name": "stdout",
     "output_type": "stream",
     "text": [
      "(0.016817993475206967, 380.2237243652344)\n"
     ]
    },
    {
     "name": "stderr",
     "output_type": "stream",
     "text": [
      "Operator `forward` ran in 0.03 s\n",
      "Operator `forward` ran in 0.01 s\n",
      "Operator `forward` ran in 0.02 s\n",
      "Operator `forward` ran in 0.01 s\n",
      "Operator `forward` ran in 0.01 s\n",
      "Operator `forward` ran in 0.02 s\n",
      "Operator `forward` ran in 0.02 s\n",
      "Operator `forward` ran in 0.02 s\n",
      "Operator `forward` ran in 0.02 s\n",
      "Operator `forward` ran in 0.01 s\n",
      "Operator `forward` ran in 0.01 s\n",
      "Operator `forward` ran in 0.01 s\n",
      "Operator `forward` ran in 0.01 s\n",
      "Operator `forward` ran in 0.01 s\n",
      "Operator `forward` ran in 0.01 s\n",
      "Operator `forward` ran in 0.01 s\n"
     ]
    },
    {
     "name": "stdout",
     "output_type": "stream",
     "text": [
      "FWI iteration no: 22; function value: 527.746\n",
      "(α, misfit) = "
     ]
    },
    {
     "name": "stderr",
     "output_type": "stream",
     "text": [
      "Operator `forward` ran in 0.02 s\n",
      "Operator `gradient` ran in 0.02 s\n",
      "Operator `forward` ran in 0.02 s\n",
      "Operator `gradient` ran in 0.02 s\n",
      "Operator `forward` ran in 0.02 s\n",
      "Operator `gradient` ran in 0.02 s\n",
      "Operator `forward` ran in 0.02 s\n",
      "Operator `gradient` ran in 0.02 s\n",
      "Operator `forward` ran in 0.02 s\n",
      "Operator `gradient` ran in 0.02 s\n",
      "Operator `forward` ran in 0.02 s\n",
      "Operator `gradient` ran in 0.02 s\n",
      "Operator `forward` ran in 0.02 s\n",
      "Operator `gradient` ran in 0.02 s\n",
      "Operator `forward` ran in 0.02 s\n",
      "Operator `gradient` ran in 0.02 s\n",
      "Operator `forward` ran in 0.02 s\n",
      "Operator `gradient` ran in 0.02 s\n",
      "Operator `forward` ran in 0.02 s\n",
      "Operator `gradient` ran in 0.02 s\n",
      "Operator `forward` ran in 0.02 s\n",
      "Operator `gradient` ran in 0.02 s\n",
      "Operator `forward` ran in 0.02 s\n",
      "Operator `gradient` ran in 0.02 s\n",
      "Operator `forward` ran in 0.02 s\n",
      "Operator `gradient` ran in 0.02 s\n",
      "Operator `forward` ran in 0.02 s\n",
      "Operator `gradient` ran in 0.02 s\n",
      "Operator `forward` ran in 0.02 s\n",
      "Operator `gradient` ran in 0.02 s\n",
      "Operator `forward` ran in 0.02 s\n",
      "Operator `gradient` ran in 0.02 s\n"
     ]
    },
    {
     "name": "stdout",
     "output_type": "stream",
     "text": [
      "(0.1f0, 1.070414e6)\n"
     ]
    },
    {
     "name": "stderr",
     "output_type": "stream",
     "text": [
      "Operator `forward` ran in 0.01 s\n",
      "Operator `forward` ran in 0.01 s\n",
      "Operator `forward` ran in 0.02 s\n",
      "Operator `forward` ran in 0.01 s\n",
      "Operator `forward` ran in 0.02 s\n",
      "Operator `forward` ran in 0.02 s\n",
      "Operator `forward` ran in 0.01 s\n",
      "Operator `forward` ran in 0.02 s\n",
      "Operator `forward` ran in 0.02 s\n",
      "Operator `forward` ran in 0.01 s\n",
      "Operator `forward` ran in 0.01 s\n",
      "Operator `forward` ran in 0.02 s\n",
      "Operator `forward` ran in 0.01 s\n",
      "Operator `forward` ran in 0.01 s\n",
      "Operator `forward` ran in 0.01 s\n",
      "Operator `forward` ran in 0.02 s\n"
     ]
    },
    {
     "name": "stdout",
     "output_type": "stream",
     "text": [
      "(α, misfit) = (0.010000000149011612, 9995.34765625)\n",
      "(α, misfit) = "
     ]
    },
    {
     "name": "stderr",
     "output_type": "stream",
     "text": [
      "Operator `forward` ran in 0.02 s\n",
      "Operator `forward` ran in 0.02 s\n",
      "Operator `forward` ran in 0.01 s\n",
      "Operator `forward` ran in 0.01 s\n",
      "Operator `forward` ran in 0.01 s\n",
      "Operator `forward` ran in 0.01 s\n",
      "Operator `forward` ran in 0.01 s\n",
      "Operator `forward` ran in 0.01 s\n",
      "Operator `forward` ran in 0.02 s\n",
      "Operator `forward` ran in 0.02 s\n",
      "Operator `forward` ran in 0.01 s\n",
      "Operator `forward` ran in 0.01 s\n",
      "Operator `forward` ran in 0.01 s\n",
      "Operator `forward` ran in 0.01 s\n",
      "Operator `forward` ran in 0.01 s\n",
      "Operator `forward` ran in 0.02 s\n"
     ]
    },
    {
     "name": "stdout",
     "output_type": "stream",
     "text": [
      "(0.0010000000149011613, 324.46649169921875)\n"
     ]
    },
    {
     "name": "stderr",
     "output_type": "stream",
     "text": [
      "Operator `forward` ran in 0.05 s\n",
      "Operator `forward` ran in 0.04 s\n",
      "Operator `forward` ran in 0.03 s\n",
      "Operator `forward` ran in 0.05 s\n",
      "Operator `forward` ran in 0.04 s\n",
      "Operator `forward` ran in 0.05 s\n",
      "Operator `forward` ran in 0.03 s\n",
      "Operator `forward` ran in 0.01 s\n",
      "Operator `forward` ran in 0.04 s\n",
      "Operator `forward` ran in 0.04 s\n",
      "Operator `forward` ran in 0.03 s\n",
      "Operator `forward` ran in 0.03 s\n",
      "Operator `forward` ran in 0.05 s\n",
      "Operator `forward` ran in 0.02 s\n",
      "Operator `forward` ran in 0.02 s\n",
      "Operator `forward` ran in 0.01 s\n"
     ]
    },
    {
     "name": "stdout",
     "output_type": "stream",
     "text": [
      "FWI iteration no: 23; function value: 407.24268\n",
      "(α, misfit) = "
     ]
    },
    {
     "name": "stderr",
     "output_type": "stream",
     "text": [
      "Operator `forward` ran in 0.02 s\n",
      "Operator `gradient` ran in 0.02 s\n",
      "Operator `forward` ran in 0.02 s\n",
      "Operator `gradient` ran in 0.02 s\n",
      "Operator `forward` ran in 0.02 s\n",
      "Operator `gradient` ran in 0.02 s\n",
      "Operator `forward` ran in 0.02 s\n",
      "Operator `gradient` ran in 0.02 s\n",
      "Operator `forward` ran in 0.02 s\n",
      "Operator `gradient` ran in 0.02 s\n",
      "Operator `forward` ran in 0.02 s\n",
      "Operator `gradient` ran in 0.02 s\n",
      "Operator `forward` ran in 0.02 s\n",
      "Operator `gradient` ran in 0.02 s\n",
      "Operator `forward` ran in 0.02 s\n",
      "Operator `gradient` ran in 0.02 s\n",
      "Operator `forward` ran in 0.02 s\n",
      "Operator `gradient` ran in 0.02 s\n",
      "Operator `forward` ran in 0.02 s\n",
      "Operator `gradient` ran in 0.02 s\n",
      "Operator `forward` ran in 0.02 s\n",
      "Operator `gradient` ran in 0.02 s\n",
      "Operator `forward` ran in 0.02 s\n",
      "Operator `gradient` ran in 0.02 s\n",
      "Operator `forward` ran in 0.02 s\n",
      "Operator `gradient` ran in 0.02 s\n",
      "Operator `forward` ran in 0.02 s\n",
      "Operator `gradient` ran in 0.02 s\n",
      "Operator `forward` ran in 0.02 s\n",
      "Operator `gradient` ran in 0.02 s\n",
      "Operator `forward` ran in 0.02 s\n",
      "Operator `gradient` ran in 0.02 s\n"
     ]
    },
    {
     "name": "stdout",
     "output_type": "stream",
     "text": [
      "(0.1f0, 86301.625)\n"
     ]
    },
    {
     "name": "stderr",
     "output_type": "stream",
     "text": [
      "Operator `forward` ran in 0.01 s\n",
      "Operator `forward` ran in 0.01 s\n",
      "Operator `forward` ran in 0.01 s\n",
      "Operator `forward` ran in 0.01 s\n",
      "Operator `forward` ran in 0.01 s\n",
      "Operator `forward` ran in 0.01 s\n",
      "Operator `forward` ran in 0.01 s\n",
      "Operator `forward` ran in 0.01 s\n",
      "Operator `forward` ran in 0.01 s\n",
      "Operator `forward` ran in 0.01 s\n",
      "Operator `forward` ran in 0.01 s\n",
      "Operator `forward` ran in 0.02 s\n",
      "Operator `forward` ran in 0.01 s\n",
      "Operator `forward` ran in 0.01 s\n",
      "Operator `forward` ran in 0.01 s\n",
      "Operator `forward` ran in 0.01 s\n"
     ]
    },
    {
     "name": "stdout",
     "output_type": "stream",
     "text": [
      "(α, misfit) = (0.010000000149011612, 1027.7615966796875)\n",
      "(α, misfit) = "
     ]
    },
    {
     "name": "stderr",
     "output_type": "stream",
     "text": [
      "Operator `forward` ran in 0.02 s\n",
      "Operator `forward` ran in 0.01 s\n",
      "Operator `forward` ran in 0.02 s\n",
      "Operator `forward` ran in 0.01 s\n",
      "Operator `forward` ran in 0.01 s\n",
      "Operator `forward` ran in 0.02 s\n",
      "Operator `forward` ran in 0.01 s\n",
      "Operator `forward` ran in 0.01 s\n",
      "Operator `forward` ran in 0.01 s\n",
      "Operator `forward` ran in 0.01 s\n",
      "Operator `forward` ran in 0.02 s\n",
      "Operator `forward` ran in 0.01 s\n",
      "Operator `forward` ran in 0.02 s\n",
      "Operator `forward` ran in 0.01 s\n",
      "Operator `forward` ran in 0.02 s\n",
      "Operator `forward` ran in 0.01 s\n"
     ]
    },
    {
     "name": "stdout",
     "output_type": "stream",
     "text": [
      "(0.0028270805383780314, 316.9625549316406)\n"
     ]
    },
    {
     "name": "stderr",
     "output_type": "stream",
     "text": [
      "Operator `forward` ran in 0.02 s\n",
      "Operator `forward` ran in 0.01 s\n",
      "Operator `forward` ran in 0.01 s\n",
      "Operator `forward` ran in 0.02 s\n",
      "Operator `forward` ran in 0.01 s\n",
      "Operator `forward` ran in 0.01 s\n",
      "Operator `forward` ran in 0.02 s\n",
      "Operator `forward` ran in 0.02 s\n",
      "Operator `forward` ran in 0.01 s\n",
      "Operator `forward` ran in 0.02 s\n",
      "Operator `forward` ran in 0.02 s\n",
      "Operator `forward` ran in 0.04 s\n",
      "Operator `forward` ran in 0.03 s\n",
      "Operator `forward` ran in 0.04 s\n",
      "Operator `forward` ran in 0.03 s\n",
      "Operator `forward` ran in 0.01 s\n"
     ]
    },
    {
     "name": "stdout",
     "output_type": "stream",
     "text": [
      "FWI iteration no: 24; function value: 530.1197\n",
      "(α, misfit) = "
     ]
    },
    {
     "name": "stderr",
     "output_type": "stream",
     "text": [
      "Operator `forward` ran in 0.04 s\n",
      "Operator `gradient` ran in 0.02 s\n",
      "Operator `forward` ran in 0.04 s\n",
      "Operator `gradient` ran in 0.02 s\n",
      "Operator `forward` ran in 0.05 s\n",
      "Operator `gradient` ran in 0.02 s\n",
      "Operator `forward` ran in 0.02 s\n",
      "Operator `gradient` ran in 0.02 s\n",
      "Operator `forward` ran in 0.02 s\n",
      "Operator `gradient` ran in 0.02 s\n",
      "Operator `forward` ran in 0.02 s\n",
      "Operator `gradient` ran in 0.02 s\n",
      "Operator `forward` ran in 0.02 s\n",
      "Operator `gradient` ran in 0.02 s\n",
      "Operator `forward` ran in 0.02 s\n",
      "Operator `gradient` ran in 0.02 s\n",
      "Operator `forward` ran in 0.02 s\n",
      "Operator `gradient` ran in 0.02 s\n",
      "Operator `forward` ran in 0.02 s\n",
      "Operator `gradient` ran in 0.02 s\n",
      "Operator `forward` ran in 0.02 s\n",
      "Operator `gradient` ran in 0.02 s\n",
      "Operator `forward` ran in 0.02 s\n",
      "Operator `gradient` ran in 0.02 s\n",
      "Operator `forward` ran in 0.02 s\n",
      "Operator `gradient` ran in 0.02 s\n",
      "Operator `forward` ran in 0.02 s\n",
      "Operator `gradient` ran in 0.02 s\n",
      "Operator `forward` ran in 0.02 s\n",
      "Operator `gradient` ran in 0.02 s\n",
      "Operator `forward` ran in 0.02 s\n",
      "Operator `gradient` ran in 0.02 s\n"
     ]
    },
    {
     "name": "stdout",
     "output_type": "stream",
     "text": [
      "(0.1f0, 1.12584175e6)\n"
     ]
    },
    {
     "name": "stderr",
     "output_type": "stream",
     "text": [
      "Operator `forward` ran in 0.01 s\n",
      "Operator `forward` ran in 0.02 s\n",
      "Operator `forward` ran in 0.01 s\n",
      "Operator `forward` ran in 0.01 s\n",
      "Operator `forward` ran in 0.02 s\n",
      "Operator `forward` ran in 0.01 s\n",
      "Operator `forward` ran in 0.01 s\n",
      "Operator `forward` ran in 0.01 s\n",
      "Operator `forward` ran in 0.01 s\n",
      "Operator `forward` ran in 0.01 s\n",
      "Operator `forward` ran in 0.01 s\n",
      "Operator `forward` ran in 0.01 s\n",
      "Operator `forward` ran in 0.01 s\n",
      "Operator `forward` ran in 0.01 s\n",
      "Operator `forward` ran in 0.01 s\n",
      "Operator `forward` ran in 0.01 s\n"
     ]
    },
    {
     "name": "stdout",
     "output_type": "stream",
     "text": [
      "(α, misfit) = (0.010000000149011612, 11992.6533203125)\n",
      "(α, misfit) = "
     ]
    },
    {
     "name": "stderr",
     "output_type": "stream",
     "text": [
      "Operator `forward` ran in 0.02 s\n",
      "Operator `forward` ran in 0.01 s\n",
      "Operator `forward` ran in 0.02 s\n",
      "Operator `forward` ran in 0.01 s\n",
      "Operator `forward` ran in 0.02 s\n",
      "Operator `forward` ran in 0.02 s\n",
      "Operator `forward` ran in 0.01 s\n",
      "Operator `forward` ran in 0.02 s\n",
      "Operator `forward` ran in 0.02 s\n",
      "Operator `forward` ran in 0.01 s\n",
      "Operator `forward` ran in 0.02 s\n",
      "Operator `forward` ran in 0.01 s\n",
      "Operator `forward` ran in 0.01 s\n",
      "Operator `forward` ran in 0.01 s\n",
      "Operator `forward` ran in 0.02 s\n",
      "Operator `forward` ran in 0.01 s\n"
     ]
    },
    {
     "name": "stdout",
     "output_type": "stream",
     "text": [
      "(0.0010000000149011613, 329.3748779296875)\n"
     ]
    },
    {
     "name": "stderr",
     "output_type": "stream",
     "text": [
      "Operator `forward` ran in 0.02 s\n",
      "Operator `forward` ran in 0.01 s\n",
      "Operator `forward` ran in 0.02 s\n",
      "Operator `forward` ran in 0.01 s\n",
      "Operator `forward` ran in 0.01 s\n",
      "Operator `forward` ran in 0.01 s\n",
      "Operator `forward` ran in 0.01 s\n",
      "Operator `forward` ran in 0.01 s\n",
      "Operator `forward` ran in 0.02 s\n",
      "Operator `forward` ran in 0.01 s\n",
      "Operator `forward` ran in 0.01 s\n",
      "Operator `forward` ran in 0.01 s\n",
      "Operator `forward` ran in 0.01 s\n",
      "Operator `forward` ran in 0.01 s\n",
      "Operator `forward` ran in 0.01 s\n",
      "Operator `forward` ran in 0.02 s\n"
     ]
    },
    {
     "name": "stdout",
     "output_type": "stream",
     "text": [
      "FWI iteration no: 25; function value: 379.6668\n",
      "(α, misfit) = "
     ]
    },
    {
     "name": "stderr",
     "output_type": "stream",
     "text": [
      "Operator `forward` ran in 0.02 s\n",
      "Operator `gradient` ran in 0.02 s\n",
      "Operator `forward` ran in 0.02 s\n",
      "Operator `gradient` ran in 0.02 s\n",
      "Operator `forward` ran in 0.02 s\n",
      "Operator `gradient` ran in 0.02 s\n",
      "Operator `forward` ran in 0.02 s\n",
      "Operator `gradient` ran in 0.02 s\n",
      "Operator `forward` ran in 0.02 s\n",
      "Operator `gradient` ran in 0.02 s\n",
      "Operator `forward` ran in 0.02 s\n",
      "Operator `gradient` ran in 0.02 s\n",
      "Operator `forward` ran in 0.02 s\n",
      "Operator `gradient` ran in 0.02 s\n",
      "Operator `forward` ran in 0.02 s\n",
      "Operator `gradient` ran in 0.02 s\n",
      "Operator `forward` ran in 0.02 s\n",
      "Operator `gradient` ran in 0.02 s\n",
      "Operator `forward` ran in 0.02 s\n",
      "Operator `gradient` ran in 0.02 s\n",
      "Operator `forward` ran in 0.02 s\n",
      "Operator `gradient` ran in 0.02 s\n",
      "Operator `forward` ran in 0.02 s\n",
      "Operator `gradient` ran in 0.02 s\n",
      "Operator `forward` ran in 0.02 s\n",
      "Operator `gradient` ran in 0.02 s\n",
      "Operator `forward` ran in 0.02 s\n",
      "Operator `gradient` ran in 0.02 s\n",
      "Operator `forward` ran in 0.02 s\n",
      "Operator `gradient` ran in 0.02 s\n",
      "Operator `forward` ran in 0.02 s\n",
      "Operator `gradient` ran in 0.02 s\n"
     ]
    },
    {
     "name": "stdout",
     "output_type": "stream",
     "text": [
      "(0.1f0, 8572.6923828125)\n"
     ]
    },
    {
     "name": "stderr",
     "output_type": "stream",
     "text": [
      "Operator `forward` ran in 0.01 s\n",
      "Operator `forward` ran in 0.01 s\n",
      "Operator `forward` ran in 0.02 s\n",
      "Operator `forward` ran in 0.01 s\n",
      "Operator `forward` ran in 0.01 s\n",
      "Operator `forward` ran in 0.01 s\n",
      "Operator `forward` ran in 0.01 s\n",
      "Operator `forward` ran in 0.01 s\n",
      "Operator `forward` ran in 0.01 s\n",
      "Operator `forward` ran in 0.01 s\n",
      "Operator `forward` ran in 0.01 s\n",
      "Operator `forward` ran in 0.02 s\n",
      "Operator `forward` ran in 0.01 s\n",
      "Operator `forward` ran in 0.01 s\n",
      "Operator `forward` ran in 0.01 s\n",
      "Operator `forward` ran in 0.01 s\n"
     ]
    },
    {
     "name": "stdout",
     "output_type": "stream",
     "text": [
      "(α, misfit) = (0.02636620506240994, 793.8446044921875)\n",
      "(α, misfit) = "
     ]
    },
    {
     "name": "stderr",
     "output_type": "stream",
     "text": [
      "Operator `forward` ran in 0.02 s\n",
      "Operator `forward` ran in 0.01 s\n",
      "Operator `forward` ran in 0.01 s\n",
      "Operator `forward` ran in 0.01 s\n",
      "Operator `forward` ran in 0.02 s\n",
      "Operator `forward` ran in 0.02 s\n",
      "Operator `forward` ran in 0.01 s\n",
      "Operator `forward` ran in 0.01 s\n",
      "Operator `forward` ran in 0.05 s\n",
      "Operator `forward` ran in 0.03 s\n",
      "Operator `forward` ran in 0.04 s\n",
      "Operator `forward` ran in 0.04 s\n",
      "Operator `forward` ran in 0.05 s\n",
      "Operator `forward` ran in 0.04 s\n",
      "Operator `forward` ran in 0.04 s\n",
      "Operator `forward` ran in 0.03 s\n"
     ]
    },
    {
     "name": "stdout",
     "output_type": "stream",
     "text": [
      "(0.010377033113472158, 343.18377685546875)\n"
     ]
    },
    {
     "name": "stderr",
     "output_type": "stream",
     "text": [
      "Operator `forward` ran in 0.04 s\n",
      "Operator `forward` ran in 0.01 s\n",
      "Operator `forward` ran in 0.04 s\n",
      "Operator `forward` ran in 0.04 s\n",
      "Operator `forward` ran in 0.03 s\n",
      "Operator `forward` ran in 0.03 s\n",
      "Operator `forward` ran in 0.04 s\n",
      "Operator `forward` ran in 0.02 s\n",
      "Operator `forward` ran in 0.01 s\n",
      "Operator `forward` ran in 0.02 s\n",
      "Operator `forward` ran in 0.02 s\n",
      "Operator `forward` ran in 0.01 s\n",
      "Operator `forward` ran in 0.01 s\n",
      "Operator `forward` ran in 0.01 s\n",
      "Operator `forward` ran in 0.01 s\n",
      "Operator `forward` ran in 0.01 s\n"
     ]
    },
    {
     "name": "stdout",
     "output_type": "stream",
     "text": [
      "FWI iteration no: 26; function value: 452.61932\n",
      "(α, misfit) = "
     ]
    },
    {
     "name": "stderr",
     "output_type": "stream",
     "text": [
      "Operator `forward` ran in 0.02 s\n",
      "Operator `gradient` ran in 0.02 s\n",
      "Operator `forward` ran in 0.02 s\n",
      "Operator `gradient` ran in 0.02 s\n",
      "Operator `forward` ran in 0.02 s\n",
      "Operator `gradient` ran in 0.02 s\n",
      "Operator `forward` ran in 0.02 s\n",
      "Operator `gradient` ran in 0.02 s\n",
      "Operator `forward` ran in 0.02 s\n",
      "Operator `gradient` ran in 0.02 s\n",
      "Operator `forward` ran in 0.02 s\n",
      "Operator `gradient` ran in 0.02 s\n",
      "Operator `forward` ran in 0.02 s\n",
      "Operator `gradient` ran in 0.02 s\n",
      "Operator `forward` ran in 0.02 s\n",
      "Operator `gradient` ran in 0.02 s\n",
      "Operator `forward` ran in 0.02 s\n",
      "Operator `gradient` ran in 0.02 s\n",
      "Operator `forward` ran in 0.02 s\n",
      "Operator `gradient` ran in 0.02 s\n",
      "Operator `forward` ran in 0.02 s\n",
      "Operator `gradient` ran in 0.02 s\n",
      "Operator `forward` ran in 0.03 s\n",
      "Operator `gradient` ran in 0.02 s\n",
      "Operator `forward` ran in 0.02 s\n",
      "Operator `gradient` ran in 0.02 s\n",
      "Operator `forward` ran in 0.02 s\n",
      "Operator `gradient` ran in 0.02 s\n",
      "Operator `forward` ran in 0.02 s\n",
      "Operator `gradient` ran in 0.02 s\n",
      "Operator `forward` ran in 0.02 s\n",
      "Operator `gradient` ran in 0.02 s\n"
     ]
    },
    {
     "name": "stdout",
     "output_type": "stream",
     "text": [
      "(0.1f0, 1.06913875e6)\n"
     ]
    },
    {
     "name": "stderr",
     "output_type": "stream",
     "text": [
      "Operator `forward` ran in 0.01 s\n",
      "Operator `forward` ran in 0.01 s\n",
      "Operator `forward` ran in 0.01 s\n",
      "Operator `forward` ran in 0.01 s\n",
      "Operator `forward` ran in 0.01 s\n",
      "Operator `forward` ran in 0.02 s\n",
      "Operator `forward` ran in 0.01 s\n",
      "Operator `forward` ran in 0.02 s\n",
      "Operator `forward` ran in 0.01 s\n",
      "Operator `forward` ran in 0.02 s\n",
      "Operator `forward` ran in 0.01 s\n",
      "Operator `forward` ran in 0.01 s\n",
      "Operator `forward` ran in 0.01 s\n",
      "Operator `forward` ran in 0.01 s\n",
      "Operator `forward` ran in 0.01 s\n",
      "Operator `forward` ran in 0.01 s\n"
     ]
    },
    {
     "name": "stdout",
     "output_type": "stream",
     "text": [
      "(α, misfit) = (0.010000000149011612, 9697.7119140625)\n",
      "(α, misfit) = "
     ]
    },
    {
     "name": "stderr",
     "output_type": "stream",
     "text": [
      "Operator `forward` ran in 0.02 s\n",
      "Operator `forward` ran in 0.02 s\n",
      "Operator `forward` ran in 0.01 s\n",
      "Operator `forward` ran in 0.05 s\n",
      "Operator `forward` ran in 0.02 s\n",
      "Operator `forward` ran in 0.01 s\n",
      "Operator `forward` ran in 0.02 s\n",
      "Operator `forward` ran in 0.01 s\n",
      "Operator `forward` ran in 0.01 s\n",
      "Operator `forward` ran in 0.01 s\n",
      "Operator `forward` ran in 0.01 s\n",
      "Operator `forward` ran in 0.02 s\n",
      "Operator `forward` ran in 0.02 s\n",
      "Operator `forward` ran in 0.01 s\n",
      "Operator `forward` ran in 0.04 s\n",
      "Operator `forward` ran in 0.01 s\n"
     ]
    },
    {
     "name": "stdout",
     "output_type": "stream",
     "text": [
      "(0.0010000000149011613, 277.39385986328125)\n"
     ]
    },
    {
     "name": "stderr",
     "output_type": "stream",
     "text": [
      "Operator `forward` ran in 0.05 s\n",
      "Operator `forward` ran in 0.04 s\n",
      "Operator `forward` ran in 0.05 s\n",
      "Operator `forward` ran in 0.04 s\n",
      "Operator `forward` ran in 0.04 s\n",
      "Operator `forward` ran in 0.05 s\n",
      "Operator `forward` ran in 0.04 s\n",
      "Operator `forward` ran in 0.04 s\n",
      "Operator `forward` ran in 0.01 s\n",
      "Operator `forward` ran in 0.01 s\n",
      "Operator `forward` ran in 0.01 s\n",
      "Operator `forward` ran in 0.01 s\n",
      "Operator `forward` ran in 0.01 s\n",
      "Operator `forward` ran in 0.01 s\n",
      "Operator `forward` ran in 0.02 s\n",
      "Operator `forward` ran in 0.02 s\n"
     ]
    },
    {
     "name": "stdout",
     "output_type": "stream",
     "text": [
      "FWI iteration no: 27; function value: 363.85092\n",
      "(α, misfit) = "
     ]
    },
    {
     "name": "stderr",
     "output_type": "stream",
     "text": [
      "Operator `forward` ran in 0.02 s\n",
      "Operator `gradient` ran in 0.02 s\n",
      "Operator `forward` ran in 0.02 s\n",
      "Operator `gradient` ran in 0.02 s\n",
      "Operator `forward` ran in 0.02 s\n",
      "Operator `gradient` ran in 0.02 s\n",
      "Operator `forward` ran in 0.02 s\n",
      "Operator `gradient` ran in 0.02 s\n",
      "Operator `forward` ran in 0.02 s\n",
      "Operator `gradient` ran in 0.02 s\n",
      "Operator `forward` ran in 0.02 s\n",
      "Operator `gradient` ran in 0.02 s\n",
      "Operator `forward` ran in 0.02 s\n",
      "Operator `gradient` ran in 0.02 s\n",
      "Operator `forward` ran in 0.02 s\n",
      "Operator `gradient` ran in 0.02 s\n",
      "Operator `forward` ran in 0.02 s\n",
      "Operator `gradient` ran in 0.02 s\n",
      "Operator `forward` ran in 0.02 s\n",
      "Operator `gradient` ran in 0.02 s\n",
      "Operator `forward` ran in 0.02 s\n",
      "Operator `gradient` ran in 0.02 s\n",
      "Operator `forward` ran in 0.02 s\n",
      "Operator `gradient` ran in 0.02 s\n",
      "Operator `forward` ran in 0.02 s\n",
      "Operator `gradient` ran in 0.02 s\n",
      "Operator `forward` ran in 0.02 s\n",
      "Operator `gradient` ran in 0.02 s\n",
      "Operator `forward` ran in 0.02 s\n",
      "Operator `gradient` ran in 0.02 s\n",
      "Operator `forward` ran in 0.02 s\n",
      "Operator `gradient` ran in 0.02 s\n"
     ]
    },
    {
     "name": "stdout",
     "output_type": "stream",
     "text": [
      "(0.1f0, 105955.4453125)\n"
     ]
    },
    {
     "name": "stderr",
     "output_type": "stream",
     "text": [
      "Operator `forward` ran in 0.01 s\n",
      "Operator `forward` ran in 0.02 s\n",
      "Operator `forward` ran in 0.02 s\n",
      "Operator `forward` ran in 0.02 s\n",
      "Operator `forward` ran in 0.01 s\n",
      "Operator `forward` ran in 0.02 s\n",
      "Operator `forward` ran in 0.01 s\n",
      "Operator `forward` ran in 0.02 s\n",
      "Operator `forward` ran in 0.01 s\n",
      "Operator `forward` ran in 0.01 s\n",
      "Operator `forward` ran in 0.02 s\n",
      "Operator `forward` ran in 0.02 s\n",
      "Operator `forward` ran in 0.02 s\n",
      "Operator `forward` ran in 0.02 s\n",
      "Operator `forward` ran in 0.02 s\n",
      "Operator `forward` ran in 0.01 s\n"
     ]
    },
    {
     "name": "stdout",
     "output_type": "stream",
     "text": [
      "(α, misfit) = (0.010000000149011612, 1123.3128662109375)\n",
      "(α, misfit) = "
     ]
    },
    {
     "name": "stderr",
     "output_type": "stream",
     "text": [
      "Operator `forward` ran in 0.03 s\n",
      "Operator `forward` ran in 0.01 s\n",
      "Operator `forward` ran in 0.02 s\n",
      "Operator `forward` ran in 0.01 s\n",
      "Operator `forward` ran in 0.01 s\n",
      "Operator `forward` ran in 0.02 s\n",
      "Operator `forward` ran in 0.02 s\n",
      "Operator `forward` ran in 0.01 s\n",
      "Operator `forward` ran in 0.02 s\n",
      "Operator `forward` ran in 0.01 s\n",
      "Operator `forward` ran in 0.01 s\n",
      "Operator `forward` ran in 0.01 s\n",
      "Operator `forward` ran in 0.02 s\n",
      "Operator `forward` ran in 0.01 s\n",
      "Operator `forward` ran in 0.01 s\n",
      "Operator `forward` ran in 0.02 s\n"
     ]
    },
    {
     "name": "stdout",
     "output_type": "stream",
     "text": [
      "(0.0026559227603948983, 270.26080322265625)\n"
     ]
    },
    {
     "name": "stderr",
     "output_type": "stream",
     "text": [
      "Operator `forward` ran in 0.02 s\n",
      "Operator `forward` ran in 0.01 s\n",
      "Operator `forward` ran in 0.01 s\n",
      "Operator `forward` ran in 0.01 s\n",
      "Operator `forward` ran in 0.01 s\n",
      "Operator `forward` ran in 0.01 s\n",
      "Operator `forward` ran in 0.02 s\n",
      "Operator `forward` ran in 0.01 s\n",
      "Operator `forward` ran in 0.05 s\n",
      "Operator `forward` ran in 0.05 s\n",
      "Operator `forward` ran in 0.05 s\n",
      "Operator `forward` ran in 0.04 s\n",
      "Operator `forward` ran in 0.03 s\n",
      "Operator `forward` ran in 0.04 s\n",
      "Operator `forward` ran in 0.02 s\n",
      "Operator `forward` ran in 0.02 s\n"
     ]
    },
    {
     "name": "stdout",
     "output_type": "stream",
     "text": [
      "FWI iteration no: 28; function value: 428.00146\n",
      "(α, misfit) = "
     ]
    },
    {
     "name": "stderr",
     "output_type": "stream",
     "text": [
      "Operator `forward` ran in 0.02 s\n",
      "Operator `gradient` ran in 0.02 s\n",
      "Operator `forward` ran in 0.02 s\n",
      "Operator `gradient` ran in 0.02 s\n",
      "Operator `forward` ran in 0.02 s\n",
      "Operator `gradient` ran in 0.02 s\n",
      "Operator `forward` ran in 0.02 s\n",
      "Operator `gradient` ran in 0.02 s\n",
      "Operator `forward` ran in 0.02 s\n",
      "Operator `gradient` ran in 0.02 s\n",
      "Operator `forward` ran in 0.02 s\n",
      "Operator `gradient` ran in 0.02 s\n",
      "Operator `forward` ran in 0.02 s\n",
      "Operator `gradient` ran in 0.02 s\n",
      "Operator `forward` ran in 0.02 s\n",
      "Operator `gradient` ran in 0.02 s\n",
      "Operator `forward` ran in 0.02 s\n",
      "Operator `gradient` ran in 0.02 s\n",
      "Operator `forward` ran in 0.02 s\n",
      "Operator `gradient` ran in 0.02 s\n",
      "Operator `forward` ran in 0.02 s\n",
      "Operator `gradient` ran in 0.02 s\n",
      "Operator `forward` ran in 0.02 s\n",
      "Operator `gradient` ran in 0.02 s\n",
      "Operator `forward` ran in 0.02 s\n",
      "Operator `gradient` ran in 0.02 s\n",
      "Operator `forward` ran in 0.02 s\n",
      "Operator `gradient` ran in 0.02 s\n",
      "Operator `forward` ran in 0.02 s\n",
      "Operator `gradient` ran in 0.02 s\n",
      "Operator `forward` ran in 0.02 s\n",
      "Operator `gradient` ran in 0.02 s\n"
     ]
    },
    {
     "name": "stdout",
     "output_type": "stream",
     "text": [
      "(0.1f0, 1.0255780625e6)\n"
     ]
    },
    {
     "name": "stderr",
     "output_type": "stream",
     "text": [
      "Operator `forward` ran in 0.03 s\n",
      "Operator `forward` ran in 0.02 s\n",
      "Operator `forward` ran in 0.02 s\n",
      "Operator `forward` ran in 0.01 s\n",
      "Operator `forward` ran in 0.02 s\n",
      "Operator `forward` ran in 0.02 s\n",
      "Operator `forward` ran in 0.02 s\n",
      "Operator `forward` ran in 0.01 s\n",
      "Operator `forward` ran in 0.02 s\n",
      "Operator `forward` ran in 0.01 s\n",
      "Operator `forward` ran in 0.02 s\n",
      "Operator `forward` ran in 0.01 s\n",
      "Operator `forward` ran in 0.01 s\n",
      "Operator `forward` ran in 0.02 s\n",
      "Operator `forward` ran in 0.02 s\n",
      "Operator `forward` ran in 0.02 s\n"
     ]
    },
    {
     "name": "stdout",
     "output_type": "stream",
     "text": [
      "(α, misfit) = (0.010000000149011612, 10324.42578125)\n",
      "(α, misfit) = "
     ]
    },
    {
     "name": "stderr",
     "output_type": "stream",
     "text": [
      "Operator `forward` ran in 0.02 s\n",
      "Operator `forward` ran in 0.01 s\n",
      "Operator `forward` ran in 0.01 s\n",
      "Operator `forward` ran in 0.01 s\n",
      "Operator `forward` ran in 0.02 s\n",
      "Operator `forward` ran in 0.02 s\n",
      "Operator `forward` ran in 0.02 s\n",
      "Operator `forward` ran in 0.02 s\n",
      "Operator `forward` ran in 0.02 s\n",
      "Operator `forward` ran in 0.02 s\n",
      "Operator `forward` ran in 0.02 s\n",
      "Operator `forward` ran in 0.01 s\n",
      "Operator `forward` ran in 0.02 s\n",
      "Operator `forward` ran in 0.01 s\n",
      "Operator `forward` ran in 0.02 s\n",
      "Operator `forward` ran in 0.01 s\n"
     ]
    },
    {
     "name": "stdout",
     "output_type": "stream",
     "text": [
      "(0.0010000000149011613, 264.1204833984375)\n"
     ]
    },
    {
     "name": "stderr",
     "output_type": "stream",
     "text": [
      "Operator `forward` ran in 0.02 s\n",
      "Operator `forward` ran in 0.02 s\n",
      "Operator `forward` ran in 0.01 s\n",
      "Operator `forward` ran in 0.01 s\n",
      "Operator `forward` ran in 0.02 s\n",
      "Operator `forward` ran in 0.01 s\n",
      "Operator `forward` ran in 0.02 s\n",
      "Operator `forward` ran in 0.01 s\n",
      "Operator `forward` ran in 0.01 s\n",
      "Operator `forward` ran in 0.01 s\n",
      "Operator `forward` ran in 0.02 s\n",
      "Operator `forward` ran in 0.01 s\n",
      "Operator `forward` ran in 0.01 s\n",
      "Operator `forward` ran in 0.01 s\n",
      "Operator `forward` ran in 0.01 s\n",
      "Operator `forward` ran in 0.01 s\n"
     ]
    },
    {
     "name": "stdout",
     "output_type": "stream",
     "text": [
      "FWI iteration no: 29; function value: 359.73593\n",
      "(α, misfit) = "
     ]
    },
    {
     "name": "stderr",
     "output_type": "stream",
     "text": [
      "Operator `forward` ran in 0.04 s\n",
      "Operator `gradient` ran in 0.02 s\n",
      "Operator `forward` ran in 0.02 s\n",
      "Operator `gradient` ran in 0.02 s\n",
      "Operator `forward` ran in 0.04 s\n",
      "Operator `gradient` ran in 0.02 s\n",
      "Operator `forward` ran in 0.05 s\n",
      "Operator `gradient` ran in 0.02 s\n",
      "Operator `forward` ran in 0.05 s\n",
      "Operator `gradient` ran in 0.02 s\n",
      "Operator `forward` ran in 0.02 s\n",
      "Operator `gradient` ran in 0.02 s\n",
      "Operator `forward` ran in 0.02 s\n",
      "Operator `gradient` ran in 0.02 s\n",
      "Operator `forward` ran in 0.02 s\n",
      "Operator `gradient` ran in 0.02 s\n",
      "Operator `forward` ran in 0.02 s\n",
      "Operator `gradient` ran in 0.02 s\n",
      "Operator `forward` ran in 0.02 s\n",
      "Operator `gradient` ran in 0.02 s\n",
      "Operator `forward` ran in 0.02 s\n",
      "Operator `gradient` ran in 0.02 s\n",
      "Operator `forward` ran in 0.02 s\n",
      "Operator `gradient` ran in 0.02 s\n",
      "Operator `forward` ran in 0.02 s\n",
      "Operator `gradient` ran in 0.02 s\n",
      "Operator `forward` ran in 0.02 s\n",
      "Operator `gradient` ran in 0.03 s\n",
      "Operator `forward` ran in 0.02 s\n",
      "Operator `gradient` ran in 0.02 s\n",
      "Operator `forward` ran in 0.02 s\n",
      "Operator `gradient` ran in 0.02 s\n"
     ]
    },
    {
     "name": "stdout",
     "output_type": "stream",
     "text": [
      "(0.1f0, 9203.3603515625)\n"
     ]
    },
    {
     "name": "stderr",
     "output_type": "stream",
     "text": [
      "Operator `forward` ran in 0.01 s\n",
      "Operator `forward` ran in 0.01 s\n",
      "Operator `forward` ran in 0.02 s\n",
      "Operator `forward` ran in 0.01 s\n",
      "Operator `forward` ran in 0.02 s\n",
      "Operator `forward` ran in 0.01 s\n",
      "Operator `forward` ran in 0.01 s\n",
      "Operator `forward` ran in 0.01 s\n",
      "Operator `forward` ran in 0.01 s\n",
      "Operator `forward` ran in 0.01 s\n",
      "Operator `forward` ran in 0.02 s\n",
      "Operator `forward` ran in 0.02 s\n",
      "Operator `forward` ran in 0.02 s\n",
      "Operator `forward` ran in 0.01 s\n",
      "Operator `forward` ran in 0.02 s\n",
      "Operator `forward` ran in 0.01 s\n"
     ]
    },
    {
     "name": "stdout",
     "output_type": "stream",
     "text": [
      "(α, misfit) = (0.024736918327144326, 744.2836303710938)\n",
      "(α, misfit) = "
     ]
    },
    {
     "name": "stderr",
     "output_type": "stream",
     "text": [
      "Operator `forward` ran in 0.02 s\n",
      "Operator `forward` ran in 0.02 s\n",
      "Operator `forward` ran in 0.01 s\n",
      "Operator `forward` ran in 0.01 s\n",
      "Operator `forward` ran in 0.02 s\n",
      "Operator `forward` ran in 0.02 s\n",
      "Operator `forward` ran in 0.02 s\n",
      "Operator `forward` ran in 0.02 s\n",
      "Operator `forward` ran in 0.01 s\n",
      "Operator `forward` ran in 0.01 s\n",
      "Operator `forward` ran in 0.01 s\n",
      "Operator `forward` ran in 0.01 s\n",
      "Operator `forward` ran in 0.01 s\n",
      "Operator `forward` ran in 0.01 s\n",
      "Operator `forward` ran in 0.02 s\n",
      "Operator `forward` ran in 0.02 s\n"
     ]
    },
    {
     "name": "stdout",
     "output_type": "stream",
     "text": [
      "(0.00973067596275246, 312.7972717285156)\n"
     ]
    },
    {
     "name": "stderr",
     "output_type": "stream",
     "text": [
      "Operator `forward` ran in 0.02 s\n",
      "Operator `forward` ran in 0.02 s\n",
      "Operator `forward` ran in 0.02 s\n",
      "Operator `forward` ran in 0.01 s\n",
      "Operator `forward` ran in 0.02 s\n",
      "Operator `forward` ran in 0.01 s\n",
      "Operator `forward` ran in 0.02 s\n",
      "Operator `forward` ran in 0.01 s\n",
      "Operator `forward` ran in 0.03 s\n",
      "Operator `forward` ran in 0.05 s\n",
      "Operator `forward` ran in 0.04 s\n",
      "Operator `forward` ran in 0.03 s\n",
      "Operator `forward` ran in 0.04 s\n",
      "Operator `forward` ran in 0.01 s\n",
      "Operator `forward` ran in 0.03 s\n",
      "Operator `forward` ran in 0.02 s\n"
     ]
    },
    {
     "name": "stdout",
     "output_type": "stream",
     "text": [
      "FWI iteration no: 30; function value: 431.9097\n",
      "(α, misfit) = "
     ]
    },
    {
     "name": "stderr",
     "output_type": "stream",
     "text": [
      "Operator `forward` ran in 0.02 s\n",
      "Operator `gradient` ran in 0.02 s\n",
      "Operator `forward` ran in 0.02 s\n",
      "Operator `gradient` ran in 0.03 s\n",
      "Operator `forward` ran in 0.02 s\n",
      "Operator `gradient` ran in 0.02 s\n",
      "Operator `forward` ran in 0.02 s\n",
      "Operator `gradient` ran in 0.02 s\n",
      "Operator `forward` ran in 0.02 s\n",
      "Operator `gradient` ran in 0.02 s\n",
      "Operator `forward` ran in 0.02 s\n",
      "Operator `gradient` ran in 0.02 s\n",
      "Operator `forward` ran in 0.02 s\n",
      "Operator `gradient` ran in 0.02 s\n",
      "Operator `forward` ran in 0.02 s\n",
      "Operator `gradient` ran in 0.02 s\n",
      "Operator `forward` ran in 0.02 s\n",
      "Operator `gradient` ran in 0.02 s\n",
      "Operator `forward` ran in 0.02 s\n",
      "Operator `gradient` ran in 0.02 s\n",
      "Operator `forward` ran in 0.02 s\n",
      "Operator `gradient` ran in 0.02 s\n",
      "Operator `forward` ran in 0.02 s\n",
      "Operator `gradient` ran in 0.03 s\n",
      "Operator `forward` ran in 0.02 s\n",
      "Operator `gradient` ran in 0.02 s\n",
      "Operator `forward` ran in 0.05 s\n",
      "Operator `gradient` ran in 0.02 s\n",
      "Operator `forward` ran in 0.02 s\n",
      "Operator `gradient` ran in 0.02 s\n",
      "Operator `forward` ran in 0.02 s\n",
      "Operator `gradient` ran in 0.02 s\n"
     ]
    },
    {
     "name": "stdout",
     "output_type": "stream",
     "text": [
      "(0.1f0, 1.16548525e6)\n"
     ]
    },
    {
     "name": "stderr",
     "output_type": "stream",
     "text": [
      "Operator `forward` ran in 0.01 s\n",
      "Operator `forward` ran in 0.02 s\n",
      "Operator `forward` ran in 0.01 s\n",
      "Operator `forward` ran in 0.01 s\n",
      "Operator `forward` ran in 0.02 s\n",
      "Operator `forward` ran in 0.02 s\n",
      "Operator `forward` ran in 0.02 s\n",
      "Operator `forward` ran in 0.02 s\n",
      "Operator `forward` ran in 0.02 s\n",
      "Operator `forward` ran in 0.02 s\n",
      "Operator `forward` ran in 0.02 s\n",
      "Operator `forward` ran in 0.01 s\n",
      "Operator `forward` ran in 0.02 s\n",
      "Operator `forward` ran in 0.01 s\n",
      "Operator `forward` ran in 0.02 s\n",
      "Operator `forward` ran in 0.02 s\n"
     ]
    },
    {
     "name": "stdout",
     "output_type": "stream",
     "text": [
      "(α, misfit) = (0.010000000149011612, 10861.66796875)\n",
      "(α, misfit) = "
     ]
    },
    {
     "name": "stderr",
     "output_type": "stream",
     "text": [
      "Operator `forward` ran in 0.02 s\n",
      "Operator `forward` ran in 0.02 s\n",
      "Operator `forward` ran in 0.02 s\n",
      "Operator `forward` ran in 0.02 s\n",
      "Operator `forward` ran in 0.01 s\n",
      "Operator `forward` ran in 0.01 s\n",
      "Operator `forward` ran in 0.02 s\n",
      "Operator `forward` ran in 0.01 s\n",
      "Operator `forward` ran in 0.01 s\n",
      "Operator `forward` ran in 0.02 s\n",
      "Operator `forward` ran in 0.01 s\n",
      "Operator `forward` ran in 0.01 s\n",
      "Operator `forward` ran in 0.02 s\n",
      "Operator `forward` ran in 0.02 s\n",
      "Operator `forward` ran in 0.02 s\n",
      "Operator `forward` ran in 0.02 s\n"
     ]
    },
    {
     "name": "stdout",
     "output_type": "stream",
     "text": [
      "(0.0010000000149011613, 261.5318908691406)\n"
     ]
    },
    {
     "name": "stderr",
     "output_type": "stream",
     "text": [
      "Operator `forward` ran in 0.02 s\n",
      "Operator `forward` ran in 0.01 s\n",
      "Operator `forward` ran in 0.02 s\n",
      "Operator `forward` ran in 0.02 s\n",
      "Operator `forward` ran in 0.02 s\n",
      "Operator `forward` ran in 0.02 s\n",
      "Operator `forward` ran in 0.02 s\n",
      "Operator `forward` ran in 0.02 s\n",
      "Operator `forward` ran in 0.02 s\n",
      "Operator `forward` ran in 0.02 s\n",
      "Operator `forward` ran in 0.02 s\n",
      "Operator `forward` ran in 0.01 s\n",
      "Operator `forward` ran in 0.02 s\n",
      "Operator `forward` ran in 0.01 s\n",
      "Operator `forward` ran in 0.01 s\n",
      "Operator `forward` ran in 0.02 s\n"
     ]
    }
   ],
   "source": [
    "# Main loop\n",
    "for j=1:niterations\n",
    "\n",
    "    # get fwi objective function value and gradient\n",
    "    i = randperm(d_obs.nsrc)[1:batchsize]\n",
    "    fval, gradient = fwi_objective(model0, q[i], d_obs[i])\n",
    "    p = -gradient/norm(gradient, Inf)\n",
    "    \n",
    "    println(\"FWI iteration no: \",j,\"; function value: \",fval)\n",
    "    fhistory_SGD[j] = fval\n",
    "\n",
    "    # linesearch\n",
    "    function ϕ(α)\n",
    "        F0.model.m .= proj(model0.m .+ α * p)\n",
    "        misfit = .5*norm(F0[i]*q[i] - d_obs[i])^2\n",
    "        @show α, misfit\n",
    "        return misfit\n",
    "    end\n",
    "    step, fval = ls(ϕ, 1f-1, fval, dot(gradient, p))\n",
    "\n",
    "    # Update model and bound projection\n",
    "    model0.m .= proj(model0.m .+ step .* p)\n",
    "    m0_values[:, j] = model0.m\n",
    "end"
   ]
  },
  {
   "cell_type": "code",
   "execution_count": 38,
   "metadata": {},
   "outputs": [
    {
     "data": {
      "text/plain": [
       "101×101 Matrix{Float64}:\n",
       " 0.441864  0.444444  0.444444  0.442615  …  0.111366  0.111296  0.111243\n",
       " 0.444444  0.444444  0.444444  0.442906     0.1114    0.111321  0.111261\n",
       " 0.444444  0.444444  0.444294  0.443804     0.111435  0.111347  0.11128\n",
       " 0.44435   0.444276  0.444109  0.443882     0.111471  0.111374  0.1113\n",
       " 0.444276  0.444326  0.444313  0.444216     0.111508  0.111401  0.11132\n",
       " 0.444444  0.444444  0.444444  0.444444  …  0.111546  0.111429  0.11134\n",
       " 0.444444  0.444444  0.444444  0.444444     0.111584  0.111457  0.111361\n",
       " 0.444444  0.444444  0.444444  0.444444     0.111622  0.111485  0.111381\n",
       " 0.444444  0.444444  0.444444  0.444444     0.111661  0.111514  0.111402\n",
       " 0.444444  0.444444  0.444444  0.444444     0.111699  0.111543  0.111423\n",
       " ⋮                                       ⋱                      ⋮\n",
       " 0.444444  0.444444  0.444444  0.444444     0.111673  0.111522  0.111408\n",
       " 0.444444  0.444444  0.444444  0.444444     0.111634  0.111493  0.111387\n",
       " 0.444444  0.444444  0.444444  0.444444     0.111594  0.111465  0.111366\n",
       " 0.444444  0.444444  0.444444  0.444444  …  0.111556  0.111436  0.111345\n",
       " 0.444444  0.444444  0.444444  0.444444     0.111517  0.111408  0.111324\n",
       " 0.444444  0.444444  0.444444  0.444444     0.11148   0.11138   0.111304\n",
       " 0.444444  0.444444  0.444444  0.444444     0.111443  0.111353  0.111284\n",
       " 0.444444  0.444444  0.444444  0.444444     0.111407  0.111326  0.111265\n",
       " 0.444097  0.444444  0.444444  0.444444  …  0.111372  0.1113    0.111246"
      ]
     },
     "metadata": {},
     "output_type": "display_data"
    }
   ],
   "source": [
    "reshape(m0_values[:, 29], (101,101))"
   ]
  },
  {
   "cell_type": "code",
   "execution_count": 39,
   "metadata": {},
   "outputs": [],
   "source": [
    "fwi = sqrt.(1f0./adjoint(reshape(m0_values[:, 29], (101,101))));\n",
    "v0 = sqrt.(1f0./M[\"m0\"])';\n",
    "v = sqrt.(1f0./M[\"m\"])';"
   ]
  },
  {
   "cell_type": "code",
   "execution_count": 40,
   "metadata": {},
   "outputs": [
    {
     "data": {
      "image/png": "[encoded data removed]",
      "text/plain": [
       "Figure(PyObject <Figure size 5400x1200 with 6 Axes>)"
      ]
     },
     "metadata": {},
     "output_type": "display_data"
    }
   ],
   "source": [
    "fig=figure(figsize=(18,4), dpi=300);\n",
    "subplot(131)\n",
    "im = imshow(v, cmap=\"viridis\", extent=[0, (model0.n[1]-1)*model0.d[1], (model0.n[2]-1)*model0.d[2], 0], vmin=1.5, vmax=3.0)\n",
    "cb = colorbar(im, ticks=unique(v), pad=0.01)\n",
    "cb[:set_label](label = L\"$V_p [km/s]$\")\n",
    "xlabel(L\"Posición horizontal $[m]$\")\n",
    "ylabel(L\"Profundidad $[m]$\")\n",
    "title(L\"Modelo real $\\mathbf{m}$\")\n",
    "subplot(132)\n",
    "im = imshow(v0, cmap=\"viridis\", extent=[0, (model0.n[1]-1)*model0.d[1], (model0.n[2]-1)*model0.d[2], 0], vmin=1.5, vmax=3.0)\n",
    "cb = colorbar(im, ticks=unique(v), pad=0.01)\n",
    "cb[:set_label](label = L\"$V_p [km/s]$\")\n",
    "xlabel(L\"Posición horizontal $[m]$\")\n",
    "ylabel(L\"Profundidad $[m]$\")\n",
    "title(L\"Modelo inicial $\\mathbf{m_0}$\")\n",
    "subplot(133)\n",
    "im = imshow(fwi, cmap=\"viridis\", extent=[0, (model0.n[1]-1)*model0.d[1], (model0.n[2]-1)*model0.d[2], 0], vmin=1.5, vmax=3.0)\n",
    "cb = colorbar(im, ticks=unique(v), pad=0.01)\n",
    "cb[:set_label](label = L\"$V_p [km/s]$\")\n",
    "xlabel(L\"Posición horizontal $[m]$\")\n",
    "ylabel(L\"Profundidad $[m]$\")\n",
    "title(\"FWI con SGD\")\n",
    "display(fig)"
   ]
  },
  {
   "cell_type": "code",
   "execution_count": 41,
   "metadata": {},
   "outputs": [
    {
     "name": "stdout",
     "output_type": "stream",
     "text": [
      "El error cuadrático medio del modelo inicial es: 0.01610154849900713\n",
      "El error cuadrático medio de FWI es: "
     ]
    },
    {
     "name": "stdout",
     "output_type": "stream",
     "text": [
      "0.010883275574486557\n"
     ]
    }
   ],
   "source": [
    "mse = sum((v .- v0).^2) / length(v)\n",
    "println(\"El error cuadrático medio del modelo inicial es: \", mse)\n",
    "mse = sum((v .- fwi).^2) / length(v)\n",
    "println(\"El error cuadrático medio de FWI es: \", mse)"
   ]
  },
  {
   "cell_type": "code",
   "execution_count": 42,
   "metadata": {},
   "outputs": [
    {
     "name": "stdout",
     "output_type": "stream",
     "text": [
      "Porcentaje de error (v0): 2.9251756195527445\n",
      "Porcentaje de error (FWI): 2.2028565432879903\n"
     ]
    }
   ],
   "source": [
    "error_porcentaje_v0 = 100 * sum(abs.(v - v0)) / sum(abs.(v))\n",
    "error_porcentaje_fwi = 100 * sum(abs.(v - fwi)) / sum(abs.(v))\n",
    "\n",
    "println(\"Porcentaje de error (v0): \", error_porcentaje_v0)\n",
    "println(\"Porcentaje de error (FWI): \", error_porcentaje_fwi)"
   ]
  },
  {
   "cell_type": "code",
   "execution_count": 27,
   "metadata": {},
   "outputs": [
    {
     "data": {
      "image/png": "[encoded data removed]",
      "text/plain": [
       "Figure(PyObject <Figure size 640x480 with 2 Axes>)"
      ]
     },
     "metadata": {},
     "output_type": "display_data"
    }
   ],
   "source": [
    "difs = v-fwi\n",
    "fig=figure() #figsize=(20, 5)\n",
    "im = imshow(difs, cmap=\"viridis\", extent=[0, (model0.n[1]-1)*model0.d[1], (model0.n[2]-1)*model0.d[2], 0], vmin=-1, vmax=1)\n",
    "cb = colorbar(im)\n",
    "cb[:set_label](label = \"Error\")\n",
    "xlabel(L\"Posición horizontal $[m]$\")\n",
    "ylabel(L\"Profundidad $[m]$\")\n",
    "title(\"Error relativa\")\n",
    "display(fig)"
   ]
  },
  {
   "cell_type": "code",
   "execution_count": 45,
   "metadata": {},
   "outputs": [
    {
     "data": {
      "image/png": "[encoded data removed]",
      "text/plain": [
       "Figure(PyObject <Figure size 1920x1440 with 1 Axes>)"
      ]
     },
     "metadata": {},
     "output_type": "display_data"
    }
   ],
   "source": [
    "fig=figure(dpi=300) #figsize=(20, 5)\n",
    "xax = 1:1:30\n",
    "plot(xax, fhistory_SGD)\n",
    "xlabel(\"Número de iteraciones\")\n",
    "ylabel(\"Valor de desajuste\")\n",
    "title(\"Convergencia\")\n",
    "display(fig)"
   ]
  },
  {
   "cell_type": "code",
   "execution_count": 46,
   "metadata": {},
   "outputs": [],
   "source": [
    "save(\"model_custom_fwi_result_low_f.jld\", \"n\", M[\"n\"], \"d\", M[\"d\"], \"o\", M[\"o\"], \"m\", M[\"m\"], \"m0\", model0.m.data, \"dm\", dm)"
   ]
  }
 ],
 "metadata": {
  "kernelspec": {
   "display_name": "Julia 1.9.0",
   "language": "julia",
   "name": "julia-1.9"
  },
  "language_info": {
   "file_extension": ".jl",
   "mimetype": "application/julia",
   "name": "julia",
   "version": "1.9.0"
  },
  "orig_nbformat": 4
 },
 "nbformat": 4,
 "nbformat_minor": 2
}
