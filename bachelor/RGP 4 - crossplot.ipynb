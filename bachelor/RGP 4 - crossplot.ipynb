{
    "cells": [
        {
            "cell_type": "markdown",
            "source": [
                "## Crossplots"
            ],
            "metadata": {}
        },
        {
            "cell_type": "code",
            "execution_count": 1,
            "source": [
                "import pandas as pd\r\n",
                "import matplotlib.pyplot as plt\r\n",
                "import lasio\r\n",
                "import numpy as np"
            ],
            "outputs": [],
            "metadata": {}
        },
        {
            "cell_type": "code",
            "execution_count": 2,
            "source": [
                "#plt.style.use(['science','grid', 'no-latex'])"
            ],
            "outputs": [],
            "metadata": {}
        },
        {
            "cell_type": "markdown",
            "source": [
                "Lectura del archivo LAS"
            ],
            "metadata": {}
        },
        {
            "cell_type": "code",
            "execution_count": 3,
            "source": [
                "las = lasio.read(\"W19.las\")\r\n",
                "well = las.df()"
            ],
            "outputs": [],
            "metadata": {}
        },
        {
            "cell_type": "markdown",
            "source": [
                "Visualizacion del pozo"
            ],
            "metadata": {}
        },
        {
            "cell_type": "markdown",
            "source": [
                "fig, ax = plt.subplots(figsize=(15,10))\r\n",
                "\r\n",
                "ax1 = plt.subplot2grid((1,6), (0,0), rowspan=1, colspan = 1)\r\n",
                "ax2 = plt.subplot2grid((1,6), (0,1), rowspan=1, colspan = 1, sharey = ax1)\r\n",
                "ax3 = plt.subplot2grid((1,6), (0,2), rowspan=1, colspan = 1, sharey = ax1)\r\n",
                "ax4 = plt.subplot2grid((1,6), (0,3), rowspan=1, colspan = 1, sharey = ax1)\r\n",
                "ax5 = ax3.twiny()\r\n",
                "ax6 = plt.subplot2grid((1,6), (0,4), rowspan=1, colspan = 1, sharey = ax1)\r\n",
                "ax7 = ax2.twiny()\r\n",
                "\r\n",
                "ax10 = ax1.twiny()\r\n",
                "ax10.xaxis.set_visible(False)\r\n",
                "ax11 = ax2.twiny()\r\n",
                "ax11.xaxis.set_visible(False)\r\n",
                "ax12 = ax3.twiny()\r\n",
                "ax12.xaxis.set_visible(False)\r\n",
                "ax13 = ax4.twiny()\r\n",
                "ax13.xaxis.set_visible(False)\r\n",
                "ax14 = ax6.twiny()\r\n",
                "ax14.xaxis.set_visible(False)\r\n",
                "\r\n",
                "# Rayos gamma\r\n",
                "ax1.plot(well[\"GR\"], well.index, color = \"green\", linewidth = 1.5)\r\n",
                "ax1.set_xlabel(\"Gamma\")\r\n",
                "ax1.xaxis.label.set_color(\"green\")\r\n",
                "ax1.set_xlim(0, 200)\r\n",
                "ax1.set_ylabel(\"Depth (m)\")\r\n",
                "ax1.tick_params(axis='x', colors=\"green\")\r\n",
                "ax1.spines[\"top\"].set_edgecolor(\"green\")\r\n",
                "ax1.title.set_color('green')\r\n",
                "ax1.set_xticks([0, 50, 100, 150, 200])\r\n",
                "\r\n",
                "# Resistividad\r\n",
                "ax2.plot(well[\"LLD\"], well.index, color = \"red\", linewidth = 1.5)\r\n",
                "ax2.set_xlabel(\"Resistivity - D\")\r\n",
                "ax2.set_xlim(0.2, 200)\r\n",
                "ax2.xaxis.label.set_color(\"red\")\r\n",
                "ax2.tick_params(axis='x', colors=\"red\")\r\n",
                "ax2.spines[\"top\"].set_edgecolor(\"red\")\r\n",
                "ax2.set_xticks([0.1, 1, 10, 100])\r\n",
                "ax2.semilogx()\r\n",
                "\r\n",
                "# Densidad \r\n",
                "ax3.plot(well[\"RHOB\"], well.index, color = \"red\", linewidth = 1.5)\r\n",
                "ax3.set_xlabel(\"Density\")\r\n",
                "ax3.set_xlim(1.95, 2.95)\r\n",
                "ax3.xaxis.label.set_color(\"red\")\r\n",
                "ax3.tick_params(axis='x', colors=\"red\")\r\n",
                "ax3.spines[\"top\"].set_edgecolor(\"red\")\r\n",
                "ax3.set_xticks([1.95, 2.45, 2.95])\r\n",
                "\r\n",
                "# Sonico\r\n",
                "ax4.plot(well[\"DTCO\"], well.index, color = \"purple\", linewidth = 1.5)\r\n",
                "ax4.set_xlabel(\"Sonic\")\r\n",
                "ax4.set_xlim(140, 40)\r\n",
                "ax4.xaxis.label.set_color(\"purple\")\r\n",
                "ax4.tick_params(axis='x', colors=\"purple\")\r\n",
                "ax4.spines[\"top\"].set_edgecolor(\"purple\")\r\n",
                "\r\n",
                "# Neutron \r\n",
                "ax5.plot(well[\"NPHI\"], well.index, color = \"blue\", linewidth = 1.5)\r\n",
                "ax5.set_xlabel('Neutron')\r\n",
                "ax5.xaxis.label.set_color(\"blue\")\r\n",
                "ax5.set_xlim(0.45, -0.15)\r\n",
                "ax5.set_ylim(4122, 4028)\r\n",
                "ax5.tick_params(axis='x', colors=\"blue\")\r\n",
                "ax5.spines[\"top\"].set_position((\"axes\", 1.08))\r\n",
                "ax5.spines[\"top\"].set_visible(True)\r\n",
                "ax5.spines[\"top\"].set_edgecolor(\"blue\")\r\n",
                "ax5.set_xticks([0.45, 0.3, 0.15,0, -0.15])\r\n",
                "\r\n",
                "# Caliper\r\n",
                "ax6.plot(well[\"CALI\"], well.index, color = \"black\", linewidth = 1.5)\r\n",
                "ax6.set_xlabel(\"Caliper\")\r\n",
                "ax6.set_xlim(6, 16)\r\n",
                "ax6.xaxis.label.set_color(\"black\")\r\n",
                "ax6.tick_params(axis='x', colors=\"black\")\r\n",
                "ax6.spines[\"top\"].set_edgecolor(\"black\")\r\n",
                "ax6.fill_betweenx(well.index, 8.5, well[\"CALI\"], facecolor='yellow')\r\n",
                "ax6.set_xticks([6,  11, 16])\r\n",
                "\r\n",
                "# Resistividad somera\r\n",
                "ax7.plot(well[\"LLS\"], well.index, color = \"green\", linewidth = 1.5)\r\n",
                "ax7.set_xlabel(\"Resistivity - S\")\r\n",
                "ax7.set_xlim(0.2, 200)\r\n",
                "ax7.xaxis.label.set_color(\"green\")\r\n",
                "ax7.spines[\"top\"].set_position((\"axes\", 1.08))\r\n",
                "ax7.spines[\"top\"].set_visible(True)\r\n",
                "ax7.tick_params(axis='x', colors=\"green\")\r\n",
                "ax7.spines[\"top\"].set_edgecolor(\"green\")\r\n",
                "ax7.set_xticks([0.1, 1, 10, 100])\r\n",
                "ax7.semilogx()\r\n",
                "\r\n",
                "for ax in [ax1, ax2, ax3, ax4, ax6]:\r\n",
                "    ax.set_ylim(4122, 4028)\r\n",
                "    ax.grid(which='major', color='lightgrey', linestyle='-')\r\n",
                "    ax.xaxis.set_ticks_position(\"top\")\r\n",
                "    ax.xaxis.set_label_position(\"top\")\r\n",
                "    ax.spines[\"top\"].set_position((\"axes\", 1.02))\r\n",
                "\r\n",
                "for ax in [ax2, ax3, ax4, ax6]:\r\n",
                "    plt.setp(ax.get_yticklabels(), visible = False)\r\n",
                "\r\n",
                "fig.set_dpi(300)\r\n",
                "\r\n",
                "plt.tight_layout()\r\n",
                "fig.subplots_adjust(wspace = 0.15)"
            ],
            "metadata": {}
        },
        {
            "cell_type": "markdown",
            "source": [
                "Seleccion de la zona 4  >[4103.9795 - 4105.8083]"
            ],
            "metadata": {}
        },
        {
            "cell_type": "code",
            "execution_count": 5,
            "source": [
                "pozo=well.reset_index()\r\n",
                "zona=pozo[['DEPTH','GR','NPHI','RHOB', 'DTCO']].loc[(pozo['DEPTH']>=4103.9795) & (pozo['DEPTH']<4105.8083)]\r\n",
                "# Se seleccionan las 4 columnas, donde la profundidad se encuentre en el rango de la zona que nos corresponde\r\n",
                "zona=zona.reset_index(drop=True)\r\n",
                "zona.tail();"
            ],
            "outputs": [
                {
                    "output_type": "execute_result",
                    "data": {
                        "text/html": [
                            "<div>\n",
                            "<style scoped>\n",
                            "    .dataframe tbody tr th:only-of-type {\n",
                            "        vertical-align: middle;\n",
                            "    }\n",
                            "\n",
                            "    .dataframe tbody tr th {\n",
                            "        vertical-align: top;\n",
                            "    }\n",
                            "\n",
                            "    .dataframe thead th {\n",
                            "        text-align: right;\n",
                            "    }\n",
                            "</style>\n",
                            "<table border=\"1\" class=\"dataframe\">\n",
                            "  <thead>\n",
                            "    <tr style=\"text-align: right;\">\n",
                            "      <th></th>\n",
                            "      <th>DEPTH</th>\n",
                            "      <th>GR</th>\n",
                            "      <th>NPHI</th>\n",
                            "      <th>RHOB</th>\n",
                            "      <th>DTCO</th>\n",
                            "    </tr>\n",
                            "  </thead>\n",
                            "  <tbody>\n",
                            "    <tr>\n",
                            "      <th>7</th>\n",
                            "      <td>4105.0463</td>\n",
                            "      <td>60.6234</td>\n",
                            "      <td>0.1871</td>\n",
                            "      <td>2.5778</td>\n",
                            "      <td>79.4514</td>\n",
                            "    </tr>\n",
                            "    <tr>\n",
                            "      <th>8</th>\n",
                            "      <td>4105.1987</td>\n",
                            "      <td>62.1552</td>\n",
                            "      <td>0.1974</td>\n",
                            "      <td>2.5676</td>\n",
                            "      <td>79.6140</td>\n",
                            "    </tr>\n",
                            "    <tr>\n",
                            "      <th>9</th>\n",
                            "      <td>4105.3511</td>\n",
                            "      <td>65.5765</td>\n",
                            "      <td>0.2068</td>\n",
                            "      <td>2.5503</td>\n",
                            "      <td>78.9172</td>\n",
                            "    </tr>\n",
                            "    <tr>\n",
                            "      <th>10</th>\n",
                            "      <td>4105.5035</td>\n",
                            "      <td>67.2224</td>\n",
                            "      <td>0.2075</td>\n",
                            "      <td>2.5454</td>\n",
                            "      <td>77.0866</td>\n",
                            "    </tr>\n",
                            "    <tr>\n",
                            "      <th>11</th>\n",
                            "      <td>4105.6559</td>\n",
                            "      <td>63.4949</td>\n",
                            "      <td>0.1965</td>\n",
                            "      <td>2.5659</td>\n",
                            "      <td>79.7477</td>\n",
                            "    </tr>\n",
                            "  </tbody>\n",
                            "</table>\n",
                            "</div>"
                        ],
                        "text/plain": [
                            "        DEPTH       GR    NPHI    RHOB     DTCO\n",
                            "7   4105.0463  60.6234  0.1871  2.5778  79.4514\n",
                            "8   4105.1987  62.1552  0.1974  2.5676  79.6140\n",
                            "9   4105.3511  65.5765  0.2068  2.5503  78.9172\n",
                            "10  4105.5035  67.2224  0.2075  2.5454  77.0866\n",
                            "11  4105.6559  63.4949  0.1965  2.5659  79.7477"
                        ]
                    },
                    "metadata": {},
                    "execution_count": 5
                }
            ],
            "metadata": {}
        },
        {
            "cell_type": "markdown",
            "source": [
                "crossplot"
            ],
            "metadata": {}
        },
        {
            "cell_type": "code",
            "execution_count": 6,
            "source": [
                "fig, ax = plt.subplots(figsize=(5,3))\r\n",
                "\r\n",
                "plt.scatter(zona.NPHI, zona.RHOB, c=zona.GR, cmap='gist_rainbow')\r\n",
                "cbar = plt.colorbar(ticks=np.linspace(0,100,11))\r\n",
                "cbar.set_label('Rayos Gamma', size=16)\r\n",
                "plt.clim(0,100)\r\n",
                "\r\n",
                "ax.set_ylim(3.0, 1.9)\r\n",
                "ax.set_xlim(-0.05, 0.45)\r\n",
                "ax.set_yticks(np.linspace(1.9,3.0,12))\r\n",
                "ax.set_xticks(np.linspace(-0.05,0.45,11))\r\n",
                "ax.set_ylabel('Densidad (Registro)', fontsize=16)\r\n",
                "ax.set_xlabel('Porosidad Neutron (Registro)', fontsize=16)\r\n",
                "plt.title('Densidad vs Porosidad Neutron')\r\n",
                "\r\n",
                "#fig.set_dpi(300)\r\n",
                "#plt.savefig(\"cph\", transparent=True)\r\n",
                "plt.show()"
            ],
            "outputs": [
                {
                    "output_type": "display_data",
                    "data": {
                        "image/png": "[encoded data removed]",
                        "text/plain": [
                            "<Figure size 360x216 with 2 Axes>"
                        ]
                    },
                    "metadata": {
                        "needs_background": "light"
                    }
                }
            ],
            "metadata": {}
        },
        {
            "cell_type": "markdown",
            "source": [
                "Matriz"
            ],
            "metadata": {}
        },
        {
            "cell_type": "code",
            "execution_count": 7,
            "source": [
                "matriz=pd.DataFrame({\r\n",
                "    'substancia':['Cuarzo', 'Calcita', 'Dolomita', 'Agua'],\r\n",
                "    'rho':[2.65, 2.71, 2.87, 1.00],\r\n",
                "    'np':[-0.02, 0, 0.02, 1.00],\r\n",
                "    'dt':[180, 156, 143, 620]\r\n",
                "})\r\n",
                "matriz"
            ],
            "outputs": [
                {
                    "output_type": "execute_result",
                    "data": {
                        "text/html": [
                            "<div>\n",
                            "<style scoped>\n",
                            "    .dataframe tbody tr th:only-of-type {\n",
                            "        vertical-align: middle;\n",
                            "    }\n",
                            "\n",
                            "    .dataframe tbody tr th {\n",
                            "        vertical-align: top;\n",
                            "    }\n",
                            "\n",
                            "    .dataframe thead th {\n",
                            "        text-align: right;\n",
                            "    }\n",
                            "</style>\n",
                            "<table border=\"1\" class=\"dataframe\">\n",
                            "  <thead>\n",
                            "    <tr style=\"text-align: right;\">\n",
                            "      <th></th>\n",
                            "      <th>substancia</th>\n",
                            "      <th>rho</th>\n",
                            "      <th>np</th>\n",
                            "      <th>dt</th>\n",
                            "    </tr>\n",
                            "  </thead>\n",
                            "  <tbody>\n",
                            "    <tr>\n",
                            "      <th>0</th>\n",
                            "      <td>Cuarzo</td>\n",
                            "      <td>2.65</td>\n",
                            "      <td>-0.02</td>\n",
                            "      <td>180</td>\n",
                            "    </tr>\n",
                            "    <tr>\n",
                            "      <th>1</th>\n",
                            "      <td>Calcita</td>\n",
                            "      <td>2.71</td>\n",
                            "      <td>0.00</td>\n",
                            "      <td>156</td>\n",
                            "    </tr>\n",
                            "    <tr>\n",
                            "      <th>2</th>\n",
                            "      <td>Dolomita</td>\n",
                            "      <td>2.87</td>\n",
                            "      <td>0.02</td>\n",
                            "      <td>143</td>\n",
                            "    </tr>\n",
                            "    <tr>\n",
                            "      <th>3</th>\n",
                            "      <td>Agua</td>\n",
                            "      <td>1.00</td>\n",
                            "      <td>1.00</td>\n",
                            "      <td>620</td>\n",
                            "    </tr>\n",
                            "  </tbody>\n",
                            "</table>\n",
                            "</div>"
                        ],
                        "text/plain": [
                            "  substancia   rho    np   dt\n",
                            "0     Cuarzo  2.65 -0.02  180\n",
                            "1    Calcita  2.71  0.00  156\n",
                            "2   Dolomita  2.87  0.02  143\n",
                            "3       Agua  1.00  1.00  620"
                        ]
                    },
                    "metadata": {},
                    "execution_count": 7
                }
            ],
            "metadata": {}
        },
        {
            "cell_type": "markdown",
            "source": [
                "Matriz A"
            ],
            "metadata": {}
        },
        {
            "cell_type": "code",
            "execution_count": 11,
            "source": [
                "A = np.empty((0,len(matriz)))\r\n",
                "\r\n",
                "for a in range(1, matriz.shape[1]):\r\n",
                "    A = np.append(A, [matriz.iloc[:,a].to_numpy()], axis=0)\r\n",
                "    \r\n",
                "A = np.append(A, [np.ones(matriz.shape[1])], axis=0)"
            ],
            "outputs": [],
            "metadata": {}
        },
        {
            "cell_type": "markdown",
            "source": [
                "Matriz B"
            ],
            "metadata": {}
        },
        {
            "cell_type": "code",
            "execution_count": 12,
            "source": [
                "B = np.empty((0,len(matriz)-1))\r\n",
                "\r\n",
                "for a in range(0, zona.shape[0]):\r\n",
                "    B = np.append(B, [zona.loc[a,['RHOB', 'NPHI', 'DTCO']].to_numpy()], axis=0)\r\n",
                "\r\n",
                "B = B.T\r\n",
                "B = np.append(B, [np.ones(zona.shape[0])], axis=0)"
            ],
            "outputs": [],
            "metadata": {}
        },
        {
            "cell_type": "markdown",
            "source": [
                "Matriz X"
            ],
            "metadata": {}
        },
        {
            "cell_type": "code",
            "execution_count": 10,
            "source": [
                "x = np.empty((0,len(matriz)))\r\n",
                "for a in range(0,B.shape[1]):\r\n",
                "    x = np.append(x,[np.linalg.solve(A,B[:,a].T)], axis=0)\r\n",
                "\r\n",
                "Solucion=pd.DataFrame(x,columns=['Cuarzo', 'Calcita', 'Dolomita', 'Porosidad'], index=zona['DEPTH'])\r\n",
                "Solucion"
            ],
            "outputs": [
                {
                    "output_type": "execute_result",
                    "data": {
                        "text/html": [
                            "<div>\n",
                            "<style scoped>\n",
                            "    .dataframe tbody tr th:only-of-type {\n",
                            "        vertical-align: middle;\n",
                            "    }\n",
                            "\n",
                            "    .dataframe tbody tr th {\n",
                            "        vertical-align: top;\n",
                            "    }\n",
                            "\n",
                            "    .dataframe thead th {\n",
                            "        text-align: right;\n",
                            "    }\n",
                            "</style>\n",
                            "<table border=\"1\" class=\"dataframe\">\n",
                            "  <thead>\n",
                            "    <tr style=\"text-align: right;\">\n",
                            "      <th></th>\n",
                            "      <th>Cuarzo</th>\n",
                            "      <th>Calcita</th>\n",
                            "      <th>Dolomita</th>\n",
                            "      <th>Porosidad</th>\n",
                            "    </tr>\n",
                            "    <tr>\n",
                            "      <th>DEPTH</th>\n",
                            "      <th></th>\n",
                            "      <th></th>\n",
                            "      <th></th>\n",
                            "      <th></th>\n",
                            "    </tr>\n",
                            "  </thead>\n",
                            "  <tbody>\n",
                            "    <tr>\n",
                            "      <th>4103.9795</th>\n",
                            "      <td>-9.332626</td>\n",
                            "      <td>16.305565</td>\n",
                            "      <td>-6.129884</td>\n",
                            "      <td>0.156945</td>\n",
                            "    </tr>\n",
                            "    <tr>\n",
                            "      <th>4104.1319</th>\n",
                            "      <td>-8.473817</td>\n",
                            "      <td>14.054008</td>\n",
                            "      <td>-4.719709</td>\n",
                            "      <td>0.139518</td>\n",
                            "    </tr>\n",
                            "    <tr>\n",
                            "      <th>4104.2843</th>\n",
                            "      <td>-6.512165</td>\n",
                            "      <td>9.652352</td>\n",
                            "      <td>-2.247085</td>\n",
                            "      <td>0.106898</td>\n",
                            "    </tr>\n",
                            "    <tr>\n",
                            "      <th>4104.4367</th>\n",
                            "      <td>-6.180982</td>\n",
                            "      <td>9.028847</td>\n",
                            "      <td>-1.946475</td>\n",
                            "      <td>0.098610</td>\n",
                            "    </tr>\n",
                            "    <tr>\n",
                            "      <th>4104.5891</th>\n",
                            "      <td>-6.476063</td>\n",
                            "      <td>9.533202</td>\n",
                            "      <td>-2.158487</td>\n",
                            "      <td>0.101348</td>\n",
                            "    </tr>\n",
                            "    <tr>\n",
                            "      <th>4104.7415</th>\n",
                            "      <td>-6.423961</td>\n",
                            "      <td>9.443842</td>\n",
                            "      <td>-2.126329</td>\n",
                            "      <td>0.106447</td>\n",
                            "    </tr>\n",
                            "    <tr>\n",
                            "      <th>4104.8939</th>\n",
                            "      <td>-6.416820</td>\n",
                            "      <td>9.506496</td>\n",
                            "      <td>-2.192489</td>\n",
                            "      <td>0.102813</td>\n",
                            "    </tr>\n",
                            "    <tr>\n",
                            "      <th>4105.0463</th>\n",
                            "      <td>-6.310945</td>\n",
                            "      <td>9.302664</td>\n",
                            "      <td>-2.094490</td>\n",
                            "      <td>0.102771</td>\n",
                            "    </tr>\n",
                            "    <tr>\n",
                            "      <th>4105.1987</th>\n",
                            "      <td>-6.478532</td>\n",
                            "      <td>9.505559</td>\n",
                            "      <td>-2.137609</td>\n",
                            "      <td>0.110582</td>\n",
                            "    </tr>\n",
                            "    <tr>\n",
                            "      <th>4105.3511</th>\n",
                            "      <td>-6.709881</td>\n",
                            "      <td>9.848298</td>\n",
                            "      <td>-2.256142</td>\n",
                            "      <td>0.117725</td>\n",
                            "    </tr>\n",
                            "    <tr>\n",
                            "      <th>4105.5035</th>\n",
                            "      <td>-6.824698</td>\n",
                            "      <td>10.037977</td>\n",
                            "      <td>-2.330904</td>\n",
                            "      <td>0.117624</td>\n",
                            "    </tr>\n",
                            "    <tr>\n",
                            "      <th>4105.6559</th>\n",
                            "      <td>-6.470535</td>\n",
                            "      <td>9.510847</td>\n",
                            "      <td>-2.150409</td>\n",
                            "      <td>0.110097</td>\n",
                            "    </tr>\n",
                            "  </tbody>\n",
                            "</table>\n",
                            "</div>"
                        ],
                        "text/plain": [
                            "             Cuarzo    Calcita  Dolomita  Porosidad\n",
                            "DEPTH                                              \n",
                            "4103.9795 -9.332626  16.305565 -6.129884   0.156945\n",
                            "4104.1319 -8.473817  14.054008 -4.719709   0.139518\n",
                            "4104.2843 -6.512165   9.652352 -2.247085   0.106898\n",
                            "4104.4367 -6.180982   9.028847 -1.946475   0.098610\n",
                            "4104.5891 -6.476063   9.533202 -2.158487   0.101348\n",
                            "4104.7415 -6.423961   9.443842 -2.126329   0.106447\n",
                            "4104.8939 -6.416820   9.506496 -2.192489   0.102813\n",
                            "4105.0463 -6.310945   9.302664 -2.094490   0.102771\n",
                            "4105.1987 -6.478532   9.505559 -2.137609   0.110582\n",
                            "4105.3511 -6.709881   9.848298 -2.256142   0.117725\n",
                            "4105.5035 -6.824698  10.037977 -2.330904   0.117624\n",
                            "4105.6559 -6.470535   9.510847 -2.150409   0.110097"
                        ]
                    },
                    "metadata": {},
                    "execution_count": 10
                }
            ],
            "metadata": {}
        },
        {
            "cell_type": "code",
            "execution_count": 19,
            "source": [
                "# 'Cuarzo', 'Calcita', 'Dolomita', 'Porosidad'\r\n",
                "print(np.linalg.solve(A,np.array([2.485, 0.158, 225, 1]).T))\r\n",
                "print(np.sum(np.linalg.solve(A,np.array([2.485, 0.158, 225, 1]).T)))"
            ],
            "outputs": [
                {
                    "output_type": "stream",
                    "name": "stdout",
                    "text": [
                        "[0.03877457 0.55602401 0.25145502 0.15374639]\n",
                        "1.0\n"
                    ]
                }
            ],
            "metadata": {}
        }
    ],
    "metadata": {
        "orig_nbformat": 4,
        "language_info": {
            "name": "python",
            "version": "3.9.6",
            "mimetype": "text/x-python",
            "codemirror_mode": {
                "name": "ipython",
                "version": 3
            },
            "pygments_lexer": "ipython3",
            "nbconvert_exporter": "python",
            "file_extension": ".py"
        },
        "kernelspec": {
            "name": "python3",
            "display_name": "Python 3.9.6 64-bit ('ds': conda)"
        },
        "interpreter": {
            "hash": "32807560bc7d2bee85093e528d7aff4b8c4273f3e89d4c88a431d29757d9b5b5"
        }
    },
    "nbformat": 4,
    "nbformat_minor": 2
}
