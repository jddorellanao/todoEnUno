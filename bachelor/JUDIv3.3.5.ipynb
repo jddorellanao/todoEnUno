{
 "cells": [
  {
   "cell_type": "code",
   "execution_count": 1,
   "metadata": {},
   "outputs": [
    {
     "name": "stderr",
     "output_type": "stream",
     "text": [
      "┌ Info: Initializing openacc/openmp offloading\n",
      "└ @ JUDI /home/geopc3/.julia/packages/JUDI/owInM/src/JUDI.jl:169\n"
     ]
    }
   ],
   "source": [
    "using Statistics, LinearAlgebra, JUDI, SlimOptim, PyPlot, ImageFiltering, SegyIO, Pkg"
   ]
  },
  {
   "cell_type": "code",
   "execution_count": 2,
   "metadata": {},
   "outputs": [
    {
     "name": "stdout",
     "output_type": "stream",
     "text": [
      "Julia Version 1.9.2\n",
      "Commit e4ee485e909 (2023-07-05 09:39 UTC)\n",
      "Platform Info:\n",
      "  OS: Linux (x86_64-linux-gnu)\n",
      "  CPU: 12 × AMD Ryzen 5 7600X 6-Core Processor\n",
      "  WORD_SIZE: 64\n",
      "  LIBM: libopenlibm\n",
      "  LLVM: libLLVM-14.0.6 (ORCJIT, znver3)\n",
      "  Threads: 1 on 12 virtual cores\n",
      "Environment:\n",
      "  JULIA_NUM_THREADS = \n"
     ]
    }
   ],
   "source": [
    "versioninfo()"
   ]
  },
  {
   "cell_type": "code",
   "execution_count": 3,
   "metadata": {},
   "outputs": [
    {
     "name": "stdout",
     "output_type": "stream",
     "text": [
      "Thu Jul  6 17:21:26 2023       \n",
      "+---------------------------------------------------------------------------------------+\n",
      "| NVIDIA-SMI 530.51.01              Driver Version: 532.03       CUDA Version: 12.1     |\n",
      "|-----------------------------------------+----------------------+----------------------+\n",
      "| GPU  Name                  Persistence-M| Bus-Id        Disp.A | Volatile Uncorr. ECC |\n",
      "| Fan  Temp  Perf            Pwr:Usage/Cap|         Memory-Usage | GPU-Util  Compute M. |\n",
      "|                                         |                      |               MIG M. |\n",
      "|=========================================+======================+======================|\n",
      "|   0  NVIDIA GeForce RTX 3060 Ti      On | 00000000:01:00.0  On |                  N/A |\n",
      "| 56%   53C    P2               85W / 265W|   2002MiB /  8192MiB |      3%      Default |\n",
      "|                                         |                      |                  N/A |\n",
      "+-----------------------------------------+----------------------+----------------------+\n",
      "                                                                                         \n",
      "+---------------------------------------------------------------------------------------+\n",
      "| Processes:                                                                            |\n",
      "|  GPU   GI   CI        PID   Type   Process name                            GPU Memory |\n",
      "|        ID   ID                                                             Usage      |\n",
      "|=======================================================================================|\n",
      "|    0   N/A  N/A        30      G   /Xwayland                                 N/A      |\n",
      "|    0   N/A  N/A      1468      C   /julia                                    N/A      |\n",
      "|    0   N/A  N/A     10879      C   /julia                                    N/A      |\n",
      "|    0   N/A  N/A     11075      C   /julia                                    N/A      |\n",
      "+---------------------------------------------------------------------------------------+\n"
     ]
    },
    {
     "data": {
      "text/plain": [
       "Process(`\u001b[4mnvidia-smi\u001b[24m`, ProcessExited(0))"
      ]
     },
     "metadata": {},
     "output_type": "display_data"
    }
   ],
   "source": [
    "run(`nvidia-smi`)"
   ]
  },
  {
   "cell_type": "code",
   "execution_count": 4,
   "metadata": {},
   "outputs": [
    {
     "name": "stdout",
     "output_type": "stream",
     "text": [
      "\u001b[32m\u001b[1mStatus\u001b[22m\u001b[39m `~/.julia/environments/v1.9/Project.toml`\n",
      "  \u001b[90m[f67ccb44] \u001b[39mHDF5 v0.16.15\n",
      "  \u001b[90m[7073ff75] \u001b[39mIJulia v1.24.2\n",
      "  \u001b[90m[6a3955dd] \u001b[39mImageFiltering v0.7.5\n",
      "  \u001b[90m[4138dd39] \u001b[39mJLD v0.13.3\n",
      "  \u001b[90m[033835bb] \u001b[39mJLD2 v0.4.31\n",
      "  \u001b[90m[f3b833dc] \u001b[39mJUDI v3.3.5\n",
      "  \u001b[90m[32113eaa] \u001b[39mPkgBenchmark v0.2.12\n",
      "  \u001b[90m[d330b81b] \u001b[39mPyPlot v2.11.1\n",
      "  \u001b[90m[157a0f19] \u001b[39mSegyIO v0.8.3\n",
      "  \u001b[90m[335f7d24] \u001b[39mSetIntersectionProjection v0.2.4\n",
      "  \u001b[90m[e4c7bc62] \u001b[39mSlimOptim v0.2.3\n"
     ]
    }
   ],
   "source": [
    "Pkg.status()"
   ]
  },
  {
   "cell_type": "code",
   "execution_count": 5,
   "metadata": {},
   "outputs": [],
   "source": [
    "n = (101, 101)  # Number of grid point (nx, nz)\n",
    "d = (10., 10.)  # Grid spacing in m. The domain size is now 1km by 1km\n",
    "o = (0., 0.);  # What is the location of the top left corner. This is necessary to define\n",
    "# velocities\n",
    "v = 1.5f0 * ones(Float32, n)\n",
    "v[:, 31:66] .= 1.5f0 + 0.5f0\n",
    "v[:, 66:end] .= 1.5f0 + 1.5f0\n",
    "v[41:61, 36:56] .= 1.5f0 + 1.0f0;\n",
    "\n",
    "# Create initial model and smooth the boundaries\n",
    "v0 = imfilter(v, Kernel.gaussian((5,5)));\n",
    "\n",
    "# Slowness squared [s^2/km^2]\n",
    "m = (1f0 ./ v).^2\n",
    "m0 = (1f0 ./ v0).^2\n",
    "dm = vec(m0 - m);\n",
    "\n",
    "# Setup model structure\n",
    "model = Model(n, d, o, m)\n",
    "model0 = Model(n, d, o, m0);"
   ]
  },
  {
   "cell_type": "code",
   "execution_count": 6,
   "metadata": {},
   "outputs": [
    {
     "data": {
      "image/png": "[encoded data removed]",
      "text/plain": [
       "Figure(PyObject <Figure size 1200x400 with 4 Axes>)"
      ]
     },
     "metadata": {},
     "output_type": "display_data"
    }
   ],
   "source": [
    "fig = figure(figsize=(12,4))\n",
    "subplot(121)\n",
    "im = imshow(v')\n",
    "cb = colorbar(im, ticks=unique(v), pad=0.01)\n",
    "cb[:set_label](label = L\"$V_p[km/s]$\")\n",
    "xlabel(L\"Posición horizontal $[m]$\")\n",
    "ylabel(L\"Profundidad $[m]$\")\n",
    "title(\"velocity model\")\n",
    "subplot(122)\n",
    "im = imshow(v0')\n",
    "cb = colorbar(im, ticks=unique(v), pad=0.01)\n",
    "cb[:set_label](label = L\"$V_p[km/s]$\")\n",
    "xlabel(L\"Posición horizontal $[m]$\")\n",
    "ylabel(L\"Profundidad $[m]$\")\n",
    "title(\"velocity model\")\n",
    "display(fig)"
   ]
  },
  {
   "cell_type": "code",
   "execution_count": 7,
   "metadata": {},
   "outputs": [
    {
     "name": "stdout",
     "output_type": "stream",
     "text": [
      "JUDI born{Float32} propagator (z * x) -> (src * rec * time)\n"
     ]
    }
   ],
   "source": [
    "# sources\n",
    "nsrc = 21\n",
    "# receivers\n",
    "nxrec = 101\n",
    "xrec = range(0f0, stop=(n[1]-1)*d[1], length=nxrec)\n",
    "yrec = 0f0\n",
    "zrec = range(30f0, stop=30f0, length=nxrec)\n",
    "\n",
    "timeD = 1000f0\n",
    "dtD = 2f0\n",
    "\n",
    "recGeometry = Geometry(xrec, yrec, zrec; dt=dtD, t=timeD, nsrc=nsrc)\n",
    "\n",
    "xsrc = convertToCell(range(0f0, stop=(n[1]-1)*d[1], length=nsrc))\n",
    "ysrc = convertToCell(range(0f0, stop=0f0, length=nsrc))\n",
    "zsrc = convertToCell(range(30f0, stop=30f0, length=nsrc))\n",
    "\n",
    "srcGeometry = Geometry(xsrc, ysrc, zsrc; dt=dtD, t=timeD)\n",
    "\n",
    "f0 = 0.004f0     # kHz 4Hz\n",
    "wavelet = ricker_wavelet(timeD, dtD, f0)\n",
    "q = judiVector(srcGeometry, wavelet)\n",
    "\n",
    "opt = Options(optimal_checkpointing = true)    # set to false to disable optimal checkpointing\n",
    "Pr = judiProjection(recGeometry)\n",
    "F = judiModeling(model; options=opt)\n",
    "F0 = judiModeling(model0; options=opt)\n",
    "Ps = judiProjection(srcGeometry)\n",
    "J = judiJacobian(Pr*F0*adjoint(Ps), q)"
   ]
  },
  {
   "cell_type": "code",
   "execution_count": 8,
   "metadata": {},
   "outputs": [
    {
     "name": "stderr",
     "output_type": "stream",
     "text": [
      "Building forward operator\n",
      "Operator `forward` ran in 0.19 s\n",
      "Operator `forward` ran in 0.20 s\n",
      "Operator `forward` ran in 0.11 s\n",
      "Operator `forward` ran in 0.11 s\n",
      "Operator `forward` ran in 0.11 s\n",
      "Operator `forward` ran in 0.11 s\n",
      "Operator `forward` ran in 0.11 s\n",
      "Operator `forward` ran in 0.11 s\n",
      "Operator `forward` ran in 0.11 s\n",
      "Operator `forward` ran in 0.11 s\n",
      "Operator `forward` ran in 0.11 s\n",
      "Operator `forward` ran in 0.11 s\n",
      "Operator `forward` ran in 0.11 s\n",
      "Operator `forward` ran in 0.11 s\n",
      "Operator `forward` ran in 0.11 s\n",
      "Operator `forward` ran in 0.12 s\n",
      "Operator `forward` ran in 0.12 s\n",
      "Operator `forward` ran in 0.12 s\n",
      "Operator `forward` ran in 0.12 s\n",
      "Operator `forward` ran in 0.12 s\n",
      "Operator `forward` ran in 0.12 s\n"
     ]
    },
    {
     "name": "stdout",
     "output_type": "stream",
     "text": [
      "judiVector{Float32, Matrix{Float32}} with 21 sources\n"
     ]
    }
   ],
   "source": [
    "d_obs = Pr*F*adjoint(Ps)*q"
   ]
  },
  {
   "cell_type": "code",
   "execution_count": 9,
   "metadata": {},
   "outputs": [],
   "source": [
    "dm = vec(model.m - model0.m);"
   ]
  },
  {
   "cell_type": "code",
   "execution_count": 10,
   "metadata": {},
   "outputs": [
    {
     "ename": "MethodError",
     "evalue": "MethodError: no method matching process_input_data(::judiJacobian{Float32, :born, judiDataSourceModeling{Float32, :forward}}, ::Base.ReshapedArray{Float32, 1, PhysicalParameter{Float32, 2}, Tuple{Base.MultiplicativeInverses.SignedMultiplicativeInverse{Int64}}})\n\nClosest candidates are:\n  process_input_data(::judiJacobian{D, :born, FT}, !Matched::Union{PhysicalParameter{D}, Vector{D}}) where {D<:Number, FT}\n   @ JUDI ~/.julia/packages/JUDI/owInM/src/TimeModeling/LinearOperators/operators.jl:196\n  process_input_data(::judiJacobian{D, :born, FT}, !Matched::DenseArray) where {D<:Number, FT}\n   @ JUDI ~/.julia/packages/JUDI/owInM/src/TimeModeling/LinearOperators/operators.jl:197\n  process_input_data(::JUDI.judiPropagator{T}, !Matched::JUDI.judiMultiSourceVector{T}) where T\n   @ JUDI ~/.julia/packages/JUDI/owInM/src/TimeModeling/LinearOperators/operators.jl:190\n",
     "output_type": "error",
     "traceback": [
      "MethodError: no method matching process_input_data(::judiJacobian{Float32, :born, judiDataSourceModeling{Float32, :forward}}, ::Base.ReshapedArray{Float32, 1, PhysicalParameter{Float32, 2}, Tuple{Base.MultiplicativeInverses.SignedMultiplicativeInverse{Int64}}})\n",
      "\n",
      "Closest candidates are:\n",
      "  process_input_data(::judiJacobian{D, :born, FT}, !Matched::Union{PhysicalParameter{D}, Vector{D}}) where {D<:Number, FT}\n",
      "   @ JUDI ~/.julia/packages/JUDI/owInM/src/TimeModeling/LinearOperators/operators.jl:196\n",
      "  process_input_data(::judiJacobian{D, :born, FT}, !Matched::DenseArray) where {D<:Number, FT}\n",
      "   @ JUDI ~/.julia/packages/JUDI/owInM/src/TimeModeling/LinearOperators/operators.jl:197\n",
      "  process_input_data(::JUDI.judiPropagator{T}, !Matched::JUDI.judiMultiSourceVector{T}) where T\n",
      "   @ JUDI ~/.julia/packages/JUDI/owInM/src/TimeModeling/LinearOperators/operators.jl:190\n",
      "\n",
      "\n",
      "Stacktrace:\n",
      " [1] multi_src_propagate(F::judiJacobian{Float32, :born, judiDataSourceModeling{Float32, :forward}}, q::Base.ReshapedArray{Float32, 1, PhysicalParameter{Float32, 2}, Tuple{Base.MultiplicativeInverses.SignedMultiplicativeInverse{Int64}}})\n",
      "   @ JUDI ~/.julia/packages/JUDI/owInM/src/TimeModeling/Modeling/propagation.jl:79\n",
      " [2] *(F::judiJacobian{Float32, :born, judiDataSourceModeling{Float32, :forward}}, q::Base.ReshapedArray{Float32, 1, PhysicalParameter{Float32, 2}, Tuple{Base.MultiplicativeInverses.SignedMultiplicativeInverse{Int64}}})\n",
      "   @ JUDI ~/.julia/packages/JUDI/owInM/src/TimeModeling/LinearOperators/operators.jl:174\n",
      " [3] top-level scope\n",
      "   @ ~/notebooks/tesis/model1/JUDIv3.3.5.ipynb:1"
     ]
    }
   ],
   "source": [
    "dD = J*dm"
   ]
  }
 ],
 "metadata": {
  "kernelspec": {
   "display_name": "Julia 1.9.2",
   "language": "julia",
   "name": "julia-1.9"
  },
  "language_info": {
   "file_extension": ".jl",
   "mimetype": "application/julia",
   "name": "julia",
   "version": "1.9.2"
  },
  "orig_nbformat": 4
 },
 "nbformat": 4,
 "nbformat_minor": 2
}
