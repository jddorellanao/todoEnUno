{
    "cells": [
        {
            "cell_type": "markdown",
            "source": [
                "Shuey"
            ],
            "metadata": {}
        },
        {
            "cell_type": "code",
            "execution_count": 1,
            "source": [
                "import matplotlib.pyplot as plt\r\n",
                "import numpy as np\r\n",
                "plt.style.use(['science', 'notebook', 'grid'])"
            ],
            "outputs": [],
            "metadata": {}
        },
        {
            "cell_type": "code",
            "execution_count": 2,
            "source": [
                "#shuey para angulos menores que 30 grados\r\n",
                "angulo=0.15"
            ],
            "outputs": [],
            "metadata": {}
        },
        {
            "cell_type": "code",
            "execution_count": 3,
            "source": [
                "#gas sand\r\n",
                "Vp1=2280\r\n",
                "nu1=0.42\r\n",
                "rho1=2190\r\n",
                "\r\n",
                "#wet sand\r\n",
                "Vp2=2217\r\n",
                "nu2=0.42\r\n",
                "rho2=2150"
            ],
            "outputs": [],
            "metadata": {}
        },
        {
            "cell_type": "code",
            "execution_count": 4,
            "source": [
                "A=(Vp2*rho2-Vp1*rho1)/(Vp2*rho2+Vp1*rho1) #=Rpp\r\n",
                "print('El valor de A es igual a   = '+str(\"{:.2e}\".format(A)))"
            ],
            "outputs": [
                {
                    "output_type": "stream",
                    "name": "stdout",
                    "text": [
                        "El valor de A es igual a   = -2.32e-02\n"
                    ]
                }
            ],
            "metadata": {}
        },
        {
            "cell_type": "code",
            "execution_count": 5,
            "source": [
                "Vp=(Vp1+Vp2)/2\r\n",
                "print('El valor de vp es igual a   = '+str(\"{:.2e}\".format(Vp)))"
            ],
            "outputs": [
                {
                    "output_type": "stream",
                    "name": "stdout",
                    "text": [
                        "El valor de vp es igual a   = 2.25e+03\n"
                    ]
                }
            ],
            "metadata": {}
        },
        {
            "cell_type": "code",
            "execution_count": 6,
            "source": [
                "deltaVp=Vp2-Vp1\r\n",
                "print('El valor de delta vp es igual a   = '+str(\"{:.2e}\".format(deltaVp)))"
            ],
            "outputs": [
                {
                    "output_type": "stream",
                    "name": "stdout",
                    "text": [
                        "El valor de delta vp es igual a   = -6.30e+01\n"
                    ]
                }
            ],
            "metadata": {}
        },
        {
            "cell_type": "code",
            "execution_count": 7,
            "source": [
                "rho=(rho1+rho2)/2\r\n",
                "print('El valor de rho es igual a   = '+str(\"{:.2e}\".format(rho)))"
            ],
            "outputs": [
                {
                    "output_type": "stream",
                    "name": "stdout",
                    "text": [
                        "El valor de rho es igual a   = 2.17e+03\n"
                    ]
                }
            ],
            "metadata": {}
        },
        {
            "cell_type": "code",
            "execution_count": 8,
            "source": [
                "deltarho=rho2-rho1\r\n",
                "print('El valor de drho es igual a   = '+str(\"{:.2e}\".format(deltarho)))"
            ],
            "outputs": [
                {
                    "output_type": "stream",
                    "name": "stdout",
                    "text": [
                        "El valor de drho es igual a   = -4.00e+01\n"
                    ]
                }
            ],
            "metadata": {}
        },
        {
            "cell_type": "code",
            "execution_count": 9,
            "source": [
                "D=(deltaVp/Vp)/(deltaVp/Vp+deltarho/rho)\r\n",
                "print('El valor de D es igual a   = '+str(\"{:.2e}\".format(D)))"
            ],
            "outputs": [
                {
                    "output_type": "stream",
                    "name": "stdout",
                    "text": [
                        "El valor de D es igual a   = 6.03e-01\n"
                    ]
                }
            ],
            "metadata": {}
        },
        {
            "cell_type": "code",
            "execution_count": 10,
            "source": [
                "nu=(nu1+nu2)/2\r\n",
                "print('El valor de nu es igual a   = '+str(\"{:.2e}\".format(nu)))"
            ],
            "outputs": [
                {
                    "output_type": "stream",
                    "name": "stdout",
                    "text": [
                        "El valor de nu es igual a   = 4.20e-01\n"
                    ]
                }
            ],
            "metadata": {}
        },
        {
            "cell_type": "code",
            "execution_count": 11,
            "source": [
                "delthanu=nu2-nu1\r\n",
                "print('El valor de d nu es igual a   = '+str(\"{:.2e}\".format(delthanu)))"
            ],
            "outputs": [
                {
                    "output_type": "stream",
                    "name": "stdout",
                    "text": [
                        "El valor de d nu es igual a   = 0.00e+00\n"
                    ]
                }
            ],
            "metadata": {}
        },
        {
            "cell_type": "code",
            "execution_count": 12,
            "source": [
                "B=A*(D-2*(1+D)*((1-2*nu)/(1-nu)))+(delthanu/(1-nu)**2)\r\n",
                "print('El valor de B es igual a   = '+str(\"{:.2e}\".format(B)))"
            ],
            "outputs": [
                {
                    "output_type": "stream",
                    "name": "stdout",
                    "text": [
                        "El valor de B es igual a   = 6.53e-03\n"
                    ]
                }
            ],
            "metadata": {}
        },
        {
            "cell_type": "code",
            "execution_count": 13,
            "source": [
                "Rpp=A+B*(np.sin(angulo)**2)\r\n",
                "print('El valor de Rpp es igual a = '+str(\"{:.2e}\".format(Rpp)))"
            ],
            "outputs": [
                {
                    "output_type": "stream",
                    "name": "stdout",
                    "text": [
                        "El valor de Rpp es igual a = -2.31e-02\n"
                    ]
                }
            ],
            "metadata": {}
        },
        {
            "cell_type": "code",
            "execution_count": 14,
            "source": [
                "print('El valor de B*sin(angulo) es igual a = '+str(\"{:.2e}\".format(B*(np.sin(angulo)**2))))"
            ],
            "outputs": [
                {
                    "output_type": "stream",
                    "name": "stdout",
                    "text": [
                        "El valor de B*sin(angulo) es igual a = 1.46e-04\n"
                    ]
                }
            ],
            "metadata": {}
        }
    ],
    "metadata": {
        "orig_nbformat": 4,
        "language_info": {
            "name": "python"
        }
    },
    "nbformat": 4,
    "nbformat_minor": 2
}