{
    "cells": [
        {
            "cell_type": "markdown",
            "source": [
                "Serie de Fourier"
            ],
            "metadata": {}
        },
        {
            "cell_type": "code",
            "execution_count": 1,
            "source": [
                "import numpy as np\r\n",
                "from scipy.signal import square\r\n",
                "import matplotlib.pyplot as plt\r\n",
                "from scipy.integrate import simps"
            ],
            "outputs": [],
            "metadata": {}
        },
        {
            "cell_type": "code",
            "execution_count": 2,
            "source": [
                "L=2 # Periodicity of the periodic function f(x)\r\n",
                "freq=-1 # No of waves in time period L\r\n",
                "dutycycle=0.5\r\n",
                "samples=100\r\n",
                "terms=100"
            ],
            "outputs": [],
            "metadata": {}
        },
        {
            "cell_type": "code",
            "execution_count": 3,
            "source": [
                "# Generation of square wave\r\n",
                "x=np.linspace(0,L,samples,endpoint=False)\r\n",
                "y=square(2.0*np.pi*x*freq/L,duty=dutycycle)"
            ],
            "outputs": [],
            "metadata": {}
        },
        {
            "cell_type": "code",
            "execution_count": 4,
            "source": [
                "# Calculation of Fourier coefficients\r\n",
                "a0=2./L*simps(y,x)\r\n",
                "an=lambda n:2.0/L*simps(y*np.cos(2.*np.pi*n*x/L),x)\r\n",
                "bn=lambda n:2.0/L*simps(y*np.sin(2.*np.pi*n*x/L),x)"
            ],
            "outputs": [],
            "metadata": {}
        },
        {
            "cell_type": "code",
            "execution_count": 5,
            "source": [
                "# sum of the series\r\n",
                "s=a0/2.+sum([an(k)*np.cos(2.*np.pi*k*x/L)+bn(k)*np.sin(2.*np.pi*k*x/L) for k in range(1,terms+1)])"
            ],
            "outputs": [],
            "metadata": {}
        },
        {
            "cell_type": "code",
            "execution_count": 6,
            "source": [
                "# Plotting\r\n",
                "plt.plot(x,s,label=\"Fourier series\")\r\n",
                "#plt.plot(x,y,label=\"Original square wave\")\r\n",
                "plt.xlabel(\"$x$\")\r\n",
                "plt.ylabel(\"$y=f(x)$\")\r\n",
                "plt.legend(loc='best',prop={'size':10})\r\n",
                "plt.title(\"Square wave signal analysis by Fouries series\")\r\n",
                "#plt.savefig(\"fs_square.png\")"
            ],
            "outputs": [
                {
                    "output_type": "execute_result",
                    "data": {
                        "text/plain": [
                            "Text(0.5, 1.0, 'Square wave signal analysis by Fouries series')"
                        ]
                    },
                    "metadata": {},
                    "execution_count": 6
                },
                {
                    "output_type": "display_data",
                    "data": {
                        "text/plain": [
                            "<Figure size 432x288 with 1 Axes>"
                        ],
                        "image/png": "[encoded data removed]"
                    },
                    "metadata": {
                        "needs_background": "light"
                    }
                }
            ],
            "metadata": {}
        }
    ],
    "metadata": {
        "orig_nbformat": 4,
        "language_info": {
            "name": "python"
        }
    },
    "nbformat": 4,
    "nbformat_minor": 2
}