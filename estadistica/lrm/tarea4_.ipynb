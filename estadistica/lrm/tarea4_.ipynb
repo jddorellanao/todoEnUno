{
 "cells": [
  {
   "cell_type": "code",
   "execution_count": 1,
   "metadata": {
    "vscode": {
     "languageId": "r"
    }
   },
   "outputs": [],
   "source": [
    "StateData2018<-read.csv(\"data/StateData2018.csv\")"
   ]
  },
  {
   "cell_type": "code",
   "execution_count": 49,
   "metadata": {
    "vscode": {
     "languageId": "r"
    }
   },
   "outputs": [
    {
     "data": {
      "text/html": [
       "<table class=\"dataframe\">\n",
       "<caption>A data.frame: 6 × 78</caption>\n",
       "<thead>\n",
       "\t<tr><th></th><th scope=col>State</th><th scope=col>fipsCode</th><th scope=col>CensusRegion</th><th scope=col>CensusDivision</th><th scope=col>Population</th><th scope=col>PopChange2010_18</th><th scope=col>PerPopChange2010_18</th><th scope=col>InternMigration</th><th scope=col>InternMigRate</th><th scope=col>DomMigration</th><th scope=col>⋯</th><th scope=col>AAVotedPercent</th><th scope=col>LatinxVotedPercent</th><th scope=col>InfantMortalityRate</th><th scope=col>LifeExpectancy</th><th scope=col>HealthExpPerCapita</th><th scope=col>PercentUninsured</th><th scope=col>LifeSatis</th><th scope=col>Conservative</th><th scope=col>Religious</th><th scope=col>MedHHInc</th></tr>\n",
       "\t<tr><th></th><th scope=col>&lt;chr&gt;</th><th scope=col>&lt;int&gt;</th><th scope=col>&lt;chr&gt;</th><th scope=col>&lt;chr&gt;</th><th scope=col>&lt;int&gt;</th><th scope=col>&lt;int&gt;</th><th scope=col>&lt;dbl&gt;</th><th scope=col>&lt;int&gt;</th><th scope=col>&lt;dbl&gt;</th><th scope=col>&lt;int&gt;</th><th scope=col>⋯</th><th scope=col>&lt;dbl&gt;</th><th scope=col>&lt;dbl&gt;</th><th scope=col>&lt;dbl&gt;</th><th scope=col>&lt;dbl&gt;</th><th scope=col>&lt;int&gt;</th><th scope=col>&lt;dbl&gt;</th><th scope=col>&lt;dbl&gt;</th><th scope=col>&lt;dbl&gt;</th><th scope=col>&lt;dbl&gt;</th><th scope=col>&lt;dbl&gt;</th></tr>\n",
       "</thead>\n",
       "<tbody>\n",
       "\t<tr><th scope=row>1</th><td>Alabama   </td><td>1</td><td>South</td><td>EastSouthCentral</td><td> 4887871</td><td> 107733</td><td> 2.254</td><td>  3344</td><td>0.68</td><td>   5718</td><td>⋯</td><td>49.6</td><td>29.1</td><td>9.03</td><td>75.0</td><td> 7281</td><td>12.0</td><td>51.42162</td><td>26.00835</td><td>32.03850</td><td>48.486</td></tr>\n",
       "\t<tr><th scope=row>2</th><td>Alaska    </td><td>2</td><td>West </td><td>Pacific         </td><td>  737438</td><td>  27189</td><td> 3.828</td><td>  2401</td><td>3.26</td><td> -10752</td><td>⋯</td><td>  NA</td><td>  NA</td><td>5.17</td><td>77.8</td><td>11064</td><td>14.3</td><td>52.08266</td><td>19.27924</td><td>24.12306</td><td>76.715</td></tr>\n",
       "\t<tr><th scope=row>3</th><td>Arizona   </td><td>4</td><td>West </td><td>Mountain        </td><td> 7171646</td><td> 779358</td><td>12.192</td><td> 14335</td><td>2.00</td><td>  83240</td><td>⋯</td><td>50.9</td><td>48.8</td><td>5.32</td><td>79.2</td><td> 6452</td><td>12.7</td><td>51.38469</td><td>20.40239</td><td>26.40519</td><td>56.213</td></tr>\n",
       "\t<tr><th scope=row>4</th><td>Arkansas  </td><td>5</td><td>South</td><td>WestSouthCentral</td><td> 3013825</td><td>  97797</td><td> 3.354</td><td>  2260</td><td>0.75</td><td>   2475</td><td>⋯</td><td>41.6</td><td>20.8</td><td>8.20</td><td>75.5</td><td> 7408</td><td> 9.8</td><td>52.34836</td><td>25.04501</td><td>30.05092</td><td>45.726</td></tr>\n",
       "\t<tr><th scope=row>5</th><td>California</td><td>6</td><td>West </td><td>Pacific         </td><td>39557045</td><td>2302522</td><td> 6.181</td><td>117797</td><td>2.98</td><td>-156068</td><td>⋯</td><td>49.9</td><td>43.3</td><td>4.22</td><td>81.0</td><td> 7549</td><td> 8.3</td><td>51.49240</td><td>17.61913</td><td>24.76924</td><td>71.228</td></tr>\n",
       "\t<tr><th scope=row>6</th><td>Colorado  </td><td>8</td><td>West </td><td>Mountain        </td><td> 5695564</td><td> 666248</td><td>13.247</td><td>  8207</td><td>1.44</td><td>  43293</td><td>⋯</td><td>31.0</td><td>43.9</td><td>4.76</td><td>80.0</td><td> 6804</td><td> 8.6</td><td>52.87864</td><td>18.76129</td><td>24.94406</td><td>68.811</td></tr>\n",
       "</tbody>\n",
       "</table>\n"
      ],
      "text/latex": [
       "A data.frame: 6 × 78\n",
       "\\begin{tabular}{r|lllllllllllllllllllll}\n",
       "  & State & fipsCode & CensusRegion & CensusDivision & Population & PopChange2010\\_18 & PerPopChange2010\\_18 & InternMigration & InternMigRate & DomMigration & ⋯ & AAVotedPercent & LatinxVotedPercent & InfantMortalityRate & LifeExpectancy & HealthExpPerCapita & PercentUninsured & LifeSatis & Conservative & Religious & MedHHInc\\\\\n",
       "  & <chr> & <int> & <chr> & <chr> & <int> & <int> & <dbl> & <int> & <dbl> & <int> & ⋯ & <dbl> & <dbl> & <dbl> & <dbl> & <int> & <dbl> & <dbl> & <dbl> & <dbl> & <dbl>\\\\\n",
       "\\hline\n",
       "\t1 & Alabama    & 1 & South & EastSouthCentral &  4887871 &  107733 &  2.254 &   3344 & 0.68 &    5718 & ⋯ & 49.6 & 29.1 & 9.03 & 75.0 &  7281 & 12.0 & 51.42162 & 26.00835 & 32.03850 & 48.486\\\\\n",
       "\t2 & Alaska     & 2 & West  & Pacific          &   737438 &   27189 &  3.828 &   2401 & 3.26 &  -10752 & ⋯ &   NA &   NA & 5.17 & 77.8 & 11064 & 14.3 & 52.08266 & 19.27924 & 24.12306 & 76.715\\\\\n",
       "\t3 & Arizona    & 4 & West  & Mountain         &  7171646 &  779358 & 12.192 &  14335 & 2.00 &   83240 & ⋯ & 50.9 & 48.8 & 5.32 & 79.2 &  6452 & 12.7 & 51.38469 & 20.40239 & 26.40519 & 56.213\\\\\n",
       "\t4 & Arkansas   & 5 & South & WestSouthCentral &  3013825 &   97797 &  3.354 &   2260 & 0.75 &    2475 & ⋯ & 41.6 & 20.8 & 8.20 & 75.5 &  7408 &  9.8 & 52.34836 & 25.04501 & 30.05092 & 45.726\\\\\n",
       "\t5 & California & 6 & West  & Pacific          & 39557045 & 2302522 &  6.181 & 117797 & 2.98 & -156068 & ⋯ & 49.9 & 43.3 & 4.22 & 81.0 &  7549 &  8.3 & 51.49240 & 17.61913 & 24.76924 & 71.228\\\\\n",
       "\t6 & Colorado   & 8 & West  & Mountain         &  5695564 &  666248 & 13.247 &   8207 & 1.44 &   43293 & ⋯ & 31.0 & 43.9 & 4.76 & 80.0 &  6804 &  8.6 & 52.87864 & 18.76129 & 24.94406 & 68.811\\\\\n",
       "\\end{tabular}\n"
      ],
      "text/markdown": [
       "\n",
       "A data.frame: 6 × 78\n",
       "\n",
       "| <!--/--> | State &lt;chr&gt; | fipsCode &lt;int&gt; | CensusRegion &lt;chr&gt; | CensusDivision &lt;chr&gt; | Population &lt;int&gt; | PopChange2010_18 &lt;int&gt; | PerPopChange2010_18 &lt;dbl&gt; | InternMigration &lt;int&gt; | InternMigRate &lt;dbl&gt; | DomMigration &lt;int&gt; | ⋯ ⋯ | AAVotedPercent &lt;dbl&gt; | LatinxVotedPercent &lt;dbl&gt; | InfantMortalityRate &lt;dbl&gt; | LifeExpectancy &lt;dbl&gt; | HealthExpPerCapita &lt;int&gt; | PercentUninsured &lt;dbl&gt; | LifeSatis &lt;dbl&gt; | Conservative &lt;dbl&gt; | Religious &lt;dbl&gt; | MedHHInc &lt;dbl&gt; |\n",
       "|---|---|---|---|---|---|---|---|---|---|---|---|---|---|---|---|---|---|---|---|---|---|\n",
       "| 1 | Alabama    | 1 | South | EastSouthCentral |  4887871 |  107733 |  2.254 |   3344 | 0.68 |    5718 | ⋯ | 49.6 | 29.1 | 9.03 | 75.0 |  7281 | 12.0 | 51.42162 | 26.00835 | 32.03850 | 48.486 |\n",
       "| 2 | Alaska     | 2 | West  | Pacific          |   737438 |   27189 |  3.828 |   2401 | 3.26 |  -10752 | ⋯ |   NA |   NA | 5.17 | 77.8 | 11064 | 14.3 | 52.08266 | 19.27924 | 24.12306 | 76.715 |\n",
       "| 3 | Arizona    | 4 | West  | Mountain         |  7171646 |  779358 | 12.192 |  14335 | 2.00 |   83240 | ⋯ | 50.9 | 48.8 | 5.32 | 79.2 |  6452 | 12.7 | 51.38469 | 20.40239 | 26.40519 | 56.213 |\n",
       "| 4 | Arkansas   | 5 | South | WestSouthCentral |  3013825 |   97797 |  3.354 |   2260 | 0.75 |    2475 | ⋯ | 41.6 | 20.8 | 8.20 | 75.5 |  7408 |  9.8 | 52.34836 | 25.04501 | 30.05092 | 45.726 |\n",
       "| 5 | California | 6 | West  | Pacific          | 39557045 | 2302522 |  6.181 | 117797 | 2.98 | -156068 | ⋯ | 49.9 | 43.3 | 4.22 | 81.0 |  7549 |  8.3 | 51.49240 | 17.61913 | 24.76924 | 71.228 |\n",
       "| 6 | Colorado   | 8 | West  | Mountain         |  5695564 |  666248 | 13.247 |   8207 | 1.44 |   43293 | ⋯ | 31.0 | 43.9 | 4.76 | 80.0 |  6804 |  8.6 | 52.87864 | 18.76129 | 24.94406 | 68.811 |\n",
       "\n"
      ],
      "text/plain": [
       "  State      fipsCode CensusRegion CensusDivision   Population PopChange2010_18\n",
       "1 Alabama    1        South        EastSouthCentral  4887871    107733         \n",
       "2 Alaska     2        West         Pacific            737438     27189         \n",
       "3 Arizona    4        West         Mountain          7171646    779358         \n",
       "4 Arkansas   5        South        WestSouthCentral  3013825     97797         \n",
       "5 California 6        West         Pacific          39557045   2302522         \n",
       "6 Colorado   8        West         Mountain          5695564    666248         \n",
       "  PerPopChange2010_18 InternMigration InternMigRate DomMigration ⋯\n",
       "1  2.254                3344          0.68             5718      ⋯\n",
       "2  3.828                2401          3.26           -10752      ⋯\n",
       "3 12.192               14335          2.00            83240      ⋯\n",
       "4  3.354                2260          0.75             2475      ⋯\n",
       "5  6.181              117797          2.98          -156068      ⋯\n",
       "6 13.247                8207          1.44            43293      ⋯\n",
       "  AAVotedPercent LatinxVotedPercent InfantMortalityRate LifeExpectancy\n",
       "1 49.6           29.1               9.03                75.0          \n",
       "2   NA             NA               5.17                77.8          \n",
       "3 50.9           48.8               5.32                79.2          \n",
       "4 41.6           20.8               8.20                75.5          \n",
       "5 49.9           43.3               4.22                81.0          \n",
       "6 31.0           43.9               4.76                80.0          \n",
       "  HealthExpPerCapita PercentUninsured LifeSatis Conservative Religious MedHHInc\n",
       "1  7281              12.0             51.42162  26.00835     32.03850  48.486  \n",
       "2 11064              14.3             52.08266  19.27924     24.12306  76.715  \n",
       "3  6452              12.7             51.38469  20.40239     26.40519  56.213  \n",
       "4  7408               9.8             52.34836  25.04501     30.05092  45.726  \n",
       "5  7549               8.3             51.49240  17.61913     24.76924  71.228  \n",
       "6  6804               8.6             52.87864  18.76129     24.94406  68.811  "
      ]
     },
     "metadata": {},
     "output_type": "display_data"
    }
   ],
   "source": [
    "head(StateData2018)"
   ]
  },
  {
   "cell_type": "code",
   "execution_count": 33,
   "metadata": {
    "vscode": {
     "languageId": "r"
    }
   },
   "outputs": [],
   "source": [
    "library(psych)"
   ]
  },
  {
   "cell_type": "code",
   "execution_count": 35,
   "metadata": {
    "vscode": {
     "languageId": "r"
    }
   },
   "outputs": [
    {
     "data": {
      "text/plain": [
       "Call:corr.test(x = sub.corr)\n",
       "Correlation matrix \n",
       "                 ViolentCrimeRate PerChildPoverty MedHHIncome\n",
       "ViolentCrimeRate             1.00            0.49       -0.21\n",
       "PerChildPoverty              0.49            1.00       -0.76\n",
       "MedHHIncome                 -0.21           -0.76        1.00\n",
       "Sample Size \n",
       "[1] 50\n",
       "Probability values (Entries above the diagonal are adjusted for multiple tests.) \n",
       "                 ViolentCrimeRate PerChildPoverty MedHHIncome\n",
       "ViolentCrimeRate             0.00               0        0.15\n",
       "PerChildPoverty              0.00               0        0.00\n",
       "MedHHIncome                  0.15               0        0.00\n",
       "\n",
       " To see confidence intervals of the correlations, print with the short=FALSE option"
      ]
     },
     "metadata": {},
     "output_type": "display_data"
    }
   ],
   "source": [
    "sub.corr <- StateData2018[c(\"ViolentCrimeRate\", \"PerChildPoverty\", \"MedHHIncome\")] \n",
    "# create a subset of the data \n",
    "corr.test(sub.corr) # request the correlation matrix using psych's corr.test function"
   ]
  },
  {
   "cell_type": "code",
   "execution_count": 36,
   "metadata": {
    "vscode": {
     "languageId": "r"
    }
   },
   "outputs": [
    {
     "data": {
      "text/plain": [
       "\n",
       "Call:\n",
       "lm(formula = formula2, data = StateData2018)\n",
       "\n",
       "Residuals:\n",
       "    Min      1Q  Median      3Q     Max \n",
       "-217.12  -59.48   -9.75   43.76  340.20 \n",
       "\n",
       "Coefficients:\n",
       "                Estimate Std. Error t value Pr(>|t|)    \n",
       "(Intercept)      122.244     59.556   2.053 0.045587 *  \n",
       "PerChildPoverty   13.335      3.406   3.915 0.000285 ***\n",
       "---\n",
       "Signif. codes:  0 ‘***’ 0.001 ‘**’ 0.01 ‘*’ 0.05 ‘.’ 0.1 ‘ ’ 1\n",
       "\n",
       "Residual standard error: 113.3 on 48 degrees of freedom\n",
       "Multiple R-squared:  0.242,\tAdjusted R-squared:  0.2262 \n",
       "F-statistic: 15.33 on 1 and 48 DF,  p-value: 0.000285\n"
      ]
     },
     "metadata": {},
     "output_type": "display_data"
    },
    {
     "data": {
      "text/html": [
       "<table class=\"dataframe\">\n",
       "<caption>A matrix: 2 × 2 of type dbl</caption>\n",
       "<thead>\n",
       "\t<tr><th></th><th scope=col>2.5 %</th><th scope=col>97.5 %</th></tr>\n",
       "</thead>\n",
       "<tbody>\n",
       "\t<tr><th scope=row>(Intercept)</th><td>2.498222</td><td>241.98986</td></tr>\n",
       "\t<tr><th scope=row>PerChildPoverty</th><td>6.486486</td><td> 20.18358</td></tr>\n",
       "</tbody>\n",
       "</table>\n"
      ],
      "text/latex": [
       "A matrix: 2 × 2 of type dbl\n",
       "\\begin{tabular}{r|ll}\n",
       "  & 2.5 \\% & 97.5 \\%\\\\\n",
       "\\hline\n",
       "\t(Intercept) & 2.498222 & 241.98986\\\\\n",
       "\tPerChildPoverty & 6.486486 &  20.18358\\\\\n",
       "\\end{tabular}\n"
      ],
      "text/markdown": [
       "\n",
       "A matrix: 2 × 2 of type dbl\n",
       "\n",
       "| <!--/--> | 2.5 % | 97.5 % |\n",
       "|---|---|---|\n",
       "| (Intercept) | 2.498222 | 241.98986 |\n",
       "| PerChildPoverty | 6.486486 |  20.18358 |\n",
       "\n"
      ],
      "text/plain": [
       "                2.5 %    97.5 %   \n",
       "(Intercept)     2.498222 241.98986\n",
       "PerChildPoverty 6.486486  20.18358"
      ]
     },
     "metadata": {},
     "output_type": "display_data"
    }
   ],
   "source": [
    "formula2<-ViolentCrimeRate ~ PerChildPoverty\n",
    "model2 <- lm(formula2, data=StateData2018) \n",
    "summary(model2)\n",
    "confint(model2)"
   ]
  },
  {
   "cell_type": "code",
   "execution_count": 41,
   "metadata": {
    "vscode": {
     "languageId": "r"
    }
   },
   "outputs": [
    {
     "data": {
      "text/plain": [
       "\n",
       "Call:\n",
       "lm(formula = formula3, data = StateData2018)\n",
       "\n",
       "Residuals:\n",
       "     Min       1Q   Median       3Q      Max \n",
       "-221.401  -73.380   -5.251   59.673  298.651 \n",
       "\n",
       "Coefficients:\n",
       "                Estimate Std. Error t value Pr(>|t|)    \n",
       "(Intercept)     -310.566    217.913  -1.425 0.160712    \n",
       "PerChildPoverty   21.180      5.038   4.204 0.000116 ***\n",
       "MedHHInc           4.991      2.423   2.060 0.045008 *  \n",
       "---\n",
       "Signif. codes:  0 ‘***’ 0.001 ‘**’ 0.01 ‘*’ 0.05 ‘.’ 0.1 ‘ ’ 1\n",
       "\n",
       "Residual standard error: 109.7 on 47 degrees of freedom\n",
       "Multiple R-squared:  0.3048,\tAdjusted R-squared:  0.2752 \n",
       "F-statistic:  10.3 on 2 and 47 DF,  p-value: 0.000195\n"
      ]
     },
     "metadata": {},
     "output_type": "display_data"
    },
    {
     "data": {
      "text/html": [
       "<table class=\"dataframe\">\n",
       "<caption>A matrix: 3 × 2 of type dbl</caption>\n",
       "<thead>\n",
       "\t<tr><th></th><th scope=col>2.5 %</th><th scope=col>97.5 %</th></tr>\n",
       "</thead>\n",
       "<tbody>\n",
       "\t<tr><th scope=row>(Intercept)</th><td>-748.9502651</td><td>127.818623</td></tr>\n",
       "\t<tr><th scope=row>PerChildPoverty</th><td>  11.0455861</td><td> 31.313944</td></tr>\n",
       "\t<tr><th scope=row>MedHHInc</th><td>   0.1157745</td><td>  9.865769</td></tr>\n",
       "</tbody>\n",
       "</table>\n"
      ],
      "text/latex": [
       "A matrix: 3 × 2 of type dbl\n",
       "\\begin{tabular}{r|ll}\n",
       "  & 2.5 \\% & 97.5 \\%\\\\\n",
       "\\hline\n",
       "\t(Intercept) & -748.9502651 & 127.818623\\\\\n",
       "\tPerChildPoverty &   11.0455861 &  31.313944\\\\\n",
       "\tMedHHInc &    0.1157745 &   9.865769\\\\\n",
       "\\end{tabular}\n"
      ],
      "text/markdown": [
       "\n",
       "A matrix: 3 × 2 of type dbl\n",
       "\n",
       "| <!--/--> | 2.5 % | 97.5 % |\n",
       "|---|---|---|\n",
       "| (Intercept) | -748.9502651 | 127.818623 |\n",
       "| PerChildPoverty |   11.0455861 |  31.313944 |\n",
       "| MedHHInc |    0.1157745 |   9.865769 |\n",
       "\n"
      ],
      "text/plain": [
       "                2.5 %        97.5 %    \n",
       "(Intercept)     -748.9502651 127.818623\n",
       "PerChildPoverty   11.0455861  31.313944\n",
       "MedHHInc           0.1157745   9.865769"
      ]
     },
     "metadata": {},
     "output_type": "display_data"
    }
   ],
   "source": [
    "StateData2018$MedHHInc <- StateData2018$MedHHIncome/1000 \n",
    "# transform its measurement scale to $1,000s\n",
    "formula3<- ViolentCrimeRate ~ PerChildPoverty + MedHHInc\n",
    "model3 <- lm(formula3, data=StateData2018) \n",
    "summary(model3 )\n",
    "confint(model3 )"
   ]
  },
  {
   "cell_type": "code",
   "execution_count": 42,
   "metadata": {
    "vscode": {
     "languageId": "r"
    }
   },
   "outputs": [
    {
     "data": {
      "image/png": "[encoded data removed]",
      "text/plain": [
       "plot without title"
      ]
     },
     "metadata": {
      "image/png": {
       "height": 420,
       "width": 420
      }
     },
     "output_type": "display_data"
    }
   ],
   "source": [
    "library(effects) \n",
    "plot(predictorEffect(\"PerChildPoverty\", model3, xlevels=60), main=\"\", xlab=\"Percent child poverty\", ylab=\"Predicted violent crimes per 100,000\")\n",
    "# set median household income at its approximate mean of 60 (xlevels=60)"
   ]
  },
  {
   "cell_type": "code",
   "execution_count": 43,
   "metadata": {
    "vscode": {
     "languageId": "r"
    }
   },
   "outputs": [],
   "source": [
    "formula_null <- ViolentCrimeRate ~ 1"
   ]
  },
  {
   "cell_type": "code",
   "execution_count": 45,
   "metadata": {
    "vscode": {
     "languageId": "r"
    }
   },
   "outputs": [],
   "source": [
    "model_null <- lm(formula_null, data=StateData2018)"
   ]
  },
  {
   "cell_type": "code",
   "execution_count": 47,
   "metadata": {
    "vscode": {
     "languageId": "r"
    }
   },
   "outputs": [
    {
     "name": "stdout",
     "output_type": "stream",
     "text": [
      "630.7247 618.8692 616.5489"
     ]
    }
   ],
   "source": [
    "cat(AIC(model_null),AIC(model2),AIC(model3))"
   ]
  }
 ],
 "metadata": {
  "kernelspec": {
   "display_name": "R",
   "language": "R",
   "name": "ir"
  },
  "language_info": {
   "codemirror_mode": "r",
   "file_extension": ".r",
   "mimetype": "text/x-r-source",
   "name": "R",
   "pygments_lexer": "r",
   "version": "4.4.1"
  }
 },
 "nbformat": 4,
 "nbformat_minor": 2
}
