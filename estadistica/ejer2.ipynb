{
 "cells": [
  {
   "cell_type": "code",
   "execution_count": 3,
   "metadata": {
    "vscode": {
     "languageId": "r"
    }
   },
   "outputs": [
    {
     "data": {
      "text/html": [
       "<table class=\"dataframe\">\n",
       "<caption>A data.frame: 9 × 4</caption>\n",
       "<thead>\n",
       "\t<tr><th scope=col>id</th><th scope=col>despues</th><th scope=col>antes</th><th scope=col>d</th></tr>\n",
       "\t<tr><th scope=col>&lt;int&gt;</th><th scope=col>&lt;dbl&gt;</th><th scope=col>&lt;dbl&gt;</th><th scope=col>&lt;dbl&gt;</th></tr>\n",
       "</thead>\n",
       "<tbody>\n",
       "\t<tr><td>1</td><td>2250</td><td>1920</td><td>330</td></tr>\n",
       "\t<tr><td>2</td><td>2410</td><td>2020</td><td>390</td></tr>\n",
       "\t<tr><td>3</td><td>2260</td><td>2060</td><td>200</td></tr>\n",
       "\t<tr><td>4</td><td>2200</td><td>1960</td><td>240</td></tr>\n",
       "\t<tr><td>5</td><td>2360</td><td>1960</td><td>400</td></tr>\n",
       "\t<tr><td>6</td><td>2320</td><td>2140</td><td>180</td></tr>\n",
       "\t<tr><td>7</td><td>2240</td><td>1980</td><td>260</td></tr>\n",
       "\t<tr><td>8</td><td>2300</td><td>1940</td><td>360</td></tr>\n",
       "\t<tr><td>9</td><td>2090</td><td>1790</td><td>300</td></tr>\n",
       "</tbody>\n",
       "</table>\n"
      ],
      "text/latex": [
       "A data.frame: 9 × 4\n",
       "\\begin{tabular}{llll}\n",
       " id & despues & antes & d\\\\\n",
       " <int> & <dbl> & <dbl> & <dbl>\\\\\n",
       "\\hline\n",
       "\t 1 & 2250 & 1920 & 330\\\\\n",
       "\t 2 & 2410 & 2020 & 390\\\\\n",
       "\t 3 & 2260 & 2060 & 200\\\\\n",
       "\t 4 & 2200 & 1960 & 240\\\\\n",
       "\t 5 & 2360 & 1960 & 400\\\\\n",
       "\t 6 & 2320 & 2140 & 180\\\\\n",
       "\t 7 & 2240 & 1980 & 260\\\\\n",
       "\t 8 & 2300 & 1940 & 360\\\\\n",
       "\t 9 & 2090 & 1790 & 300\\\\\n",
       "\\end{tabular}\n"
      ],
      "text/markdown": [
       "\n",
       "A data.frame: 9 × 4\n",
       "\n",
       "| id &lt;int&gt; | despues &lt;dbl&gt; | antes &lt;dbl&gt; | d &lt;dbl&gt; |\n",
       "|---|---|---|---|\n",
       "| 1 | 2250 | 1920 | 330 |\n",
       "| 2 | 2410 | 2020 | 390 |\n",
       "| 3 | 2260 | 2060 | 200 |\n",
       "| 4 | 2200 | 1960 | 240 |\n",
       "| 5 | 2360 | 1960 | 400 |\n",
       "| 6 | 2320 | 2140 | 180 |\n",
       "| 7 | 2240 | 1980 | 260 |\n",
       "| 8 | 2300 | 1940 | 360 |\n",
       "| 9 | 2090 | 1790 | 300 |\n",
       "\n"
      ],
      "text/plain": [
       "  id despues antes d  \n",
       "1 1  2250    1920  330\n",
       "2 2  2410    2020  390\n",
       "3 3  2260    2060  200\n",
       "4 4  2200    1960  240\n",
       "5 5  2360    1960  400\n",
       "6 6  2320    2140  180\n",
       "7 7  2240    1980  260\n",
       "8 8  2300    1940  360\n",
       "9 9  2090    1790  300"
      ]
     },
     "metadata": {},
     "output_type": "display_data"
    }
   ],
   "source": [
    "id <- seq(1, 9)\n",
    "antes <- c(1920,2020,2060,1960,1960,2140,1980,1940,1790)\n",
    "despues <- c(2250,2410,2260,2200,2360,2320,2240,2300,2090)\n",
    "d <- despues - antes\n",
    "df <- data.frame(id, despues, antes, d)\n",
    "df"
   ]
  },
  {
   "cell_type": "markdown",
   "metadata": {},
   "source": [
    "$H_0: \\mu_{d} \\leq 250$\\\n",
    "$H_A: \\mu_{d}  > 250$\\\n",
    "$\\alpha = 0.05$"
   ]
  },
  {
   "cell_type": "markdown",
   "metadata": {},
   "source": [
    "$s^2_d$"
   ]
  },
  {
   "cell_type": "code",
   "execution_count": 4,
   "metadata": {
    "vscode": {
     "languageId": "r"
    }
   },
   "outputs": [
    {
     "data": {
      "text/html": [
       "6502.77777777778"
      ],
      "text/latex": [
       "6502.77777777778"
      ],
      "text/markdown": [
       "6502.77777777778"
      ],
      "text/plain": [
       "[1] 6502.778"
      ]
     },
     "metadata": {},
     "output_type": "display_data"
    }
   ],
   "source": [
    "var(d)"
   ]
  },
  {
   "cell_type": "code",
   "execution_count": 5,
   "metadata": {
    "vscode": {
     "languageId": "r"
    }
   },
   "outputs": [],
   "source": [
    "n <- length(d)"
   ]
  },
  {
   "cell_type": "markdown",
   "metadata": {
    "vscode": {
     "languageId": "r"
    }
   },
   "source": [
    "$\\bar{d}$"
   ]
  },
  {
   "cell_type": "code",
   "execution_count": 6,
   "metadata": {
    "vscode": {
     "languageId": "r"
    }
   },
   "outputs": [],
   "source": [
    "d_bar <- mean(d)"
   ]
  },
  {
   "cell_type": "markdown",
   "metadata": {},
   "source": [
    "$s_{\\bar{d}} = \\frac{s_d}{\\sqrt{n_d}}$"
   ]
  },
  {
   "cell_type": "code",
   "execution_count": 7,
   "metadata": {
    "vscode": {
     "languageId": "r"
    }
   },
   "outputs": [],
   "source": [
    "s_dbar <- sd(d) / sqrt(length(d))"
   ]
  },
  {
   "cell_type": "code",
   "execution_count": 8,
   "metadata": {
    "vscode": {
     "languageId": "r"
    }
   },
   "outputs": [
    {
     "data": {
      "text/html": [
       "26.8799342297843"
      ],
      "text/latex": [
       "26.8799342297843"
      ],
      "text/markdown": [
       "26.8799342297843"
      ],
      "text/plain": [
       "[1] 26.87993"
      ]
     },
     "metadata": {},
     "output_type": "display_data"
    }
   ],
   "source": [
    "s_dbar"
   ]
  },
  {
   "cell_type": "markdown",
   "metadata": {},
   "source": [
    "$t=\\frac{\\bar{d}-\\mu}{s_{\\bar{d}}}$"
   ]
  },
  {
   "cell_type": "code",
   "execution_count": 9,
   "metadata": {
    "vscode": {
     "languageId": "r"
    }
   },
   "outputs": [],
   "source": [
    "t <- (mean(d)-250) / s_dbar"
   ]
  },
  {
   "cell_type": "code",
   "execution_count": 10,
   "metadata": {
    "vscode": {
     "languageId": "r"
    }
   },
   "outputs": [
    {
     "data": {
      "text/html": [
       "1.69477927907568"
      ],
      "text/latex": [
       "1.69477927907568"
      ],
      "text/markdown": [
       "1.69477927907568"
      ],
      "text/plain": [
       "[1] 1.694779"
      ]
     },
     "metadata": {},
     "output_type": "display_data"
    }
   ],
   "source": [
    "t"
   ]
  },
  {
   "cell_type": "code",
   "execution_count": 11,
   "metadata": {
    "vscode": {
     "languageId": "r"
    }
   },
   "outputs": [],
   "source": [
    "tc <- qt(0.95, n -1)"
   ]
  },
  {
   "cell_type": "code",
   "execution_count": 12,
   "metadata": {
    "vscode": {
     "languageId": "r"
    }
   },
   "outputs": [
    {
     "data": {
      "text/html": [
       "1.8595480375309"
      ],
      "text/latex": [
       "1.8595480375309"
      ],
      "text/markdown": [
       "1.8595480375309"
      ],
      "text/plain": [
       "[1] 1.859548"
      ]
     },
     "metadata": {},
     "output_type": "display_data"
    }
   ],
   "source": [
    "tc"
   ]
  },
  {
   "cell_type": "code",
   "execution_count": 15,
   "metadata": {
    "vscode": {
     "languageId": "r"
    }
   },
   "outputs": [
    {
     "data": {
      "text/html": [
       "FALSE"
      ],
      "text/latex": [
       "FALSE"
      ],
      "text/markdown": [
       "FALSE"
      ],
      "text/plain": [
       "[1] FALSE"
      ]
     },
     "metadata": {},
     "output_type": "display_data"
    }
   ],
   "source": [
    "t > tc"
   ]
  },
  {
   "cell_type": "code",
   "execution_count": 12,
   "metadata": {
    "vscode": {
     "languageId": "r"
    }
   },
   "outputs": [
    {
     "data": {
      "image/png": "[encoded data removed]",
      "text/plain": [
       "plot without title"
      ]
     },
     "metadata": {
      "image/png": {
       "height": 420,
       "width": 420
      }
     },
     "output_type": "display_data"
    }
   ],
   "source": [
    "x <- seq(-4, 4, 0.01)\n",
    "d1 <- dt(x, df = n- 1)\n",
    "\n",
    "plot(x, d1, t = \"l\")\n",
    "\n",
    "# t0.05(2)340\n",
    "abline(v = tc, col = \"red\")\n",
    "abline(v = t, col = \"blue\")"
   ]
  },
  {
   "cell_type": "code",
   "execution_count": 16,
   "metadata": {
    "vscode": {
     "languageId": "r"
    }
   },
   "outputs": [
    {
     "data": {
      "text/plain": [
       "\n",
       "\tPaired t-test\n",
       "\n",
       "data:  despues and antes\n",
       "t = 1.6948, df = 8, p-value = 0.06428\n",
       "alternative hypothesis: true mean difference is greater than 250\n",
       "95 percent confidence interval:\n",
       " 245.571     Inf\n",
       "sample estimates:\n",
       "mean difference \n",
       "       295.5556 \n"
      ]
     },
     "metadata": {},
     "output_type": "display_data"
    }
   ],
   "source": [
    "t.test(despues, antes, paired = TRUE, alternative = \"greater\", mu = 250)"
   ]
  }
 ],
 "metadata": {
  "kernelspec": {
   "display_name": "R",
   "language": "R",
   "name": "ir"
  },
  "language_info": {
   "codemirror_mode": "r",
   "file_extension": ".r",
   "mimetype": "text/x-r-source",
   "name": "R",
   "pygments_lexer": "r",
   "version": "4.4.1"
  }
 },
 "nbformat": 4,
 "nbformat_minor": 2
}
